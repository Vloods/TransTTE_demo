{
 "cells": [
  {
   "cell_type": "code",
   "execution_count": null,
   "id": "2984ea07",
   "metadata": {},
   "outputs": [],
   "source": [
    "import pandas as pd\n",
    "import json\n",
    "from tqdm import tqdm\n",
    "import plotly.express as px\n",
    "from pathlib import Path\n",
    "\n",
    "def day_period(routes):\n",
    "    index = pd.DatetimeIndex(routes['start_timestamp'])\n",
    "    routes['day_period'] = -1\n",
    "    routes.loc[index.indexer_between_time('00:00', '06:00'), 'day_period'] = 0\n",
    "    routes.loc[index.indexer_between_time('06:00', '11:00'), 'day_period'] = 1\n",
    "    routes.loc[index.indexer_between_time('11:00', '19:00'), 'day_period'] = 2\n",
    "    routes.loc[index.indexer_between_time('19:00', '00:00'), 'day_period'] = 3\n",
    "    return routes\n",
    "\n",
    "def week_period(clear): # that's hell, i know\n",
    "    clear['week_period'] = -1\n",
    "    clear.loc[('2021-01-01' <= clear['start_timestamp']) & (clear['start_timestamp'] <= '2021-01-02'), 'week_period'] = 1\n",
    "    clear.loc[('2020-12-31' <= clear['start_timestamp']) & (clear['start_timestamp'] <= '2021-01-01'), 'week_period'] = 1\n",
    "    clear.loc[('2020-12-30' <= clear['start_timestamp']) & (clear['start_timestamp'] <= '2020-12-31'), 'week_period'] = 0\n",
    "    clear.loc[('2020-12-29' <= clear['start_timestamp']) & (clear['start_timestamp'] <= '2020-12-30'), 'week_period'] = 0\n",
    "    clear.loc[('2020-12-28' <= clear['start_timestamp']) & (clear['start_timestamp'] <= '2020-12-29'), 'week_period'] = 0\n",
    "    clear.loc[('2020-12-27' <= clear['start_timestamp']) & (clear['start_timestamp'] <= '2020-12-28'), 'week_period'] = 1\n",
    "    clear.loc[('2020-12-26' <= clear['start_timestamp']) & (clear['start_timestamp'] <= '2020-12-27'), 'week_period'] = 1\n",
    "    clear.loc[('2020-12-25' <= clear['start_timestamp']) & (clear['start_timestamp'] <= '2020-12-26'), 'week_period'] = 0\n",
    "    clear.loc[('2020-12-24' <= clear['start_timestamp']) & (clear['start_timestamp'] <= '2020-12-25'), 'week_period'] = 0\n",
    "    clear.loc[('2020-12-23' <= clear['start_timestamp']) & (clear['start_timestamp'] <= '2020-12-24'), 'week_period'] = 0\n",
    "    clear.loc[('2020-12-22' <= clear['start_timestamp']) & (clear['start_timestamp'] <= '2020-12-23'), 'week_period'] = 0\n",
    "    clear.loc[('2020-12-21' <= clear['start_timestamp']) & (clear['start_timestamp'] <= '2020-12-22'), 'week_period'] = 0\n",
    "    clear.loc[('2020-12-20' <= clear['start_timestamp']) & (clear['start_timestamp'] <= '2020-12-21'), 'week_period'] = 1\n",
    "    clear.loc[('2020-12-19' <= clear['start_timestamp']) & (clear['start_timestamp'] <= '2020-12-20'), 'week_period'] = 1\n",
    "    clear.loc[('2020-12-18' <= clear['start_timestamp']) & (clear['start_timestamp'] <= '2020-12-19'), 'week_period'] = 0\n",
    "    clear.loc[('2020-12-17' <= clear['start_timestamp']) & (clear['start_timestamp'] <= '2020-12-18'), 'week_period'] = 0\n",
    "    clear.loc[('2020-12-16' <= clear['start_timestamp']) & (clear['start_timestamp'] <= '2020-12-17'), 'week_period'] = 0\n",
    "    clear.loc[('2020-12-15' <= clear['start_timestamp']) & (clear['start_timestamp'] <= '2020-12-16'), 'week_period'] = 0\n",
    "    clear.loc[('2020-12-14' <= clear['start_timestamp']) & (clear['start_timestamp'] <= '2020-12-15'), 'week_period'] = 0\n",
    "    clear.loc[('2020-12-13' <= clear['start_timestamp']) & (clear['start_timestamp'] <= '2020-12-14'), 'week_period'] = 1\n",
    "    clear.loc[('2020-12-12' <= clear['start_timestamp']) & (clear['start_timestamp'] <= '2020-12-13'), 'week_period'] = 1\n",
    "    clear.loc[('2020-12-11' <= clear['start_timestamp']) & (clear['start_timestamp'] <= '2020-12-12'), 'week_period'] = 0\n",
    "    clear.loc[('2020-12-10' <= clear['start_timestamp']) & (clear['start_timestamp'] <= '2020-12-11'), 'week_period'] = 0\n",
    "    clear.loc[('2020-12-09' <= clear['start_timestamp']) & (clear['start_timestamp'] <= '2020-12-10'), 'week_period'] = 0\n",
    "    clear.loc[('2020-12-08' <= clear['start_timestamp']) & (clear['start_timestamp'] <= '2020-12-09'), 'week_period'] = 0\n",
    "    clear.loc[('2020-12-07' <= clear['start_timestamp']) & (clear['start_timestamp'] <= '2020-12-08'), 'week_period'] = 0\n",
    "    clear.loc[('2020-12-06' <= clear['start_timestamp']) & (clear['start_timestamp'] <= '2020-12-07'), 'week_period'] = 1\n",
    "    clear.loc[('2020-12-05' <= clear['start_timestamp']) & (clear['start_timestamp'] <= '2020-12-06'), 'week_period'] = 1\n",
    "    clear.loc[('2020-12-04' <= clear['start_timestamp']) & (clear['start_timestamp'] <= '2020-12-15'), 'week_period'] = 0\n",
    "    clear.loc[('2020-12-03' <= clear['start_timestamp']) & (clear['start_timestamp'] <= '2020-12-04'), 'week_period'] = 0\n",
    "    clear.loc[('2020-12-02' <= clear['start_timestamp']) & (clear['start_timestamp'] <= '2020-12-03'), 'week_period'] = 0\n",
    "    clear.loc[('2020-12-01' <= clear['start_timestamp']) & (clear['start_timestamp'] <= '2020-12-02'), 'week_period'] = 0\n",
    "    clear.loc[('2020-11-30' <= clear['start_timestamp']) & (clear['start_timestamp'] <= '2020-12-01'), 'week_period'] = 0\n",
    "    return clear\n",
    "\n",
    "def weather_period(clear, prop, values):\n",
    "    clear[prop] = -1    \n",
    "    \n",
    "    night = pd.DatetimeIndex(clear['start_timestamp']).indexer_between_time('00:00', '11:00')\n",
    "    day = pd.DatetimeIndex(clear['start_timestamp']).indexer_between_time('11:00', '19:00')\n",
    "    evening = pd.DatetimeIndex(clear['start_timestamp']).indexer_between_time('19:00', '06:00')\n",
    "    parts = [night, day, evening]\n",
    "    v_index = 0\n",
    "    dates = ['2020-12-01', '2020-12-02', '2020-12-03', '2020-12-04', '2020-12-05', '2020-12-06','2020-12-07', '2020-12-08', \n",
    "             '2020-12-09', '2020-12-10', '2020-12-11', '2020-12-12', '2020-12-13', '2020-12-14', '2020-12-15', '2020-12-16', '2020-12-17',\n",
    "             '2020-12-18', '2020-12-19', '2020-12-20', '2020-12-21', '2020-12-22', '2020-12-23', '2020-12-24', '2020-12-25', '2020-12-26', \n",
    "             '2020-12-27', '2020-12-28', '2020-12-29', '2020-12-30', '2020-12-31'] # and this is too \n",
    "    for j in range(len(dates) - 1):\n",
    "        for i in range(len(parts)):\n",
    "            s = (dates[j] <= clear.loc[parts[i], 'start_timestamp']) & (clear.loc[parts[i], 'start_timestamp'] <= dates[j+1])\n",
    "            clear.loc[(s)[s].index, prop] = values[v_index]\n",
    "            if (i+2 != len(parts)):\n",
    "                v_index += 1\n",
    "\n",
    "    return clear"
   ]
  },
  {
   "cell_type": "code",
   "execution_count": null,
   "id": "d18c1a2d",
   "metadata": {},
   "outputs": [],
   "source": [
    "routes = pd.read_csv(\"routes.csv\")"
   ]
  },
  {
   "cell_type": "code",
   "execution_count": null,
   "id": "9b3a941d",
   "metadata": {},
   "outputs": [],
   "source": [
    "routes = week_period(day_period(routes)"
   ]
  },
  {
   "cell_type": "code",
   "execution_count": null,
   "id": "c6bf2c93",
   "metadata": {},
   "outputs": [],
   "source": [
    "# Здесь не хватает скорости ветра, которую также можно достать из данных Гисметео\n",
    "\n",
    "weather = pd.read_csv(\"weather.csv\", sep = \";\")\n",
    "\n",
    "clouds_moscow__day = weather[\"cloud\"].to_list()\n",
    "snow_moscow_day = weather[\"weather\"].to_list()\n",
    "temp_moscow_day = weather[\"temp\"].to_list()\n",
    "wind_moscow_day = weather[\"windDir(from)\"].to_list()\n",
    "press_moscow_day = weather[\"pressure\"].to_list() \n",
    "\n",
    "clouds_moscow_night = weather[\"cloud.1\"].to_list()\n",
    "snow_moscow_night = weather[\"weather.1\"].to_list()\n",
    "temp_moscow_night = weather[\"temp.1\"].to_list()\n",
    "wind_moscow_night = weather[\"windDir(from).1\"].to_list()\n",
    "press_moscow_night = weather[\"pressure.1\"].to_list()\n",
    "\n",
    "def weather_merger(day, night):\n",
    "    result = []\n",
    "    for i in range(len(day)):\n",
    "        result.append(day[i])\n",
    "        result.append(night[i])\n",
    "    return result\n",
    "\n",
    "clouds_moscow = weather_merger(clouds_moscow_day, clouds_moscow_night)\n",
    "snow_moscow = weather_merger(snow_moscow_day, snow_moscow_night)\n",
    "temp_moscow = weather_merger(temp_moscow_day, temp_moscow_night)\n",
    "wind_moscow = weather_merger(wind_moscow_day, wind_moscow_night)\n",
    "press_moscow = weather_merger(press_moscow_day, press_moscow_night)\n",
    "\n",
    "props = ['clouds', 'snow', 'temperature', 'wind', 'pressure']\n",
    "vals_moscow = [clouds_moscow, snow_moscow, temp_moscow, wind_moscow, press_moscow]"
   ]
  },
  {
   "cell_type": "code",
   "execution_count": null,
   "id": "c55e2a92",
   "metadata": {},
   "outputs": [],
   "source": [
    "for i in tqdm(range(len(props))):\n",
    "    final = weather_period(final, props[i], vals_moscow[i])"
   ]
  },
  {
   "cell_type": "code",
   "execution_count": null,
   "id": "28632327",
   "metadata": {},
   "outputs": [],
   "source": [
    "final.to_csv(\"final.csv\")"
   ]
  }
 ],
 "metadata": {
  "kernelspec": {
   "display_name": "Python 3",
   "language": "python",
   "name": "python3"
  },
  "language_info": {
   "codemirror_mode": {
    "name": "ipython",
    "version": 3
   },
   "file_extension": ".py",
   "mimetype": "text/x-python",
   "name": "python",
   "nbconvert_exporter": "python",
   "pygments_lexer": "ipython3",
   "version": "3.8.8"
  }
 },
 "nbformat": 4,
 "nbformat_minor": 5
}
