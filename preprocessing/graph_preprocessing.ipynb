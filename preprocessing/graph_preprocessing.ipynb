{
 "cells": [
  {
   "cell_type": "code",
   "execution_count": 25,
   "id": "accepted-equity",
   "metadata": {
    "id": "UYLqkB_hZFa8"
   },
   "outputs": [],
   "source": [
    "import multiprocessing as mp\n",
    "import psutil\n",
    "import pickle\n",
    "import time\n",
    "import sys\n",
    "\n",
    "import pandas as pd\n",
    "import numpy as np\n",
    "from tqdm.notebook import tqdm"
   ]
  },
  {
   "cell_type": "code",
   "execution_count": 2,
   "id": "distributed-province",
   "metadata": {
    "colab": {
     "base_uri": "https://localhost:8080/"
    },
    "id": "S_HY7Lf8XvRD",
    "outputId": "b1c6a224-606b-4312-f591-d7020cba9283"
   },
   "outputs": [
    {
     "name": "stdout",
     "output_type": "stream",
     "text": [
      "Mounted at /content/drive\n"
     ]
    }
   ],
   "source": [
    "# from google.colab import drive\n",
    "# drive.mount('/content/drive')"
   ]
  },
  {
   "cell_type": "code",
   "execution_count": null,
   "id": "utility-obligation",
   "metadata": {
    "colab": {
     "base_uri": "https://localhost:8080/"
    },
    "id": "suitable-reflection",
    "outputId": "b08cd07c-b9fb-42cb-fea3-74ee44e12b9a"
   },
   "outputs": [
    {
     "name": "stdout",
     "output_type": "stream",
     "text": [
      "Moscow_mkad.osm.xz (1/1)\n",
      "xz: Moscow_mkad.osm.xz: No such file or directory\n"
     ]
    }
   ],
   "source": [
    "# !xz -d -v Moscow_mkad.osm.xz"
   ]
  },
  {
   "cell_type": "code",
   "execution_count": 26,
   "id": "cutting-notice",
   "metadata": {
    "id": "disturbed-banner"
   },
   "outputs": [],
   "source": [
    "# парсинг XML\n",
    "import xml.etree.ElementTree as ET\n",
    "tree = ET.parse('./Moscow_mkad.osm')\n",
    "root=tree.getroot()\n",
    "element = root[0]"
   ]
  },
  {
   "cell_type": "code",
   "execution_count": 27,
   "id": "french-phrase",
   "metadata": {
    "id": "aqxxeHk2ZVkF"
   },
   "outputs": [],
   "source": [
    "\"\"\"\n",
    "Создание матрицы высота\n",
    "Минимум: 75\n",
    "Максимум: 317\n",
    "Генерация np матрицы высот\n",
    "\"\"\"\n",
    "cell_size = 0.00083333333333333\n",
    "lat_start = 55.0\n",
    "lon_start = 35.0\n",
    "\n",
    "matrix_of_heights = []\n",
    "with open('./srtm_44_01.asc') as f:\n",
    "    data_str = f.readlines()\n",
    "\n",
    "for row in data_str[6:]:\n",
    "    row_list = list(map(int, row.split()))\n",
    "    matrix_of_heights.append(row_list)\n",
    "\n",
    "del row_list\n",
    "del data_str\n",
    "\n",
    "matrix_of_heights = np.array(matrix_of_heights, np.ushort)\n"
   ]
  },
  {
   "cell_type": "code",
   "execution_count": 28,
   "id": "incorporate-poland",
   "metadata": {
    "colab": {
     "base_uri": "https://localhost:8080/"
    },
    "id": "cfFcdLr6ZmqN",
    "outputId": "adfc3223-afef-4587-fce0-f35d8597d23d"
   },
   "outputs": [
    {
     "data": {
      "text/plain": [
       "157.66666666666666"
      ]
     },
     "execution_count": 28,
     "metadata": {},
     "output_type": "execute_result"
    }
   ],
   "source": [
    "def haversine_np(lon1, lat1, lon2, lat2):\n",
    "    \"\"\"\n",
    "    Calculate the great circle distance between two points\n",
    "    on the earth (specified in decimal degrees)\n",
    "\n",
    "    All args must be of equal length.    \n",
    "\n",
    "    \"\"\"\n",
    "    lon1, lat1, lon2, lat2 = map(np.radians, [lon1, lat1, lon2, lat2])\n",
    "\n",
    "    dlon = lon2 - lon1\n",
    "    dlat = lat2 - lat1\n",
    "\n",
    "    a = np.sin(dlat/2.0)**2 + np.cos(lat1) * np.cos(lat2) * np.sin(dlon/2.0)**2\n",
    "\n",
    "    c = 2 * np.arcsin(np.sqrt(a))\n",
    "    m = 6367 * c * 1000\n",
    "    return m\n",
    "\n",
    "\n",
    "def get_height(lat: float, lon: float) -> float:\n",
    "    \"\"\"\n",
    "    Получение высоты над уровнем моря по координатам\n",
    "    :param lat: Долгота точки\n",
    "    :param lon: Широта точки\n",
    "    :return: Высота над уровнем моря\n",
    "    \"\"\"\n",
    "    semi_x = (lat - lat_start) / cell_size\n",
    "    semi_y = (lon - lon_start) / cell_size\n",
    "    if semi_x > 6000 or semi_y > 6000:\n",
    "        raise Exception('Out of bounds, not in Moscow')\n",
    "\n",
    "    points = [matrix_of_heights[int(np.floor(semi_x)), int(np.floor(semi_y))],\n",
    "              matrix_of_heights[int(np.floor(semi_x)), int(np.ceil(semi_y))],\n",
    "              matrix_of_heights[int(np.ceil(semi_x)), int(np.floor(semi_y))],\n",
    "              matrix_of_heights[int(np.ceil(semi_x)), int(np.ceil(semi_y))]]\n",
    "    floor_lat = np.floor(semi_x) * cell_size + lat_start\n",
    "    floor_lon = np.floor(semi_y) * cell_size + lon_start\n",
    "    ceil_lat = np.ceil(semi_x) * cell_size + lat_start\n",
    "    ceil_lon = np.ceil(semi_y) * cell_size + lon_start\n",
    "    coordinates = [[floor_lat, floor_lon], [floor_lat, ceil_lon], [ceil_lat, floor_lon],\n",
    "                   [ceil_lat, ceil_lon]]\n",
    "    idx_min, min_ = 0, 200\n",
    "    for idx, point in enumerate(coordinates):\n",
    "        dist_ = haversine_np(lon, lat, point[1], point[0])\n",
    "        if dist_ < min_:\n",
    "            min_ = dist_\n",
    "            idx_min = idx\n",
    "    triangle = [points[idx_min-1], points[idx_min], points[(idx_min+1)%4]]\n",
    "    return sum(triangle)/3\n",
    "\n",
    "\n",
    "get_height(55.7558, 37.6173)"
   ]
  },
  {
   "cell_type": "code",
   "execution_count": 29,
   "id": "manual-relationship",
   "metadata": {
    "colab": {
     "base_uri": "https://localhost:8080/",
     "height": 85,
     "referenced_widgets": [
      "927eb9c291394ff4999026376ee6c511",
      "7fe6b85199444e6fb64ce1a4eb5fc759",
      "a97d50b087264f2e9dcb0bd0a5daa36a",
      "7ffb14d65ce1414ab63c08ada1889f4a",
      "14a14b2678e54e9c927476459272d9e2",
      "a9c3873656aa455a85cd73d7349f2232",
      "230750ef147c4a4b93d7e642511ba3b0",
      "72776b637d0f4273a56945e97483f835"
     ]
    },
    "id": "hourly-review",
    "outputId": "fccc2fb3-13a6-4994-f803-ed12f4e6ec8b"
   },
   "outputs": [
    {
     "data": {
      "application/vnd.jupyter.widget-view+json": {
       "model_id": "e7ade049b7ef4945805b917ba74c61f9",
       "version_major": 2,
       "version_minor": 0
      },
      "text/plain": [
       "HBox(children=(HTML(value=''), FloatProgress(value=0.0, max=3972445.0), HTML(value='')))"
      ]
     },
     "metadata": {},
     "output_type": "display_data"
    },
    {
     "name": "stdout",
     "output_type": "stream",
     "text": [
      "\n",
      "Edges: 250,642, Nodes: 3,269,157\n"
     ]
    }
   ],
   "source": [
    "\"\"\"\n",
    " Генерация листа эджей формата \n",
    " [{\"nodes\": [], \"highway\":\"\", \"surface\":\"asphalt\", \"lanes\":1, \"width\":2}]\n",
    " А также листа нод формата [{id, lat, lon}]\n",
    "\"\"\"\n",
    "nodes = []\n",
    "edges = []\n",
    "for i in tqdm(range(1, len(root))):\n",
    "    obj = root[i]\n",
    "    if obj.tag == 'node':\n",
    "        nodes.append({'id': obj.attrib['id'], \n",
    "                      'lat': obj.attrib['lat'], 'lon': obj.attrib['lon']})\n",
    "    if obj.tag == 'way':\n",
    "        tmp = {\"nodes\": [], \"highway\":\"\", \"surface\":\"asphalt\", \"lanes\":1, \n",
    "               \"width\":2}\n",
    "        ok = False\n",
    "        for child in obj:\n",
    "            if child.tag == 'nd':\n",
    "                tmp['nodes'].append(child.attrib[\"ref\"])\n",
    "            if child.tag == 'tag':\n",
    "              if child.attrib['k'] == 'highway':\n",
    "                ok = True\n",
    "              if child.attrib['k'] in tmp:\n",
    "                  tmp[child.attrib['k']] = child.attrib['v']\n",
    "        if ok and tmp['highway'] in ['pedestrian', 'bridleway', 'cycleway', \n",
    "                                     'footway', 'living_street', 'path', \n",
    "                                     'steps', 'residential', 'service']:\n",
    "            edges.append(tmp)\n",
    "\n",
    "print(f'Edges: {len(edges):,}, Nodes: {len(nodes):,}')"
   ]
  },
  {
   "cell_type": "code",
   "execution_count": 7,
   "id": "reasonable-foster",
   "metadata": {
    "colab": {
     "base_uri": "https://localhost:8080/"
    },
    "id": "bHCbx3-ah_A0",
    "outputId": "ef04010b-2e7e-4a2c-c52f-a05d9802b8eb"
   },
   "outputs": [],
   "source": [
    "# Удаления парсера XML\n",
    "del tree\n",
    "del root"
   ]
  },
  {
   "cell_type": "code",
   "execution_count": 38,
   "id": "opponent-promotion",
   "metadata": {
    "id": "altered-casting"
   },
   "outputs": [],
   "source": [
    "# словарь айди_ноды: её координаты\n",
    "id2cor = {}\n",
    "\n",
    "for i in nodes:\n",
    "    id2cor[int(i['id'])] = {'lat': float(i['lat']), 'lon': float(i['lon'])}"
   ]
  },
  {
   "cell_type": "code",
   "execution_count": 31,
   "id": "similar-skill",
   "metadata": {
    "colab": {
     "base_uri": "https://localhost:8080/",
     "height": 600,
     "referenced_widgets": [
      "fcdf7c1392204cbebb572035e76082f5",
      "3f68f13f338e4fed82640c015824939b",
      "5814c09bde974fcda7fe3a56c8a2db0f",
      "dafd9dd15ca34cd7afcb9ee580ae2a2b",
      "43d6fa0a75314112ba43213b5097ba1b",
      "8cfff0b0682544b3be27ff2b2feec3aa",
      "06f460e11e914505ab1a00efc7d26616",
      "6c0310f6b7c845a5987e16462443b3c9"
     ]
    },
    "id": "quantitative-boost",
    "outputId": "7a312e5e-1e8b-4855-bdc2-242c66d5c776"
   },
   "outputs": [
    {
     "data": {
      "application/vnd.jupyter.widget-view+json": {
       "model_id": "71767a3e3be64cea9bf6a041f1d0ae14",
       "version_major": 2,
       "version_minor": 0
      },
      "text/plain": [
       "HBox(children=(HTML(value=''), FloatProgress(value=0.0, max=250642.0), HTML(value='')))"
      ]
     },
     "metadata": {},
     "output_type": "display_data"
    },
    {
     "name": "stdout",
     "output_type": "stream",
     "text": [
      "\n"
     ]
    },
    {
     "data": {
      "text/plain": [
       "[{'edge_id': 22,\n",
       "  'id1': 5361369319,\n",
       "  'id2': 5170048255,\n",
       "  'dist': 67.93649407217399,\n",
       "  'highway': 'residential',\n",
       "  'surface': 'asphalt',\n",
       "  'lanes': 1,\n",
       "  'width': 2.0,\n",
       "  'hight1': 110.0,\n",
       "  'hight2': 110.0},\n",
       " {'edge_id': 23,\n",
       "  'id1': 5170048255,\n",
       "  'id2': 5361369240,\n",
       "  'dist': 188.34466560928217,\n",
       "  'highway': 'residential',\n",
       "  'surface': 'asphalt',\n",
       "  'lanes': 1,\n",
       "  'width': 2.0,\n",
       "  'hight1': 110.0,\n",
       "  'hight2': 110.33333333333333},\n",
       " {'edge_id': 24,\n",
       "  'id1': 5361369240,\n",
       "  'id2': 5361369238,\n",
       "  'dist': 68.11161372538463,\n",
       "  'highway': 'residential',\n",
       "  'surface': 'asphalt',\n",
       "  'lanes': 1,\n",
       "  'width': 2.0,\n",
       "  'hight1': 110.33333333333333,\n",
       "  'hight2': 111.0}]"
      ]
     },
     "execution_count": 31,
     "metadata": {},
     "output_type": "execute_result"
    }
   ],
   "source": [
    "# Генерация листа словарей edge\n",
    "# Медленная!\n",
    "count = 0\n",
    "edge_list = []\n",
    "for edge in tqdm(edges):\n",
    "    for i in range(len(edge['nodes'])-1):\n",
    "      node_1 = id2cor[edge['nodes'][i]]\n",
    "      node_2 = id2cor[edge['nodes'][i+1]]\n",
    "      lon1 = float(node_1['lon'])\n",
    "      lat1 = float(node_1['lat'])\n",
    "      lon2 = float(node_2['lon'])\n",
    "      lat2 = float(node_2['lat']) \n",
    "      dist = haversine_np(lon1, lat1, lon2, lat2)\n",
    "      hight1 = get_height(lat1, lon1)\n",
    "      hight2 = get_height(lat2, lon2)\n",
    "      if isinstance(edge['width'], str):\n",
    "        try:\n",
    "          width_f = float(edge['width'])\n",
    "        except ValueError:\n",
    "          width_f = 1\n",
    "      else:\n",
    "        width_f = float(edge['width'])\n",
    "\n",
    "      edge_list.append({\"edge_id\":count, \"id1\":int(edge['nodes'][i]), \n",
    "                        \"id2\":int(edge['nodes'][i+1]), \"dist\": dist, \n",
    "                        \"highway\": edge['highway'], \"surface\":edge['surface'], \n",
    "                        \"lanes\": int(edge['lanes']), \"width\":width_f, \n",
    "                        'hight1': hight1, 'hight2': hight2})\n",
    "      count += 1\n",
    "  \n",
    "edge_list[22:25]"
   ]
  },
  {
   "cell_type": "code",
   "execution_count": 32,
   "id": "specified-picnic",
   "metadata": {
    "colab": {
     "base_uri": "https://localhost:8080/",
     "height": 206
    },
    "id": "chinese-extent",
    "outputId": "18d77a55-6fe3-4431-950b-1b686c0413aa"
   },
   "outputs": [
    {
     "data": {
      "text/html": [
       "<div>\n",
       "<style scoped>\n",
       "    .dataframe tbody tr th:only-of-type {\n",
       "        vertical-align: middle;\n",
       "    }\n",
       "\n",
       "    .dataframe tbody tr th {\n",
       "        vertical-align: top;\n",
       "    }\n",
       "\n",
       "    .dataframe thead th {\n",
       "        text-align: right;\n",
       "    }\n",
       "</style>\n",
       "<table border=\"1\" class=\"dataframe\">\n",
       "  <thead>\n",
       "    <tr style=\"text-align: right;\">\n",
       "      <th></th>\n",
       "      <th>edge_id</th>\n",
       "      <th>id1</th>\n",
       "      <th>id2</th>\n",
       "      <th>dist</th>\n",
       "      <th>highway</th>\n",
       "      <th>surface</th>\n",
       "      <th>lanes</th>\n",
       "      <th>width</th>\n",
       "      <th>hight1</th>\n",
       "      <th>hight2</th>\n",
       "    </tr>\n",
       "  </thead>\n",
       "  <tbody>\n",
       "    <tr>\n",
       "      <th>0</th>\n",
       "      <td>0</td>\n",
       "      <td>858251137</td>\n",
       "      <td>1347901221</td>\n",
       "      <td>42.742844</td>\n",
       "      <td>footway</td>\n",
       "      <td>asphalt</td>\n",
       "      <td>1</td>\n",
       "      <td>2.0</td>\n",
       "      <td>109.000000</td>\n",
       "      <td>109.666667</td>\n",
       "    </tr>\n",
       "    <tr>\n",
       "      <th>1</th>\n",
       "      <td>1</td>\n",
       "      <td>1347901221</td>\n",
       "      <td>1416377962</td>\n",
       "      <td>9.152257</td>\n",
       "      <td>footway</td>\n",
       "      <td>asphalt</td>\n",
       "      <td>1</td>\n",
       "      <td>2.0</td>\n",
       "      <td>109.666667</td>\n",
       "      <td>109.666667</td>\n",
       "    </tr>\n",
       "    <tr>\n",
       "      <th>2</th>\n",
       "      <td>2</td>\n",
       "      <td>1416377962</td>\n",
       "      <td>1347901220</td>\n",
       "      <td>20.770940</td>\n",
       "      <td>footway</td>\n",
       "      <td>asphalt</td>\n",
       "      <td>1</td>\n",
       "      <td>2.0</td>\n",
       "      <td>109.666667</td>\n",
       "      <td>109.333333</td>\n",
       "    </tr>\n",
       "    <tr>\n",
       "      <th>3</th>\n",
       "      <td>3</td>\n",
       "      <td>1347901220</td>\n",
       "      <td>1854100545</td>\n",
       "      <td>7.954432</td>\n",
       "      <td>footway</td>\n",
       "      <td>asphalt</td>\n",
       "      <td>1</td>\n",
       "      <td>2.0</td>\n",
       "      <td>109.333333</td>\n",
       "      <td>109.333333</td>\n",
       "    </tr>\n",
       "    <tr>\n",
       "      <th>4</th>\n",
       "      <td>4</td>\n",
       "      <td>1854100545</td>\n",
       "      <td>1347901219</td>\n",
       "      <td>76.984630</td>\n",
       "      <td>footway</td>\n",
       "      <td>asphalt</td>\n",
       "      <td>1</td>\n",
       "      <td>2.0</td>\n",
       "      <td>109.333333</td>\n",
       "      <td>109.666667</td>\n",
       "    </tr>\n",
       "  </tbody>\n",
       "</table>\n",
       "</div>"
      ],
      "text/plain": [
       "   edge_id         id1         id2       dist  highway  surface  lanes  width  \\\n",
       "0        0   858251137  1347901221  42.742844  footway  asphalt      1    2.0   \n",
       "1        1  1347901221  1416377962   9.152257  footway  asphalt      1    2.0   \n",
       "2        2  1416377962  1347901220  20.770940  footway  asphalt      1    2.0   \n",
       "3        3  1347901220  1854100545   7.954432  footway  asphalt      1    2.0   \n",
       "4        4  1854100545  1347901219  76.984630  footway  asphalt      1    2.0   \n",
       "\n",
       "       hight1      hight2  \n",
       "0  109.000000  109.666667  \n",
       "1  109.666667  109.666667  \n",
       "2  109.666667  109.333333  \n",
       "3  109.333333  109.333333  \n",
       "4  109.333333  109.666667  "
      ]
     },
     "execution_count": 32,
     "metadata": {},
     "output_type": "execute_result"
    }
   ],
   "source": [
    "import pandas as pd\n",
    "graph = pd.DataFrame(edge_list, columns=edge_list[0].keys())\n",
    "graph.to_csv('edge_list.csv', index=False)\n",
    "\n",
    "graph.head()"
   ]
  },
  {
   "cell_type": "code",
   "execution_count": 39,
   "id": "damaged-shelf",
   "metadata": {
    "colab": {
     "base_uri": "https://localhost:8080/",
     "height": 67,
     "referenced_widgets": [
      "2dc16b4378df4afc8cea92e70050c7c0",
      "5fc3b4f164f2494baa6e7e5466f96322",
      "f82db8ed3d9648a68a08df82a3dfc746",
      "dd56824527e04d718751b4617c6bc567",
      "46a0d0eac6c245ccbb54a9adbbf0b3d7",
      "8a517f3c59344bd384787aef20d76d7d",
      "65ff5696c877449787dc037d3278c2d8",
      "dcb08c74786143a3bcbbf230061d26bf"
     ]
    },
    "id": "otherwise-listening",
    "outputId": "d8561602-6366-4ca7-f7bd-3b1d7f6edc62"
   },
   "outputs": [
    {
     "data": {
      "application/vnd.jupyter.widget-view+json": {
       "model_id": "c205eaac7778474aafb26ff76c363fe5",
       "version_major": 2,
       "version_minor": 0
      },
      "text/plain": [
       "HBox(children=(HTML(value=''), FloatProgress(value=0.0, max=992193.0), HTML(value='')))"
      ]
     },
     "metadata": {},
     "output_type": "display_data"
    },
    {
     "name": "stdout",
     "output_type": "stream",
     "text": [
      "\n"
     ]
    }
   ],
   "source": [
    "# Генерация локации еджа\n",
    "edge_cors = []\n",
    "for i in tqdm(range(len(graph))):\n",
    "    cor1 = np.array([id2cor[graph.id1.iloc[i]]['lat'], id2cor[graph.id1.iloc[i]]['lon']])\n",
    "    cor2 = np.array([id2cor[graph.id2.iloc[i]]['lat'], id2cor[graph.id2.iloc[i]]['lon']])\n",
    "    cor = (np.sum([cor1, cor2], axis=0)) / 2\n",
    "    edge_cors.append(cor)"
   ]
  },
  {
   "cell_type": "code",
   "execution_count": 41,
   "id": "expanded-samoa",
   "metadata": {},
   "outputs": [
    {
     "data": {
      "text/plain": [
       "[array([55.8832217, 37.460129 ]),\n",
       " array([55.8832634 , 37.45972165]),\n",
       " array([55.88319405, 37.45953315]),\n",
       " array([55.88310695, 37.45936455]),\n",
       " array([55.8827412, 37.4593314])]"
      ]
     },
     "execution_count": 41,
     "metadata": {},
     "output_type": "execute_result"
    }
   ],
   "source": [
    "edge_cors[:5]"
   ]
  },
  {
   "cell_type": "code",
   "execution_count": 44,
   "id": "initial-stationery",
   "metadata": {},
   "outputs": [
    {
     "data": {
      "text/html": [
       "<div>\n",
       "<style scoped>\n",
       "    .dataframe tbody tr th:only-of-type {\n",
       "        vertical-align: middle;\n",
       "    }\n",
       "\n",
       "    .dataframe tbody tr th {\n",
       "        vertical-align: top;\n",
       "    }\n",
       "\n",
       "    .dataframe thead th {\n",
       "        text-align: right;\n",
       "    }\n",
       "</style>\n",
       "<table border=\"1\" class=\"dataframe\">\n",
       "  <thead>\n",
       "    <tr style=\"text-align: right;\">\n",
       "      <th></th>\n",
       "      <th>edge_id</th>\n",
       "      <th>id1</th>\n",
       "      <th>id2</th>\n",
       "      <th>dist</th>\n",
       "      <th>highway</th>\n",
       "      <th>surface</th>\n",
       "      <th>lanes</th>\n",
       "      <th>width</th>\n",
       "      <th>hight1</th>\n",
       "      <th>hight2</th>\n",
       "      <th>lat</th>\n",
       "      <th>lon</th>\n",
       "    </tr>\n",
       "  </thead>\n",
       "  <tbody>\n",
       "    <tr>\n",
       "      <th>0</th>\n",
       "      <td>0</td>\n",
       "      <td>858251137</td>\n",
       "      <td>1347901221</td>\n",
       "      <td>42.742844</td>\n",
       "      <td>footway</td>\n",
       "      <td>asphalt</td>\n",
       "      <td>1</td>\n",
       "      <td>2.0</td>\n",
       "      <td>109.000000</td>\n",
       "      <td>109.666667</td>\n",
       "      <td>55.883222</td>\n",
       "      <td>37.460129</td>\n",
       "    </tr>\n",
       "    <tr>\n",
       "      <th>1</th>\n",
       "      <td>1</td>\n",
       "      <td>1347901221</td>\n",
       "      <td>1416377962</td>\n",
       "      <td>9.152257</td>\n",
       "      <td>footway</td>\n",
       "      <td>asphalt</td>\n",
       "      <td>1</td>\n",
       "      <td>2.0</td>\n",
       "      <td>109.666667</td>\n",
       "      <td>109.666667</td>\n",
       "      <td>55.883263</td>\n",
       "      <td>37.459722</td>\n",
       "    </tr>\n",
       "    <tr>\n",
       "      <th>2</th>\n",
       "      <td>2</td>\n",
       "      <td>1416377962</td>\n",
       "      <td>1347901220</td>\n",
       "      <td>20.770940</td>\n",
       "      <td>footway</td>\n",
       "      <td>asphalt</td>\n",
       "      <td>1</td>\n",
       "      <td>2.0</td>\n",
       "      <td>109.666667</td>\n",
       "      <td>109.333333</td>\n",
       "      <td>55.883194</td>\n",
       "      <td>37.459533</td>\n",
       "    </tr>\n",
       "    <tr>\n",
       "      <th>3</th>\n",
       "      <td>3</td>\n",
       "      <td>1347901220</td>\n",
       "      <td>1854100545</td>\n",
       "      <td>7.954432</td>\n",
       "      <td>footway</td>\n",
       "      <td>asphalt</td>\n",
       "      <td>1</td>\n",
       "      <td>2.0</td>\n",
       "      <td>109.333333</td>\n",
       "      <td>109.333333</td>\n",
       "      <td>55.883107</td>\n",
       "      <td>37.459365</td>\n",
       "    </tr>\n",
       "    <tr>\n",
       "      <th>4</th>\n",
       "      <td>4</td>\n",
       "      <td>1854100545</td>\n",
       "      <td>1347901219</td>\n",
       "      <td>76.984630</td>\n",
       "      <td>footway</td>\n",
       "      <td>asphalt</td>\n",
       "      <td>1</td>\n",
       "      <td>2.0</td>\n",
       "      <td>109.333333</td>\n",
       "      <td>109.666667</td>\n",
       "      <td>55.882741</td>\n",
       "      <td>37.459331</td>\n",
       "    </tr>\n",
       "  </tbody>\n",
       "</table>\n",
       "</div>"
      ],
      "text/plain": [
       "   edge_id         id1         id2       dist  highway  surface  lanes  width  \\\n",
       "0        0   858251137  1347901221  42.742844  footway  asphalt      1    2.0   \n",
       "1        1  1347901221  1416377962   9.152257  footway  asphalt      1    2.0   \n",
       "2        2  1416377962  1347901220  20.770940  footway  asphalt      1    2.0   \n",
       "3        3  1347901220  1854100545   7.954432  footway  asphalt      1    2.0   \n",
       "4        4  1854100545  1347901219  76.984630  footway  asphalt      1    2.0   \n",
       "\n",
       "       hight1      hight2        lat        lon  \n",
       "0  109.000000  109.666667  55.883222  37.460129  \n",
       "1  109.666667  109.666667  55.883263  37.459722  \n",
       "2  109.666667  109.333333  55.883194  37.459533  \n",
       "3  109.333333  109.333333  55.883107  37.459365  \n",
       "4  109.333333  109.666667  55.882741  37.459331  "
      ]
     },
     "execution_count": 44,
     "metadata": {},
     "output_type": "execute_result"
    }
   ],
   "source": [
    "# Добавление локации еджа в граф\n",
    "graph[\"lat\"] = np.array(edge_cors)[:, 0]\n",
    "graph[\"lon\"] = np.array(edge_cors)[:, 1]\n",
    "\n",
    "graph.head()"
   ]
  },
  {
   "cell_type": "code",
   "execution_count": 43,
   "id": "rotary-license",
   "metadata": {
    "id": "understanding-michigan"
   },
   "outputs": [],
   "source": [
    "graph.to_csv(\"edge_with_location.csv\")"
   ]
  },
  {
   "cell_type": "code",
   "execution_count": 11,
   "id": "satellite-footwear",
   "metadata": {
    "colab": {
     "base_uri": "https://localhost:8080/"
    },
    "id": "leading-exclusive",
    "outputId": "e249843c-403e-4f04-93ab-c8ae9731c92d"
   },
   "outputs": [
    {
     "data": {
      "text/plain": [
       "(array([[         0,  858251137, 1347901221],\n",
       "        [         1, 1347901221, 1416377962]]),\n",
       " 992193)"
      ]
     },
     "execution_count": 11,
     "metadata": {},
     "output_type": "execute_result"
    }
   ],
   "source": [
    "tmp_graph = graph.drop(columns=['highway', 'surface', 'width', 'hight1', 'hight2', 'dist', 'lanes'])\n",
    "graph_np = tmp_graph.values\n",
    "del tmp_graph\n",
    "\n",
    "graph_np[:2], len(graph_np)"
   ]
  },
  {
   "cell_type": "code",
   "execution_count": 3,
   "id": "computational-forestry",
   "metadata": {
    "colab": {
     "base_uri": "https://localhost:8080/",
     "height": 156,
     "referenced_widgets": [
      "999bba204cae47e5929c06f5e185ccb2",
      "fc7bebcbfb084440a108da8fdbe89f52",
      "45f1d7fd88654c3190f702f4f538d33a",
      "971adc8b9ba24fec878d9bf33684b09c",
      "e437413d19b84d0abbf94d2a6e80727b",
      "0ca6f2f3a9c44aadb6916d4ae97edf36",
      "d45e500ae59247018840fcb9bb47a513",
      "d6995c49c5224e6bb5009a0560cd673a"
     ]
    },
    "id": "eNlSbvKd8E31",
    "outputId": "dd21a1eb-9967-40d1-de4e-53dc56468058"
   },
   "outputs": [
    {
     "data": {
      "text/plain": [
       "array([[         0,  858251137, 1347901221],\n",
       "       [         1, 1347901221, 1416377962],\n",
       "       [         2, 1416377962, 1347901220],\n",
       "       [         3, 1347901220, 1854100545],\n",
       "       [         4, 1854100545, 1347901219]], dtype=uint64)"
      ]
     },
     "execution_count": 3,
     "metadata": {},
     "output_type": "execute_result"
    }
   ],
   "source": [
    "# uint\n",
    "# max id: 8912249766\n",
    "# min id: 27717690\n",
    "fast_graph_np = np.genfromtxt('fast_graph.csv', dtype=np.uint, delimiter=',')[1:]\n",
    "# fast_graph_np = []\n",
    "# for edge in tqdm(graph_np):\n",
    "#   fast_graph_np.append([edge[0], int(edge[1]), int(edge[2])])\n",
    "\n",
    "# fast_graph_np = np.array(fast_graph_np, dtype=np.uint)\n",
    "fast_graph_np[:5]"
   ]
  },
  {
   "cell_type": "code",
   "execution_count": 1,
   "id": "accurate-restoration",
   "metadata": {
    "colab": {
     "base_uri": "https://localhost:8080/"
    },
    "id": "SXwXvSRP_0vj",
    "outputId": "291c6a7c-3741-4153-ac7e-780326365184"
   },
   "outputs": [
    {
     "ename": "NameError",
     "evalue": "name 'pd' is not defined",
     "output_type": "error",
     "traceback": [
      "\u001b[0;31m---------------------------------------------------------------------------\u001b[0m",
      "\u001b[0;31mNameError\u001b[0m                                 Traceback (most recent call last)",
      "\u001b[0;32m<ipython-input-1-554572f6e19d>\u001b[0m in \u001b[0;36m<module>\u001b[0;34m\u001b[0m\n\u001b[0;32m----> 1\u001b[0;31m \u001b[0mfast_graph_df\u001b[0m \u001b[0;34m=\u001b[0m \u001b[0mpd\u001b[0m\u001b[0;34m.\u001b[0m\u001b[0mDataFrame\u001b[0m\u001b[0;34m(\u001b[0m\u001b[0mdata\u001b[0m\u001b[0;34m=\u001b[0m\u001b[0mfast_graph_np\u001b[0m\u001b[0;34m)\u001b[0m\u001b[0;34m\u001b[0m\u001b[0;34m\u001b[0m\u001b[0m\n\u001b[0m\u001b[1;32m      2\u001b[0m \u001b[0mfast_graph_df\u001b[0m\u001b[0;34m.\u001b[0m\u001b[0mto_csv\u001b[0m\u001b[0;34m(\u001b[0m\u001b[0;34m'fast_graph.csv'\u001b[0m\u001b[0;34m,\u001b[0m \u001b[0mindex\u001b[0m\u001b[0;34m=\u001b[0m\u001b[0;32mFalse\u001b[0m\u001b[0;34m)\u001b[0m\u001b[0;34m\u001b[0m\u001b[0;34m\u001b[0m\u001b[0m\n\u001b[1;32m      3\u001b[0m \u001b[0mfast_graph_np\u001b[0m\u001b[0;34m[\u001b[0m\u001b[0;34m:\u001b[0m\u001b[0;34m,\u001b[0m\u001b[0;36m1\u001b[0m\u001b[0;34m]\u001b[0m\u001b[0;34m.\u001b[0m\u001b[0mmin\u001b[0m\u001b[0;34m(\u001b[0m\u001b[0;34m)\u001b[0m\u001b[0;34m,\u001b[0m \u001b[0mfast_graph_np\u001b[0m\u001b[0;34m[\u001b[0m\u001b[0;34m:\u001b[0m\u001b[0;34m,\u001b[0m\u001b[0;36m1\u001b[0m\u001b[0;34m]\u001b[0m\u001b[0;34m.\u001b[0m\u001b[0mmax\u001b[0m\u001b[0;34m(\u001b[0m\u001b[0;34m)\u001b[0m\u001b[0;34m,\u001b[0m \u001b[0mfast_graph_np\u001b[0m\u001b[0;34m[\u001b[0m\u001b[0;34m:\u001b[0m\u001b[0;34m,\u001b[0m\u001b[0;36m2\u001b[0m\u001b[0;34m]\u001b[0m\u001b[0;34m.\u001b[0m\u001b[0mmin\u001b[0m\u001b[0;34m(\u001b[0m\u001b[0;34m)\u001b[0m\u001b[0;34m,\u001b[0m \u001b[0mfast_graph_np\u001b[0m\u001b[0;34m[\u001b[0m\u001b[0;34m:\u001b[0m\u001b[0;34m,\u001b[0m\u001b[0;36m2\u001b[0m\u001b[0;34m]\u001b[0m\u001b[0;34m.\u001b[0m\u001b[0mmax\u001b[0m\u001b[0;34m(\u001b[0m\u001b[0;34m)\u001b[0m\u001b[0;34m\u001b[0m\u001b[0;34m\u001b[0m\u001b[0m\n",
      "\u001b[0;31mNameError\u001b[0m: name 'pd' is not defined"
     ]
    }
   ],
   "source": [
    "fast_graph_df = pd.DataFrame(data=fast_graph_np)\n",
    "fast_graph_df.to_csv('fast_graph.csv', index=False)\n",
    "fast_graph_np[:,1].min(), fast_graph_np[:,1].max(), fast_graph_np[:,2].min(), fast_graph_np[:,2].max()"
   ]
  },
  {
   "cell_type": "code",
   "execution_count": 5,
   "id": "occupied-compatibility",
   "metadata": {
    "id": "welcome-soccer"
   },
   "outputs": [
    {
     "name": "stdout",
     "output_type": "stream",
     "text": [
      "11537 96 86 992193\n"
     ]
    },
    {
     "name": "stderr",
     "output_type": "stream",
     "text": [
      "  3%|▎         | 320/11537 [00:28<25:39,  7.29it/s]IOPub message rate exceeded.\n",
      "The notebook server will temporarily stop sending output\n",
      "to the client in order to avoid crashing it.\n",
      "To change this limit, set the config variable\n",
      "`--NotebookApp.iopub_msg_rate_limit`.\n",
      "\n",
      "Current values:\n",
      "NotebookApp.iopub_msg_rate_limit=1000.0 (msgs/sec)\n",
      "NotebookApp.rate_limit_window=3.0 (secs)\n",
      "\n",
      "  7%|▋         | 836/11537 [01:26<20:24,  8.74it/s]  IOPub message rate exceeded.\n",
      "The notebook server will temporarily stop sending output\n",
      "to the client in order to avoid crashing it.\n",
      "To change this limit, set the config variable\n",
      "`--NotebookApp.iopub_msg_rate_limit`.\n",
      "\n",
      "Current values:\n",
      "NotebookApp.iopub_msg_rate_limit=1000.0 (msgs/sec)\n",
      "NotebookApp.rate_limit_window=3.0 (secs)\n",
      "\n",
      "  8%|▊         | 940/11537 [01:33<14:56, 11.81it/s]]IOPub message rate exceeded.\n",
      "The notebook server will temporarily stop sending output\n",
      "to the client in order to avoid crashing it.\n",
      "To change this limit, set the config variable\n",
      "`--NotebookApp.iopub_msg_rate_limit`.\n",
      "\n",
      "Current values:\n",
      "NotebookApp.iopub_msg_rate_limit=1000.0 (msgs/sec)\n",
      "NotebookApp.rate_limit_window=3.0 (secs)\n",
      "\n",
      " 12%|█▏        | 1350/11537 [02:27<23:41,  7.16it/s]  IOPub message rate exceeded.\n",
      "The notebook server will temporarily stop sending output\n",
      "to the client in order to avoid crashing it.\n",
      "To change this limit, set the config variable\n",
      "`--NotebookApp.iopub_msg_rate_limit`.\n",
      "\n",
      "Current values:\n",
      "NotebookApp.iopub_msg_rate_limit=1000.0 (msgs/sec)\n",
      "NotebookApp.rate_limit_window=3.0 (secs)\n",
      "\n",
      " 97%|█████████▋| 11144/11537 [23:17<01:19,  4.94it/s] \n",
      " 98%|█████████▊| 11271/11537 [23:20<00:42,  6.32it/s]IOPub message rate exceeded.\n",
      "The notebook server will temporarily stop sending output\n",
      "to the client in order to avoid crashing it.\n",
      "To change this limit, set the config variable\n",
      "`--NotebookApp.iopub_msg_rate_limit`.\n",
      "\n",
      "Current values:\n",
      "NotebookApp.iopub_msg_rate_limit=1000.0 (msgs/sec)\n",
      "NotebookApp.rate_limit_window=3.0 (secs)\n",
      "\n",
      " 94%|█████████▍| 10851/11537 [23:36<01:12,  9.41it/s]IOPub message rate exceeded.\n",
      "The notebook server will temporarily stop sending output\n",
      "to the client in order to avoid crashing it.\n",
      "To change this limit, set the config variable\n",
      "`--NotebookApp.iopub_msg_rate_limit`.\n",
      "\n",
      "Current values:\n",
      "NotebookApp.iopub_msg_rate_limit=1000.0 (msgs/sec)\n",
      "NotebookApp.rate_limit_window=3.0 (secs)\n",
      "\n",
      " 98%|█████████▊| 11280/11537 [23:49<00:44,  5.72it/s]\n",
      " 97%|█████████▋| 11247/11537 [23:48<00:23, 12.38it/s]\n",
      " 95%|█████████▍| 10953/11537 [23:50<01:05,  8.96it/s]IOPub message rate exceeded.\n",
      "The notebook server will temporarily stop sending output\n",
      "to the client in order to avoid crashing it.\n",
      "To change this limit, set the config variable\n",
      "`--NotebookApp.iopub_msg_rate_limit`.\n",
      "\n",
      "Current values:\n",
      "NotebookApp.iopub_msg_rate_limit=1000.0 (msgs/sec)\n",
      "NotebookApp.rate_limit_window=3.0 (secs)\n",
      "\n",
      "100%|██████████| 11537/11537 [24:14<00:00,  7.93it/s]\n",
      " 99%|█████████▉| 11472/11537 [24:16<00:01, 52.09it/s]\n",
      "\n",
      "100%|██████████| 11537/11537 [24:16<00:00,  7.92it/s]\n",
      "100%|█████████▉| 11535/11537 [24:15<00:00, 56.44it/s]\n",
      "100%|██████████| 11537/11537 [24:15<00:00,  7.92it/s]\n",
      " 99%|█████████▉| 11436/11537 [24:16<00:01, 61.08it/s]\n",
      " 99%|█████████▊| 11384/11537 [24:16<00:02, 59.12it/s]\n",
      " 98%|█████████▊| 11344/11537 [24:16<00:03, 62.17it/s]\n",
      "100%|██████████| 11537/11537 [24:16<00:00,  7.92it/s]\n",
      "100%|██████████| 11537/11537 [24:17<00:00,  7.92it/s]\n",
      " 99%|█████████▊| 11376/11537 [24:17<00:01, 84.55it/s]\n",
      "100%|██████████| 11537/11537 [24:16<00:00,  7.92it/s]]\n",
      "100%|██████████| 11537/11537 [24:17<00:00,  7.92it/s] \n",
      "100%|█████████▉| 11494/11537 [24:17<00:00, 127.33it/s]\n",
      "100%|██████████| 11537/11537 [24:17<00:00,  7.91it/s] \n",
      "100%|██████████| 11537/11537 [24:17<00:00,  7.91it/s] \n",
      "100%|██████████| 11537/11537 [24:18<00:00,  7.91it/s] \n",
      "100%|██████████| 11537/11537 [24:18<00:00,  7.91it/s] \n",
      "100%|█████████▉| 11493/11537 [24:18<00:00, 142.84it/s]"
     ]
    },
    {
     "name": "stdout",
     "output_type": "stream",
     "text": [
      "Done: 0 Done: 1 Done: 2 Done: 3 Done: 4 Done: 5 Done: 6 Done: 7 Done: 8 Done: 9 Done: 10 Done: 11 Done: 12 Done: 13 Done: 14 Done: 15 Done: 16 "
     ]
    },
    {
     "name": "stderr",
     "output_type": "stream",
     "text": [
      "100%|██████████| 11537/11537 [24:17<00:00,  7.92it/s] \n",
      "100%|██████████| 11537/11537 [24:18<00:00,  7.91it/s] \n"
     ]
    },
    {
     "name": "stdout",
     "output_type": "stream",
     "text": [
      "Done: 17 Done: 18 Done: 19 Done: 20 Done: 21 Done: 22 Done: 23 Done: 24 Done: 25 Done: 26 Done: 27 Done: 28 Done: 29 Done: 30 Done: 31 Done: 32 Done: 33 Done: 34 Done: 35 Done: 36 Done: 37 Done: 38 Done: 39 Done: 40 Done: 41 Done: 42 Done: 43 Done: 44 Done: 45 Done: 46 Done: 47 Done: 48 Done: 49 Done: 50 Done: 51 Done: 52 Done: 53 Done: 54 Done: 55 Done: 56 Done: 57 Done: 58 Done: 59 Done: 60 Done: 61 Done: 62 Done: 63 Done: 64 Done: 65 Done: 66 Done: 67 Done: 68 Done: 69 Done: 70 Done: 71 Done: 72 Done: 73 Done: 74 Done: 75 Done: 76 Done: 77 Done: 78 Done: 79 Done: 80 Done: 81 Done: 82 Done: 83 Done: 84 Done: 85 "
     ]
    }
   ],
   "source": [
    "from tqdm import tqdm\n",
    "size = len(fast_graph_np)+1\n",
    "workers_count = mp.cpu_count() - 10\n",
    "part_size = len(fast_graph_np[:size])//workers_count\n",
    "\n",
    "workers_count\n",
    "print(part_size, mp.cpu_count(), workers_count, len(fast_graph_np[:size]))\n",
    "\n",
    "\n",
    "def spawn():\n",
    "    dataframe_list = []\n",
    "    procs = list()\n",
    "    \n",
    "    manager = mp.Manager()\n",
    "    return_list = manager.list()\n",
    "    \n",
    "    for cpu in range(workers_count):\n",
    "        up_border = part_size*(cpu+1)\n",
    "        p = mp.Process(target=run_child, args=(up_border, return_list))\n",
    "        p.start()\n",
    "        procs.append(p)\n",
    "    for idx, p in enumerate(procs):\n",
    "        p.join()\n",
    "        print('Done: {}'.format(idx), end=' ')\n",
    "    \n",
    "    return return_list\n",
    "\n",
    "return_list = spawn()"
   ]
  },
  {
   "cell_type": "code",
   "execution_count": 4,
   "id": "breathing-proceeding",
   "metadata": {},
   "outputs": [],
   "source": [
    "def run_child(up_border, return_list):\n",
    "#     print('Run child: ', up_border, end='\\t')\n",
    "    adj = []\n",
    "\n",
    "    for i in tqdm(range(up_border - part_size, up_border)):\n",
    "        a = fast_graph_np[fast_graph_np[:,2] == fast_graph_np[i,1]][:, 0]\n",
    "        b = fast_graph_np[fast_graph_np[:,1] == fast_graph_np[i,1]][:, 0].tolist()    \n",
    "        b.remove(i)\n",
    "        df = b + a.tolist()    \n",
    "        adj.append(df)\n",
    "\n",
    "        \n",
    "    return_list.extend(adj)\n"
   ]
  },
  {
   "cell_type": "code",
   "execution_count": 6,
   "id": "moving-lender",
   "metadata": {},
   "outputs": [
    {
     "data": {
      "text/plain": [
       "992182"
      ]
     },
     "execution_count": 6,
     "metadata": {},
     "output_type": "execute_result"
    }
   ],
   "source": [
    "adj = list(return_list) \n",
    "len(adj)"
   ]
  },
  {
   "cell_type": "code",
   "execution_count": 13,
   "id": "collaborative-proportion",
   "metadata": {},
   "outputs": [
    {
     "data": {
      "text/plain": [
       "[[311498],\n",
       " [311499],\n",
       " [311500],\n",
       " [311501, 645490],\n",
       " [311480, 311502],\n",
       " [311503],\n",
       " [307926, 307925, 311504],\n",
       " [934535],\n",
       " [934687, 311506, 515208],\n",
       " [934629, 311507, 934628]]"
      ]
     },
     "execution_count": 13,
     "metadata": {},
     "output_type": "execute_result"
    }
   ],
   "source": [
    "# import pickle\n",
    "\n",
    "# with open('adj.pkl', 'wb') as fp:\n",
    "#     pickle.dump(adj, fp, protocol=pickle.HIGHEST_PROTOCOL)\n",
    "adj[:10]"
   ]
  },
  {
   "cell_type": "code",
   "execution_count": 10,
   "id": "fixed-rainbow",
   "metadata": {
    "id": "boolean-robin"
   },
   "outputs": [],
   "source": [
    "# adj_str = cast_to_string(return_list)\n",
    "adj_df = pd.DataFrame(data=adj)"
   ]
  },
  {
   "cell_type": "code",
   "execution_count": 11,
   "id": "filled-planning",
   "metadata": {
    "id": "inner-legislature"
   },
   "outputs": [],
   "source": [
    "adj_df.to_csv('duo_edge.csv', index=False)"
   ]
  },
  {
   "cell_type": "code",
   "execution_count": 7,
   "id": "imposed-progressive",
   "metadata": {
    "id": "medium-bermuda"
   },
   "outputs": [],
   "source": [
    "def cast_to_string(routes_property):\n",
    "    return [str(int).replace(\"[\", \"\").replace(\"]\", \"\") for int in routes_property]"
   ]
  },
  {
   "cell_type": "code",
   "execution_count": null,
   "id": "alive-guitar",
   "metadata": {
    "id": "formed-alabama"
   },
   "outputs": [],
   "source": [
    "adj_str = cast_to_string(adj)\n",
    "adj_df = pd.DataFrame(adj_str, columns = [\"adjacent\"])"
   ]
  },
  {
   "cell_type": "code",
   "execution_count": null,
   "id": "extra-battery",
   "metadata": {
    "id": "mounted-approach"
   },
   "outputs": [],
   "source": [
    "import pickle\n",
    "\n",
    "with open('nodes.pkl', 'wb') as fp:\n",
    "    pickle.dump(nodes, fp, protocol=pickle.HIGHEST_PROTOCOL)"
   ]
  },
  {
   "cell_type": "code",
   "execution_count": null,
   "id": "dutch-cosmetic",
   "metadata": {
    "id": "australian-blues"
   },
   "outputs": [],
   "source": [
    "import pickle\n",
    "\n",
    "with open('edges.pkl', 'wb') as fp:\n",
    "    pickle.dump(edges, fp, protocol=pickle.HIGHEST_PROTOCOL)"
   ]
  },
  {
   "cell_type": "code",
   "execution_count": null,
   "id": "nearby-baltimore",
   "metadata": {
    "id": "dimensional-bicycle"
   },
   "outputs": [],
   "source": [
    "count_pos = 0\n",
    "count_neg = 0\n",
    "edge_list = []\n",
    "for edge in edges:\n",
    "    tmp = []\n",
    "    for node in edge:\n",
    "        if node in id2cor:\n",
    "            count_pos += 1\n",
    "            tmp.append(node)\n",
    "        else:\n",
    "            count_neg += 1\n",
    "    edge_list.append(tmp)"
   ]
  },
  {
   "cell_type": "code",
   "execution_count": null,
   "id": "professional-champagne",
   "metadata": {
    "id": "competitive-hundred",
    "outputId": "d40e0708-beb3-44fe-bd41-5deece9df067"
   },
   "outputs": [
    {
     "data": {
      "text/plain": [
       "1636584"
      ]
     },
     "execution_count": 50,
     "metadata": {
      "tags": []
     },
     "output_type": "execute_result"
    }
   ],
   "source": [
    "count_pos"
   ]
  },
  {
   "cell_type": "code",
   "execution_count": null,
   "id": "potential-merchandise",
   "metadata": {
    "id": "superb-retreat"
   },
   "outputs": [],
   "source": [
    "a = []\n",
    "for edge in edges[102]:\n",
    "    a.append({\"id\": edge, \"lat\": id2cor[edge]['lat'], \"lon\": id2cor[edge]['lon']})"
   ]
  },
  {
   "cell_type": "code",
   "execution_count": null,
   "id": "previous-imaging",
   "metadata": {
    "id": "potential-jewel"
   },
   "outputs": [],
   "source": [
    "df = pd.DataFrame(a, columns=[\"id\", \"lat\", 'lon'])\n",
    "df.to_csv('list2.csv', index=False)"
   ]
  },
  {
   "cell_type": "code",
   "execution_count": null,
   "id": "facial-operator",
   "metadata": {
    "id": "interesting-logan"
   },
   "outputs": [],
   "source": []
  },
  {
   "cell_type": "code",
   "execution_count": null,
   "id": "loaded-volume",
   "metadata": {
    "colab": {
     "base_uri": "https://localhost:8080/",
     "height": 273,
     "referenced_widgets": [
      "755420c74fbd4992bea92556142f642f",
      "16e4df2db7ea4d00865cfde23555fb27",
      "b79a86f5e82a4304b3c13ae0e3eb30a6",
      "fa6046a1145f4f47a01c7f9b07aad1ba",
      "2f45717df1e9435a8fa6c6f3ddda0aee",
      "7a7dbbf9e1634102a0a14da90f4afce8",
      "7bc4f08c99d043b49a2c1bec302e0973",
      "d08984694fbf4db88713a67cdf251caf"
     ]
    },
    "id": "german-spanking",
    "outputId": "6c0bf937-9a99-4079-869c-57d491876ea7"
   },
   "outputs": [
    {
     "data": {
      "application/vnd.jupyter.widget-view+json": {
       "model_id": "755420c74fbd4992bea92556142f642f",
       "version_major": 2,
       "version_minor": 0
      },
      "text/plain": [
       "HBox(children=(FloatProgress(value=0.0, max=276058.0), HTML(value='')))"
      ]
     },
     "metadata": {
      "tags": []
     },
     "output_type": "display_data"
    },
    {
     "ename": "KeyError",
     "evalue": "ignored",
     "output_type": "error",
     "traceback": [
      "\u001b[0;31m---------------------------------------------------------------------------\u001b[0m",
      "\u001b[0;31mKeyError\u001b[0m                                  Traceback (most recent call last)",
      "\u001b[0;32m<ipython-input-38-f8a0de0ee84c>\u001b[0m in \u001b[0;36m<module>\u001b[0;34m()\u001b[0m\n\u001b[1;32m      2\u001b[0m \u001b[0;32mfor\u001b[0m \u001b[0medge\u001b[0m \u001b[0;32min\u001b[0m \u001b[0mtqdm\u001b[0m\u001b[0;34m(\u001b[0m\u001b[0medges\u001b[0m\u001b[0;34m)\u001b[0m\u001b[0;34m:\u001b[0m\u001b[0;34m\u001b[0m\u001b[0;34m\u001b[0m\u001b[0m\n\u001b[1;32m      3\u001b[0m     \u001b[0;32mfor\u001b[0m \u001b[0mi\u001b[0m \u001b[0;32min\u001b[0m \u001b[0mrange\u001b[0m\u001b[0;34m(\u001b[0m\u001b[0mlen\u001b[0m\u001b[0;34m(\u001b[0m\u001b[0medge\u001b[0m\u001b[0;34m)\u001b[0m\u001b[0;34m-\u001b[0m\u001b[0;36m1\u001b[0m\u001b[0;34m)\u001b[0m\u001b[0;34m:\u001b[0m\u001b[0;34m\u001b[0m\u001b[0;34m\u001b[0m\u001b[0m\n\u001b[0;32m----> 4\u001b[0;31m         \u001b[0mdist\u001b[0m \u001b[0;34m=\u001b[0m \u001b[0mhaversine_np\u001b[0m\u001b[0;34m(\u001b[0m\u001b[0mfloat\u001b[0m\u001b[0;34m(\u001b[0m\u001b[0mid2cor\u001b[0m\u001b[0;34m[\u001b[0m\u001b[0medge\u001b[0m\u001b[0;34m[\u001b[0m\u001b[0mi\u001b[0m\u001b[0;34m]\u001b[0m\u001b[0;34m]\u001b[0m\u001b[0;34m[\u001b[0m\u001b[0;34m'lon'\u001b[0m\u001b[0;34m]\u001b[0m\u001b[0;34m)\u001b[0m\u001b[0;34m,\u001b[0m \u001b[0mfloat\u001b[0m\u001b[0;34m(\u001b[0m\u001b[0mid2cor\u001b[0m\u001b[0;34m[\u001b[0m\u001b[0medge\u001b[0m\u001b[0;34m[\u001b[0m\u001b[0mi\u001b[0m\u001b[0;34m]\u001b[0m\u001b[0;34m]\u001b[0m\u001b[0;34m[\u001b[0m\u001b[0;34m'lat'\u001b[0m\u001b[0;34m]\u001b[0m\u001b[0;34m)\u001b[0m\u001b[0;34m,\u001b[0m \u001b[0mfloat\u001b[0m\u001b[0;34m(\u001b[0m\u001b[0mid2cor\u001b[0m\u001b[0;34m[\u001b[0m\u001b[0medge\u001b[0m\u001b[0;34m[\u001b[0m\u001b[0mi\u001b[0m \u001b[0;34m+\u001b[0m \u001b[0;36m1\u001b[0m\u001b[0;34m]\u001b[0m\u001b[0;34m]\u001b[0m\u001b[0;34m[\u001b[0m\u001b[0;34m'lon'\u001b[0m\u001b[0;34m]\u001b[0m\u001b[0;34m)\u001b[0m\u001b[0;34m,\u001b[0m \u001b[0mfloat\u001b[0m\u001b[0;34m(\u001b[0m\u001b[0mid2cor\u001b[0m\u001b[0;34m[\u001b[0m\u001b[0medge\u001b[0m\u001b[0;34m[\u001b[0m\u001b[0mi\u001b[0m \u001b[0;34m+\u001b[0m \u001b[0;36m1\u001b[0m\u001b[0;34m]\u001b[0m\u001b[0;34m]\u001b[0m\u001b[0;34m[\u001b[0m\u001b[0;34m'lat'\u001b[0m\u001b[0;34m]\u001b[0m\u001b[0;34m)\u001b[0m\u001b[0;34m)\u001b[0m\u001b[0;34m\u001b[0m\u001b[0;34m\u001b[0m\u001b[0m\n\u001b[0m\u001b[1;32m      5\u001b[0m         \u001b[0mdist_edge\u001b[0m\u001b[0;34m.\u001b[0m\u001b[0mappend\u001b[0m\u001b[0;34m(\u001b[0m\u001b[0;34m{\u001b[0m\u001b[0;34m\"id1\"\u001b[0m\u001b[0;34m:\u001b[0m \u001b[0medge\u001b[0m\u001b[0;34m[\u001b[0m\u001b[0mi\u001b[0m\u001b[0;34m]\u001b[0m\u001b[0;34m,\u001b[0m \u001b[0;34m\"id2\"\u001b[0m\u001b[0;34m:\u001b[0m \u001b[0medge\u001b[0m\u001b[0;34m[\u001b[0m\u001b[0mi\u001b[0m \u001b[0;34m+\u001b[0m \u001b[0;36m1\u001b[0m\u001b[0;34m]\u001b[0m\u001b[0;34m,\u001b[0m \u001b[0;34m'd'\u001b[0m\u001b[0;34m:\u001b[0m \u001b[0mdist\u001b[0m \u001b[0;34m*\u001b[0m \u001b[0;36m1000\u001b[0m\u001b[0;34m}\u001b[0m\u001b[0;34m)\u001b[0m\u001b[0;34m\u001b[0m\u001b[0;34m\u001b[0m\u001b[0m\n",
      "\u001b[0;31mKeyError\u001b[0m: 0"
     ]
    }
   ],
   "source": [
    "dist_edge = []\n",
    "for edge in tqdm(edges):\n",
    "    for i in range(len(edge)-1):\n",
    "        dist = haversine_np(float(id2cor[edge[i]]['lon']), float(id2cor[edge[i]]['lat']), float(id2cor[edge[i + 1]]['lon']), float(id2cor[edge[i + 1]]['lat']))\n",
    "        dist_edge.append({\"id1\": edge[i], \"id2\": edge[i + 1], 'd': dist * 1000})"
   ]
  },
  {
   "cell_type": "code",
   "execution_count": null,
   "id": "encouraging-craps",
   "metadata": {
    "id": "liberal-domain"
   },
   "outputs": [],
   "source": [
    "import pickle\n",
    "\n",
    "with open('edge_dist.pkl', 'wb') as fp:\n",
    "    pickle.dump(dist_edge, fp, protocol=pickle.HIGHEST_PROTOCOL)"
   ]
  },
  {
   "cell_type": "code",
   "execution_count": 22,
   "id": "polar-clinton",
   "metadata": {
    "colab": {
     "base_uri": "https://localhost:8080/",
     "height": 67,
     "referenced_widgets": [
      "69d5463d0d6346f08d6ce8de3c5bde09",
      "ea6a69d8997747ef926ad0e49404f4cb",
      "2afb7b4d2c5d4840b29b22d5e73c474f",
      "d550d481967b4e759abbf27d37265fcf",
      "e28b8473b6f14c7f94d2d1a8f285e3d2",
      "6ede9fb75ed74da2bdbce9709b7f8975",
      "c84b4598339e43dd814d2451717e9683",
      "3731b2a6c65b423ca1608d674f8328c6"
     ]
    },
    "id": "intensive-virginia",
    "outputId": "326b1635-cb8f-4dbb-e8f8-e60d5a70e872"
   },
   "outputs": [
    {
     "name": "stderr",
     "output_type": "stream",
     "text": [
      "100%|██████████| 250642/250642 [02:07<00:00, 1962.75it/s]\n"
     ]
    }
   ],
   "source": [
    "edge_list_for_kepler = []\n",
    "for edge in tqdm(edges):\n",
    "    for i in range(len(edge['nodes'])-1):\n",
    "        node_1 = id2cor[edge['nodes'][i]]\n",
    "        node_2 = id2cor[edge['nodes'][i+1]]\n",
    "        lon1 = float(node_1['lon'])\n",
    "        lat1 = float(node_1['lat'])\n",
    "        lon2 = float(node_2['lon'])\n",
    "        lat2 = float(node_2['lat']) \n",
    "        dist = haversine_np(lon1, lat1, lon2, lat2)\n",
    "        hight1 = get_height(lat1, lon1)\n",
    "        hight2 = get_height(lat2, lon2)\n",
    "        if isinstance(edge['width'], str):\n",
    "            try:\n",
    "              width_f = float(edge['width'])\n",
    "            except ValueError:\n",
    "              width_f = 1\n",
    "        else:\n",
    "            width_f = float(edge['width'])\n",
    "\n",
    "        edge_list_for_kepler.append({\"dist\": dist, \"highway\": edge['highway'], \"surface\":edge['surface'], \n",
    "                                   \"lanes\": int(edge['lanes']), \"width\":edge['width'], \n",
    "                                   'hight1': hight1, 'hight2': hight2, 'lat1': lat1, 'lon1': lon1, \n",
    "                                   'lat2': lat2, 'lon2': lon2})"
   ]
  },
  {
   "cell_type": "code",
   "execution_count": 23,
   "id": "cellular-apartment",
   "metadata": {
    "id": "objective-gross"
   },
   "outputs": [],
   "source": [
    "df = pd.DataFrame(edge_list_for_kepler, columns=edge_list_for_kepler[0].keys())\n",
    "df.to_csv('edge_list_for_kepler.csv', index=False)"
   ]
  },
  {
   "cell_type": "code",
   "execution_count": null,
   "id": "applicable-israel",
   "metadata": {
    "id": "theoretical-fusion",
    "outputId": "a2911fdf-e868-499a-f814-f5a5e64f327f"
   },
   "outputs": [
    {
     "ename": "EOFError",
     "evalue": "Ran out of input",
     "output_type": "error",
     "traceback": [
      "\u001b[0;31m---------------------------------------------------------------------------\u001b[0m",
      "\u001b[0;31mEOFError\u001b[0m                                  Traceback (most recent call last)",
      "\u001b[0;32m<ipython-input-6-495638bf5504>\u001b[0m in \u001b[0;36m<module>\u001b[0;34m\u001b[0m\n\u001b[1;32m      2\u001b[0m \u001b[0;34m\u001b[0m\u001b[0m\n\u001b[1;32m      3\u001b[0m \u001b[0;32mwith\u001b[0m \u001b[0mopen\u001b[0m\u001b[0;34m(\u001b[0m\u001b[0;34m'nodes.p'\u001b[0m\u001b[0;34m,\u001b[0m \u001b[0;34m'rb'\u001b[0m\u001b[0;34m)\u001b[0m \u001b[0;32mas\u001b[0m \u001b[0mfp\u001b[0m\u001b[0;34m:\u001b[0m\u001b[0;34m\u001b[0m\u001b[0;34m\u001b[0m\u001b[0m\n\u001b[0;32m----> 4\u001b[0;31m     \u001b[0mnodes\u001b[0m \u001b[0;34m=\u001b[0m \u001b[0mpickle\u001b[0m\u001b[0;34m.\u001b[0m\u001b[0mload\u001b[0m\u001b[0;34m(\u001b[0m\u001b[0mfp\u001b[0m\u001b[0;34m)\u001b[0m\u001b[0;34m\u001b[0m\u001b[0;34m\u001b[0m\u001b[0m\n\u001b[0m",
      "\u001b[0;31mEOFError\u001b[0m: Ran out of input"
     ]
    }
   ],
   "source": [
    "import pickle\n",
    "\n",
    "with open('nodes.p', 'rb') as fp:\n",
    "    nodes = pickle.load(fp)"
   ]
  },
  {
   "cell_type": "code",
   "execution_count": null,
   "id": "consolidated-sleeping",
   "metadata": {
    "id": "focused-approval"
   },
   "outputs": [],
   "source": [
    "edges_pickles = pickle.load(open('nodes.p', 'rb'))"
   ]
  },
  {
   "cell_type": "code",
   "execution_count": null,
   "id": "useful-accounting",
   "metadata": {
    "id": "through-wisdom"
   },
   "outputs": [],
   "source": [
    "pd.DataFrame(hist_nodes).to_csv(\"hist_nodes.csv\")"
   ]
  },
  {
   "cell_type": "code",
   "execution_count": null,
   "id": "continued-venture",
   "metadata": {
    "id": "adjacent-product"
   },
   "outputs": [],
   "source": [
    "import json\n",
    "with open('dtp_moskva.geojson') as fp:\n",
    "    data = json.load(fp)"
   ]
  },
  {
   "cell_type": "code",
   "execution_count": null,
   "id": "numeric-partnership",
   "metadata": {
    "id": "average-forward",
    "outputId": "b9ff911d-c3cb-4ca1-abaa-a73cbc8768ff"
   },
   "outputs": [
    {
     "data": {
      "text/plain": [
       "{'type': 'Point', 'coordinates': [37.489332, 55.841157]}"
      ]
     },
     "execution_count": 199,
     "metadata": {
      "tags": []
     },
     "output_type": "execute_result"
    }
   ],
   "source": [
    "data['features'][1]['geometry']"
   ]
  },
  {
   "cell_type": "code",
   "execution_count": null,
   "id": "hourly-sodium",
   "metadata": {
    "id": "broken-olympus",
    "outputId": "cc0d5e40-6c4b-40d4-c060-c01c61ca9bab"
   },
   "outputs": [
    {
     "data": {
      "text/plain": [
       "57130"
      ]
     },
     "execution_count": 200,
     "metadata": {
      "tags": []
     },
     "output_type": "execute_result"
    }
   ],
   "source": [
    "len(data['features'])"
   ]
  },
  {
   "cell_type": "code",
   "execution_count": null,
   "id": "sapphire-gauge",
   "metadata": {
    "colab": {
     "referenced_widgets": [
      "a788e13ee5914d31ac658098f8e00d88"
     ]
    },
    "id": "olympic-fundamentals",
    "outputId": "011058ae-6f6d-4b12-abc1-adf4f5e08fda"
   },
   "outputs": [
    {
     "data": {
      "application/vnd.jupyter.widget-view+json": {
       "model_id": "a788e13ee5914d31ac658098f8e00d88",
       "version_major": 2,
       "version_minor": 0
      },
      "text/plain": [
       "HBox(children=(HTML(value=''), FloatProgress(value=0.0, max=57130.0), HTML(value='')))"
      ]
     },
     "metadata": {
      "tags": []
     },
     "output_type": "display_data"
    },
    {
     "name": "stdout",
     "output_type": "stream",
     "text": [
      "\n"
     ]
    }
   ],
   "source": [
    "dtp = []\n",
    "for i in tqdm(range(len(data['features']))):\n",
    "    dtp.append({\"lat\": data['features'][i]['geometry']['coordinates'][1], \"lon\":data['features'][i]['geometry']['coordinates'][0]})"
   ]
  }
 ],
 "metadata": {
  "colab": {
   "collapsed_sections": [],
   "name": "graph_preprocessing.ipynb",
   "provenance": []
  },
  "kernelspec": {
   "display_name": "Python 3",
   "language": "python",
   "name": "python3"
  },
  "language_info": {
   "codemirror_mode": {
    "name": "ipython",
    "version": 3
   },
   "file_extension": ".py",
   "mimetype": "text/x-python",
   "name": "python",
   "nbconvert_exporter": "python",
   "pygments_lexer": "ipython3",
   "version": "3.7.8"
  },
  "widgets": {
   "application/vnd.jupyter.widget-state+json": {
    "06f460e11e914505ab1a00efc7d26616": {
     "model_module": "@jupyter-widgets/controls",
     "model_name": "DescriptionStyleModel",
     "state": {
      "_model_module": "@jupyter-widgets/controls",
      "_model_module_version": "1.5.0",
      "_model_name": "DescriptionStyleModel",
      "_view_count": null,
      "_view_module": "@jupyter-widgets/base",
      "_view_module_version": "1.2.0",
      "_view_name": "StyleView",
      "description_width": ""
     }
    },
    "0ca6f2f3a9c44aadb6916d4ae97edf36": {
     "model_module": "@jupyter-widgets/base",
     "model_name": "LayoutModel",
     "state": {
      "_model_module": "@jupyter-widgets/base",
      "_model_module_version": "1.2.0",
      "_model_name": "LayoutModel",
      "_view_count": null,
      "_view_module": "@jupyter-widgets/base",
      "_view_module_version": "1.2.0",
      "_view_name": "LayoutView",
      "align_content": null,
      "align_items": null,
      "align_self": null,
      "border": null,
      "bottom": null,
      "display": null,
      "flex": null,
      "flex_flow": null,
      "grid_area": null,
      "grid_auto_columns": null,
      "grid_auto_flow": null,
      "grid_auto_rows": null,
      "grid_column": null,
      "grid_gap": null,
      "grid_row": null,
      "grid_template_areas": null,
      "grid_template_columns": null,
      "grid_template_rows": null,
      "height": null,
      "justify_content": null,
      "justify_items": null,
      "left": null,
      "margin": null,
      "max_height": null,
      "max_width": null,
      "min_height": null,
      "min_width": null,
      "object_fit": null,
      "object_position": null,
      "order": null,
      "overflow": null,
      "overflow_x": null,
      "overflow_y": null,
      "padding": null,
      "right": null,
      "top": null,
      "visibility": null,
      "width": null
     }
    },
    "14a14b2678e54e9c927476459272d9e2": {
     "model_module": "@jupyter-widgets/controls",
     "model_name": "ProgressStyleModel",
     "state": {
      "_model_module": "@jupyter-widgets/controls",
      "_model_module_version": "1.5.0",
      "_model_name": "ProgressStyleModel",
      "_view_count": null,
      "_view_module": "@jupyter-widgets/base",
      "_view_module_version": "1.2.0",
      "_view_name": "StyleView",
      "bar_color": null,
      "description_width": "initial"
     }
    },
    "16e4df2db7ea4d00865cfde23555fb27": {
     "model_module": "@jupyter-widgets/base",
     "model_name": "LayoutModel",
     "state": {
      "_model_module": "@jupyter-widgets/base",
      "_model_module_version": "1.2.0",
      "_model_name": "LayoutModel",
      "_view_count": null,
      "_view_module": "@jupyter-widgets/base",
      "_view_module_version": "1.2.0",
      "_view_name": "LayoutView",
      "align_content": null,
      "align_items": null,
      "align_self": null,
      "border": null,
      "bottom": null,
      "display": null,
      "flex": null,
      "flex_flow": null,
      "grid_area": null,
      "grid_auto_columns": null,
      "grid_auto_flow": null,
      "grid_auto_rows": null,
      "grid_column": null,
      "grid_gap": null,
      "grid_row": null,
      "grid_template_areas": null,
      "grid_template_columns": null,
      "grid_template_rows": null,
      "height": null,
      "justify_content": null,
      "justify_items": null,
      "left": null,
      "margin": null,
      "max_height": null,
      "max_width": null,
      "min_height": null,
      "min_width": null,
      "object_fit": null,
      "object_position": null,
      "order": null,
      "overflow": null,
      "overflow_x": null,
      "overflow_y": null,
      "padding": null,
      "right": null,
      "top": null,
      "visibility": null,
      "width": null
     }
    },
    "230750ef147c4a4b93d7e642511ba3b0": {
     "model_module": "@jupyter-widgets/controls",
     "model_name": "DescriptionStyleModel",
     "state": {
      "_model_module": "@jupyter-widgets/controls",
      "_model_module_version": "1.5.0",
      "_model_name": "DescriptionStyleModel",
      "_view_count": null,
      "_view_module": "@jupyter-widgets/base",
      "_view_module_version": "1.2.0",
      "_view_name": "StyleView",
      "description_width": ""
     }
    },
    "2afb7b4d2c5d4840b29b22d5e73c474f": {
     "model_module": "@jupyter-widgets/controls",
     "model_name": "FloatProgressModel",
     "state": {
      "_dom_classes": [],
      "_model_module": "@jupyter-widgets/controls",
      "_model_module_version": "1.5.0",
      "_model_name": "FloatProgressModel",
      "_view_count": null,
      "_view_module": "@jupyter-widgets/controls",
      "_view_module_version": "1.5.0",
      "_view_name": "ProgressView",
      "bar_style": "success",
      "description": "100%",
      "description_tooltip": null,
      "layout": "IPY_MODEL_6ede9fb75ed74da2bdbce9709b7f8975",
      "max": 276058,
      "min": 0,
      "orientation": "horizontal",
      "style": "IPY_MODEL_e28b8473b6f14c7f94d2d1a8f285e3d2",
      "value": 276058
     }
    },
    "2dc16b4378df4afc8cea92e70050c7c0": {
     "model_module": "@jupyter-widgets/controls",
     "model_name": "HBoxModel",
     "state": {
      "_dom_classes": [],
      "_model_module": "@jupyter-widgets/controls",
      "_model_module_version": "1.5.0",
      "_model_name": "HBoxModel",
      "_view_count": null,
      "_view_module": "@jupyter-widgets/controls",
      "_view_module_version": "1.5.0",
      "_view_name": "HBoxView",
      "box_style": "",
      "children": [
       "IPY_MODEL_f82db8ed3d9648a68a08df82a3dfc746",
       "IPY_MODEL_dd56824527e04d718751b4617c6bc567"
      ],
      "layout": "IPY_MODEL_5fc3b4f164f2494baa6e7e5466f96322"
     }
    },
    "2f45717df1e9435a8fa6c6f3ddda0aee": {
     "model_module": "@jupyter-widgets/controls",
     "model_name": "ProgressStyleModel",
     "state": {
      "_model_module": "@jupyter-widgets/controls",
      "_model_module_version": "1.5.0",
      "_model_name": "ProgressStyleModel",
      "_view_count": null,
      "_view_module": "@jupyter-widgets/base",
      "_view_module_version": "1.2.0",
      "_view_name": "StyleView",
      "bar_color": null,
      "description_width": "initial"
     }
    },
    "3731b2a6c65b423ca1608d674f8328c6": {
     "model_module": "@jupyter-widgets/base",
     "model_name": "LayoutModel",
     "state": {
      "_model_module": "@jupyter-widgets/base",
      "_model_module_version": "1.2.0",
      "_model_name": "LayoutModel",
      "_view_count": null,
      "_view_module": "@jupyter-widgets/base",
      "_view_module_version": "1.2.0",
      "_view_name": "LayoutView",
      "align_content": null,
      "align_items": null,
      "align_self": null,
      "border": null,
      "bottom": null,
      "display": null,
      "flex": null,
      "flex_flow": null,
      "grid_area": null,
      "grid_auto_columns": null,
      "grid_auto_flow": null,
      "grid_auto_rows": null,
      "grid_column": null,
      "grid_gap": null,
      "grid_row": null,
      "grid_template_areas": null,
      "grid_template_columns": null,
      "grid_template_rows": null,
      "height": null,
      "justify_content": null,
      "justify_items": null,
      "left": null,
      "margin": null,
      "max_height": null,
      "max_width": null,
      "min_height": null,
      "min_width": null,
      "object_fit": null,
      "object_position": null,
      "order": null,
      "overflow": null,
      "overflow_x": null,
      "overflow_y": null,
      "padding": null,
      "right": null,
      "top": null,
      "visibility": null,
      "width": null
     }
    },
    "3f68f13f338e4fed82640c015824939b": {
     "model_module": "@jupyter-widgets/base",
     "model_name": "LayoutModel",
     "state": {
      "_model_module": "@jupyter-widgets/base",
      "_model_module_version": "1.2.0",
      "_model_name": "LayoutModel",
      "_view_count": null,
      "_view_module": "@jupyter-widgets/base",
      "_view_module_version": "1.2.0",
      "_view_name": "LayoutView",
      "align_content": null,
      "align_items": null,
      "align_self": null,
      "border": null,
      "bottom": null,
      "display": null,
      "flex": null,
      "flex_flow": null,
      "grid_area": null,
      "grid_auto_columns": null,
      "grid_auto_flow": null,
      "grid_auto_rows": null,
      "grid_column": null,
      "grid_gap": null,
      "grid_row": null,
      "grid_template_areas": null,
      "grid_template_columns": null,
      "grid_template_rows": null,
      "height": null,
      "justify_content": null,
      "justify_items": null,
      "left": null,
      "margin": null,
      "max_height": null,
      "max_width": null,
      "min_height": null,
      "min_width": null,
      "object_fit": null,
      "object_position": null,
      "order": null,
      "overflow": null,
      "overflow_x": null,
      "overflow_y": null,
      "padding": null,
      "right": null,
      "top": null,
      "visibility": null,
      "width": null
     }
    },
    "43d6fa0a75314112ba43213b5097ba1b": {
     "model_module": "@jupyter-widgets/controls",
     "model_name": "ProgressStyleModel",
     "state": {
      "_model_module": "@jupyter-widgets/controls",
      "_model_module_version": "1.5.0",
      "_model_name": "ProgressStyleModel",
      "_view_count": null,
      "_view_module": "@jupyter-widgets/base",
      "_view_module_version": "1.2.0",
      "_view_name": "StyleView",
      "bar_color": null,
      "description_width": "initial"
     }
    },
    "45f1d7fd88654c3190f702f4f538d33a": {
     "model_module": "@jupyter-widgets/controls",
     "model_name": "FloatProgressModel",
     "state": {
      "_dom_classes": [],
      "_model_module": "@jupyter-widgets/controls",
      "_model_module_version": "1.5.0",
      "_model_name": "FloatProgressModel",
      "_view_count": null,
      "_view_module": "@jupyter-widgets/controls",
      "_view_module_version": "1.5.0",
      "_view_name": "ProgressView",
      "bar_style": "success",
      "description": "100%",
      "description_tooltip": null,
      "layout": "IPY_MODEL_0ca6f2f3a9c44aadb6916d4ae97edf36",
      "max": 992193,
      "min": 0,
      "orientation": "horizontal",
      "style": "IPY_MODEL_e437413d19b84d0abbf94d2a6e80727b",
      "value": 992193
     }
    },
    "46a0d0eac6c245ccbb54a9adbbf0b3d7": {
     "model_module": "@jupyter-widgets/controls",
     "model_name": "ProgressStyleModel",
     "state": {
      "_model_module": "@jupyter-widgets/controls",
      "_model_module_version": "1.5.0",
      "_model_name": "ProgressStyleModel",
      "_view_count": null,
      "_view_module": "@jupyter-widgets/base",
      "_view_module_version": "1.2.0",
      "_view_name": "StyleView",
      "bar_color": null,
      "description_width": "initial"
     }
    },
    "5814c09bde974fcda7fe3a56c8a2db0f": {
     "model_module": "@jupyter-widgets/controls",
     "model_name": "FloatProgressModel",
     "state": {
      "_dom_classes": [],
      "_model_module": "@jupyter-widgets/controls",
      "_model_module_version": "1.5.0",
      "_model_name": "FloatProgressModel",
      "_view_count": null,
      "_view_module": "@jupyter-widgets/controls",
      "_view_module_version": "1.5.0",
      "_view_name": "ProgressView",
      "bar_style": "success",
      "description": "100%",
      "description_tooltip": null,
      "layout": "IPY_MODEL_8cfff0b0682544b3be27ff2b2feec3aa",
      "max": 250642,
      "min": 0,
      "orientation": "horizontal",
      "style": "IPY_MODEL_43d6fa0a75314112ba43213b5097ba1b",
      "value": 250642
     }
    },
    "5fc3b4f164f2494baa6e7e5466f96322": {
     "model_module": "@jupyter-widgets/base",
     "model_name": "LayoutModel",
     "state": {
      "_model_module": "@jupyter-widgets/base",
      "_model_module_version": "1.2.0",
      "_model_name": "LayoutModel",
      "_view_count": null,
      "_view_module": "@jupyter-widgets/base",
      "_view_module_version": "1.2.0",
      "_view_name": "LayoutView",
      "align_content": null,
      "align_items": null,
      "align_self": null,
      "border": null,
      "bottom": null,
      "display": null,
      "flex": null,
      "flex_flow": null,
      "grid_area": null,
      "grid_auto_columns": null,
      "grid_auto_flow": null,
      "grid_auto_rows": null,
      "grid_column": null,
      "grid_gap": null,
      "grid_row": null,
      "grid_template_areas": null,
      "grid_template_columns": null,
      "grid_template_rows": null,
      "height": null,
      "justify_content": null,
      "justify_items": null,
      "left": null,
      "margin": null,
      "max_height": null,
      "max_width": null,
      "min_height": null,
      "min_width": null,
      "object_fit": null,
      "object_position": null,
      "order": null,
      "overflow": null,
      "overflow_x": null,
      "overflow_y": null,
      "padding": null,
      "right": null,
      "top": null,
      "visibility": null,
      "width": null
     }
    },
    "65ff5696c877449787dc037d3278c2d8": {
     "model_module": "@jupyter-widgets/controls",
     "model_name": "DescriptionStyleModel",
     "state": {
      "_model_module": "@jupyter-widgets/controls",
      "_model_module_version": "1.5.0",
      "_model_name": "DescriptionStyleModel",
      "_view_count": null,
      "_view_module": "@jupyter-widgets/base",
      "_view_module_version": "1.2.0",
      "_view_name": "StyleView",
      "description_width": ""
     }
    },
    "69d5463d0d6346f08d6ce8de3c5bde09": {
     "model_module": "@jupyter-widgets/controls",
     "model_name": "HBoxModel",
     "state": {
      "_dom_classes": [],
      "_model_module": "@jupyter-widgets/controls",
      "_model_module_version": "1.5.0",
      "_model_name": "HBoxModel",
      "_view_count": null,
      "_view_module": "@jupyter-widgets/controls",
      "_view_module_version": "1.5.0",
      "_view_name": "HBoxView",
      "box_style": "",
      "children": [
       "IPY_MODEL_2afb7b4d2c5d4840b29b22d5e73c474f",
       "IPY_MODEL_d550d481967b4e759abbf27d37265fcf"
      ],
      "layout": "IPY_MODEL_ea6a69d8997747ef926ad0e49404f4cb"
     }
    },
    "6c0310f6b7c845a5987e16462443b3c9": {
     "model_module": "@jupyter-widgets/base",
     "model_name": "LayoutModel",
     "state": {
      "_model_module": "@jupyter-widgets/base",
      "_model_module_version": "1.2.0",
      "_model_name": "LayoutModel",
      "_view_count": null,
      "_view_module": "@jupyter-widgets/base",
      "_view_module_version": "1.2.0",
      "_view_name": "LayoutView",
      "align_content": null,
      "align_items": null,
      "align_self": null,
      "border": null,
      "bottom": null,
      "display": null,
      "flex": null,
      "flex_flow": null,
      "grid_area": null,
      "grid_auto_columns": null,
      "grid_auto_flow": null,
      "grid_auto_rows": null,
      "grid_column": null,
      "grid_gap": null,
      "grid_row": null,
      "grid_template_areas": null,
      "grid_template_columns": null,
      "grid_template_rows": null,
      "height": null,
      "justify_content": null,
      "justify_items": null,
      "left": null,
      "margin": null,
      "max_height": null,
      "max_width": null,
      "min_height": null,
      "min_width": null,
      "object_fit": null,
      "object_position": null,
      "order": null,
      "overflow": null,
      "overflow_x": null,
      "overflow_y": null,
      "padding": null,
      "right": null,
      "top": null,
      "visibility": null,
      "width": null
     }
    },
    "6ede9fb75ed74da2bdbce9709b7f8975": {
     "model_module": "@jupyter-widgets/base",
     "model_name": "LayoutModel",
     "state": {
      "_model_module": "@jupyter-widgets/base",
      "_model_module_version": "1.2.0",
      "_model_name": "LayoutModel",
      "_view_count": null,
      "_view_module": "@jupyter-widgets/base",
      "_view_module_version": "1.2.0",
      "_view_name": "LayoutView",
      "align_content": null,
      "align_items": null,
      "align_self": null,
      "border": null,
      "bottom": null,
      "display": null,
      "flex": null,
      "flex_flow": null,
      "grid_area": null,
      "grid_auto_columns": null,
      "grid_auto_flow": null,
      "grid_auto_rows": null,
      "grid_column": null,
      "grid_gap": null,
      "grid_row": null,
      "grid_template_areas": null,
      "grid_template_columns": null,
      "grid_template_rows": null,
      "height": null,
      "justify_content": null,
      "justify_items": null,
      "left": null,
      "margin": null,
      "max_height": null,
      "max_width": null,
      "min_height": null,
      "min_width": null,
      "object_fit": null,
      "object_position": null,
      "order": null,
      "overflow": null,
      "overflow_x": null,
      "overflow_y": null,
      "padding": null,
      "right": null,
      "top": null,
      "visibility": null,
      "width": null
     }
    },
    "72776b637d0f4273a56945e97483f835": {
     "model_module": "@jupyter-widgets/base",
     "model_name": "LayoutModel",
     "state": {
      "_model_module": "@jupyter-widgets/base",
      "_model_module_version": "1.2.0",
      "_model_name": "LayoutModel",
      "_view_count": null,
      "_view_module": "@jupyter-widgets/base",
      "_view_module_version": "1.2.0",
      "_view_name": "LayoutView",
      "align_content": null,
      "align_items": null,
      "align_self": null,
      "border": null,
      "bottom": null,
      "display": null,
      "flex": null,
      "flex_flow": null,
      "grid_area": null,
      "grid_auto_columns": null,
      "grid_auto_flow": null,
      "grid_auto_rows": null,
      "grid_column": null,
      "grid_gap": null,
      "grid_row": null,
      "grid_template_areas": null,
      "grid_template_columns": null,
      "grid_template_rows": null,
      "height": null,
      "justify_content": null,
      "justify_items": null,
      "left": null,
      "margin": null,
      "max_height": null,
      "max_width": null,
      "min_height": null,
      "min_width": null,
      "object_fit": null,
      "object_position": null,
      "order": null,
      "overflow": null,
      "overflow_x": null,
      "overflow_y": null,
      "padding": null,
      "right": null,
      "top": null,
      "visibility": null,
      "width": null
     }
    },
    "755420c74fbd4992bea92556142f642f": {
     "model_module": "@jupyter-widgets/controls",
     "model_name": "HBoxModel",
     "state": {
      "_dom_classes": [],
      "_model_module": "@jupyter-widgets/controls",
      "_model_module_version": "1.5.0",
      "_model_name": "HBoxModel",
      "_view_count": null,
      "_view_module": "@jupyter-widgets/controls",
      "_view_module_version": "1.5.0",
      "_view_name": "HBoxView",
      "box_style": "",
      "children": [
       "IPY_MODEL_b79a86f5e82a4304b3c13ae0e3eb30a6",
       "IPY_MODEL_fa6046a1145f4f47a01c7f9b07aad1ba"
      ],
      "layout": "IPY_MODEL_16e4df2db7ea4d00865cfde23555fb27"
     }
    },
    "7a7dbbf9e1634102a0a14da90f4afce8": {
     "model_module": "@jupyter-widgets/base",
     "model_name": "LayoutModel",
     "state": {
      "_model_module": "@jupyter-widgets/base",
      "_model_module_version": "1.2.0",
      "_model_name": "LayoutModel",
      "_view_count": null,
      "_view_module": "@jupyter-widgets/base",
      "_view_module_version": "1.2.0",
      "_view_name": "LayoutView",
      "align_content": null,
      "align_items": null,
      "align_self": null,
      "border": null,
      "bottom": null,
      "display": null,
      "flex": null,
      "flex_flow": null,
      "grid_area": null,
      "grid_auto_columns": null,
      "grid_auto_flow": null,
      "grid_auto_rows": null,
      "grid_column": null,
      "grid_gap": null,
      "grid_row": null,
      "grid_template_areas": null,
      "grid_template_columns": null,
      "grid_template_rows": null,
      "height": null,
      "justify_content": null,
      "justify_items": null,
      "left": null,
      "margin": null,
      "max_height": null,
      "max_width": null,
      "min_height": null,
      "min_width": null,
      "object_fit": null,
      "object_position": null,
      "order": null,
      "overflow": null,
      "overflow_x": null,
      "overflow_y": null,
      "padding": null,
      "right": null,
      "top": null,
      "visibility": null,
      "width": null
     }
    },
    "7bc4f08c99d043b49a2c1bec302e0973": {
     "model_module": "@jupyter-widgets/controls",
     "model_name": "DescriptionStyleModel",
     "state": {
      "_model_module": "@jupyter-widgets/controls",
      "_model_module_version": "1.5.0",
      "_model_name": "DescriptionStyleModel",
      "_view_count": null,
      "_view_module": "@jupyter-widgets/base",
      "_view_module_version": "1.2.0",
      "_view_name": "StyleView",
      "description_width": ""
     }
    },
    "7fe6b85199444e6fb64ce1a4eb5fc759": {
     "model_module": "@jupyter-widgets/base",
     "model_name": "LayoutModel",
     "state": {
      "_model_module": "@jupyter-widgets/base",
      "_model_module_version": "1.2.0",
      "_model_name": "LayoutModel",
      "_view_count": null,
      "_view_module": "@jupyter-widgets/base",
      "_view_module_version": "1.2.0",
      "_view_name": "LayoutView",
      "align_content": null,
      "align_items": null,
      "align_self": null,
      "border": null,
      "bottom": null,
      "display": null,
      "flex": null,
      "flex_flow": null,
      "grid_area": null,
      "grid_auto_columns": null,
      "grid_auto_flow": null,
      "grid_auto_rows": null,
      "grid_column": null,
      "grid_gap": null,
      "grid_row": null,
      "grid_template_areas": null,
      "grid_template_columns": null,
      "grid_template_rows": null,
      "height": null,
      "justify_content": null,
      "justify_items": null,
      "left": null,
      "margin": null,
      "max_height": null,
      "max_width": null,
      "min_height": null,
      "min_width": null,
      "object_fit": null,
      "object_position": null,
      "order": null,
      "overflow": null,
      "overflow_x": null,
      "overflow_y": null,
      "padding": null,
      "right": null,
      "top": null,
      "visibility": null,
      "width": null
     }
    },
    "7ffb14d65ce1414ab63c08ada1889f4a": {
     "model_module": "@jupyter-widgets/controls",
     "model_name": "HTMLModel",
     "state": {
      "_dom_classes": [],
      "_model_module": "@jupyter-widgets/controls",
      "_model_module_version": "1.5.0",
      "_model_name": "HTMLModel",
      "_view_count": null,
      "_view_module": "@jupyter-widgets/controls",
      "_view_module_version": "1.5.0",
      "_view_name": "HTMLView",
      "description": "",
      "description_tooltip": null,
      "layout": "IPY_MODEL_72776b637d0f4273a56945e97483f835",
      "placeholder": "​",
      "style": "IPY_MODEL_230750ef147c4a4b93d7e642511ba3b0",
      "value": " 3972445/3972445 [00:08&lt;00:00, 445712.76it/s]"
     }
    },
    "8a517f3c59344bd384787aef20d76d7d": {
     "model_module": "@jupyter-widgets/base",
     "model_name": "LayoutModel",
     "state": {
      "_model_module": "@jupyter-widgets/base",
      "_model_module_version": "1.2.0",
      "_model_name": "LayoutModel",
      "_view_count": null,
      "_view_module": "@jupyter-widgets/base",
      "_view_module_version": "1.2.0",
      "_view_name": "LayoutView",
      "align_content": null,
      "align_items": null,
      "align_self": null,
      "border": null,
      "bottom": null,
      "display": null,
      "flex": null,
      "flex_flow": null,
      "grid_area": null,
      "grid_auto_columns": null,
      "grid_auto_flow": null,
      "grid_auto_rows": null,
      "grid_column": null,
      "grid_gap": null,
      "grid_row": null,
      "grid_template_areas": null,
      "grid_template_columns": null,
      "grid_template_rows": null,
      "height": null,
      "justify_content": null,
      "justify_items": null,
      "left": null,
      "margin": null,
      "max_height": null,
      "max_width": null,
      "min_height": null,
      "min_width": null,
      "object_fit": null,
      "object_position": null,
      "order": null,
      "overflow": null,
      "overflow_x": null,
      "overflow_y": null,
      "padding": null,
      "right": null,
      "top": null,
      "visibility": null,
      "width": null
     }
    },
    "8cfff0b0682544b3be27ff2b2feec3aa": {
     "model_module": "@jupyter-widgets/base",
     "model_name": "LayoutModel",
     "state": {
      "_model_module": "@jupyter-widgets/base",
      "_model_module_version": "1.2.0",
      "_model_name": "LayoutModel",
      "_view_count": null,
      "_view_module": "@jupyter-widgets/base",
      "_view_module_version": "1.2.0",
      "_view_name": "LayoutView",
      "align_content": null,
      "align_items": null,
      "align_self": null,
      "border": null,
      "bottom": null,
      "display": null,
      "flex": null,
      "flex_flow": null,
      "grid_area": null,
      "grid_auto_columns": null,
      "grid_auto_flow": null,
      "grid_auto_rows": null,
      "grid_column": null,
      "grid_gap": null,
      "grid_row": null,
      "grid_template_areas": null,
      "grid_template_columns": null,
      "grid_template_rows": null,
      "height": null,
      "justify_content": null,
      "justify_items": null,
      "left": null,
      "margin": null,
      "max_height": null,
      "max_width": null,
      "min_height": null,
      "min_width": null,
      "object_fit": null,
      "object_position": null,
      "order": null,
      "overflow": null,
      "overflow_x": null,
      "overflow_y": null,
      "padding": null,
      "right": null,
      "top": null,
      "visibility": null,
      "width": null
     }
    },
    "927eb9c291394ff4999026376ee6c511": {
     "model_module": "@jupyter-widgets/controls",
     "model_name": "HBoxModel",
     "state": {
      "_dom_classes": [],
      "_model_module": "@jupyter-widgets/controls",
      "_model_module_version": "1.5.0",
      "_model_name": "HBoxModel",
      "_view_count": null,
      "_view_module": "@jupyter-widgets/controls",
      "_view_module_version": "1.5.0",
      "_view_name": "HBoxView",
      "box_style": "",
      "children": [
       "IPY_MODEL_a97d50b087264f2e9dcb0bd0a5daa36a",
       "IPY_MODEL_7ffb14d65ce1414ab63c08ada1889f4a"
      ],
      "layout": "IPY_MODEL_7fe6b85199444e6fb64ce1a4eb5fc759"
     }
    },
    "971adc8b9ba24fec878d9bf33684b09c": {
     "model_module": "@jupyter-widgets/controls",
     "model_name": "HTMLModel",
     "state": {
      "_dom_classes": [],
      "_model_module": "@jupyter-widgets/controls",
      "_model_module_version": "1.5.0",
      "_model_name": "HTMLModel",
      "_view_count": null,
      "_view_module": "@jupyter-widgets/controls",
      "_view_module_version": "1.5.0",
      "_view_name": "HTMLView",
      "description": "",
      "description_tooltip": null,
      "layout": "IPY_MODEL_d6995c49c5224e6bb5009a0560cd673a",
      "placeholder": "​",
      "style": "IPY_MODEL_d45e500ae59247018840fcb9bb47a513",
      "value": " 992193/992193 [00:02&lt;00:00, 481109.32it/s]"
     }
    },
    "999bba204cae47e5929c06f5e185ccb2": {
     "model_module": "@jupyter-widgets/controls",
     "model_name": "HBoxModel",
     "state": {
      "_dom_classes": [],
      "_model_module": "@jupyter-widgets/controls",
      "_model_module_version": "1.5.0",
      "_model_name": "HBoxModel",
      "_view_count": null,
      "_view_module": "@jupyter-widgets/controls",
      "_view_module_version": "1.5.0",
      "_view_name": "HBoxView",
      "box_style": "",
      "children": [
       "IPY_MODEL_45f1d7fd88654c3190f702f4f538d33a",
       "IPY_MODEL_971adc8b9ba24fec878d9bf33684b09c"
      ],
      "layout": "IPY_MODEL_fc7bebcbfb084440a108da8fdbe89f52"
     }
    },
    "a97d50b087264f2e9dcb0bd0a5daa36a": {
     "model_module": "@jupyter-widgets/controls",
     "model_name": "FloatProgressModel",
     "state": {
      "_dom_classes": [],
      "_model_module": "@jupyter-widgets/controls",
      "_model_module_version": "1.5.0",
      "_model_name": "FloatProgressModel",
      "_view_count": null,
      "_view_module": "@jupyter-widgets/controls",
      "_view_module_version": "1.5.0",
      "_view_name": "ProgressView",
      "bar_style": "success",
      "description": "100%",
      "description_tooltip": null,
      "layout": "IPY_MODEL_a9c3873656aa455a85cd73d7349f2232",
      "max": 3972445,
      "min": 0,
      "orientation": "horizontal",
      "style": "IPY_MODEL_14a14b2678e54e9c927476459272d9e2",
      "value": 3972445
     }
    },
    "a9c3873656aa455a85cd73d7349f2232": {
     "model_module": "@jupyter-widgets/base",
     "model_name": "LayoutModel",
     "state": {
      "_model_module": "@jupyter-widgets/base",
      "_model_module_version": "1.2.0",
      "_model_name": "LayoutModel",
      "_view_count": null,
      "_view_module": "@jupyter-widgets/base",
      "_view_module_version": "1.2.0",
      "_view_name": "LayoutView",
      "align_content": null,
      "align_items": null,
      "align_self": null,
      "border": null,
      "bottom": null,
      "display": null,
      "flex": null,
      "flex_flow": null,
      "grid_area": null,
      "grid_auto_columns": null,
      "grid_auto_flow": null,
      "grid_auto_rows": null,
      "grid_column": null,
      "grid_gap": null,
      "grid_row": null,
      "grid_template_areas": null,
      "grid_template_columns": null,
      "grid_template_rows": null,
      "height": null,
      "justify_content": null,
      "justify_items": null,
      "left": null,
      "margin": null,
      "max_height": null,
      "max_width": null,
      "min_height": null,
      "min_width": null,
      "object_fit": null,
      "object_position": null,
      "order": null,
      "overflow": null,
      "overflow_x": null,
      "overflow_y": null,
      "padding": null,
      "right": null,
      "top": null,
      "visibility": null,
      "width": null
     }
    },
    "b79a86f5e82a4304b3c13ae0e3eb30a6": {
     "model_module": "@jupyter-widgets/controls",
     "model_name": "FloatProgressModel",
     "state": {
      "_dom_classes": [],
      "_model_module": "@jupyter-widgets/controls",
      "_model_module_version": "1.5.0",
      "_model_name": "FloatProgressModel",
      "_view_count": null,
      "_view_module": "@jupyter-widgets/controls",
      "_view_module_version": "1.5.0",
      "_view_name": "ProgressView",
      "bar_style": "danger",
      "description": "  0%",
      "description_tooltip": null,
      "layout": "IPY_MODEL_7a7dbbf9e1634102a0a14da90f4afce8",
      "max": 276058,
      "min": 0,
      "orientation": "horizontal",
      "style": "IPY_MODEL_2f45717df1e9435a8fa6c6f3ddda0aee",
      "value": 0
     }
    },
    "c84b4598339e43dd814d2451717e9683": {
     "model_module": "@jupyter-widgets/controls",
     "model_name": "DescriptionStyleModel",
     "state": {
      "_model_module": "@jupyter-widgets/controls",
      "_model_module_version": "1.5.0",
      "_model_name": "DescriptionStyleModel",
      "_view_count": null,
      "_view_module": "@jupyter-widgets/base",
      "_view_module_version": "1.2.0",
      "_view_name": "StyleView",
      "description_width": ""
     }
    },
    "d08984694fbf4db88713a67cdf251caf": {
     "model_module": "@jupyter-widgets/base",
     "model_name": "LayoutModel",
     "state": {
      "_model_module": "@jupyter-widgets/base",
      "_model_module_version": "1.2.0",
      "_model_name": "LayoutModel",
      "_view_count": null,
      "_view_module": "@jupyter-widgets/base",
      "_view_module_version": "1.2.0",
      "_view_name": "LayoutView",
      "align_content": null,
      "align_items": null,
      "align_self": null,
      "border": null,
      "bottom": null,
      "display": null,
      "flex": null,
      "flex_flow": null,
      "grid_area": null,
      "grid_auto_columns": null,
      "grid_auto_flow": null,
      "grid_auto_rows": null,
      "grid_column": null,
      "grid_gap": null,
      "grid_row": null,
      "grid_template_areas": null,
      "grid_template_columns": null,
      "grid_template_rows": null,
      "height": null,
      "justify_content": null,
      "justify_items": null,
      "left": null,
      "margin": null,
      "max_height": null,
      "max_width": null,
      "min_height": null,
      "min_width": null,
      "object_fit": null,
      "object_position": null,
      "order": null,
      "overflow": null,
      "overflow_x": null,
      "overflow_y": null,
      "padding": null,
      "right": null,
      "top": null,
      "visibility": null,
      "width": null
     }
    },
    "d45e500ae59247018840fcb9bb47a513": {
     "model_module": "@jupyter-widgets/controls",
     "model_name": "DescriptionStyleModel",
     "state": {
      "_model_module": "@jupyter-widgets/controls",
      "_model_module_version": "1.5.0",
      "_model_name": "DescriptionStyleModel",
      "_view_count": null,
      "_view_module": "@jupyter-widgets/base",
      "_view_module_version": "1.2.0",
      "_view_name": "StyleView",
      "description_width": ""
     }
    },
    "d550d481967b4e759abbf27d37265fcf": {
     "model_module": "@jupyter-widgets/controls",
     "model_name": "HTMLModel",
     "state": {
      "_dom_classes": [],
      "_model_module": "@jupyter-widgets/controls",
      "_model_module_version": "1.5.0",
      "_model_name": "HTMLModel",
      "_view_count": null,
      "_view_module": "@jupyter-widgets/controls",
      "_view_module_version": "1.5.0",
      "_view_name": "HTMLView",
      "description": "",
      "description_tooltip": null,
      "layout": "IPY_MODEL_3731b2a6c65b423ca1608d674f8328c6",
      "placeholder": "​",
      "style": "IPY_MODEL_c84b4598339e43dd814d2451717e9683",
      "value": " 276058/276058 [04:08&lt;00:00, 1111.39it/s]"
     }
    },
    "d6995c49c5224e6bb5009a0560cd673a": {
     "model_module": "@jupyter-widgets/base",
     "model_name": "LayoutModel",
     "state": {
      "_model_module": "@jupyter-widgets/base",
      "_model_module_version": "1.2.0",
      "_model_name": "LayoutModel",
      "_view_count": null,
      "_view_module": "@jupyter-widgets/base",
      "_view_module_version": "1.2.0",
      "_view_name": "LayoutView",
      "align_content": null,
      "align_items": null,
      "align_self": null,
      "border": null,
      "bottom": null,
      "display": null,
      "flex": null,
      "flex_flow": null,
      "grid_area": null,
      "grid_auto_columns": null,
      "grid_auto_flow": null,
      "grid_auto_rows": null,
      "grid_column": null,
      "grid_gap": null,
      "grid_row": null,
      "grid_template_areas": null,
      "grid_template_columns": null,
      "grid_template_rows": null,
      "height": null,
      "justify_content": null,
      "justify_items": null,
      "left": null,
      "margin": null,
      "max_height": null,
      "max_width": null,
      "min_height": null,
      "min_width": null,
      "object_fit": null,
      "object_position": null,
      "order": null,
      "overflow": null,
      "overflow_x": null,
      "overflow_y": null,
      "padding": null,
      "right": null,
      "top": null,
      "visibility": null,
      "width": null
     }
    },
    "dafd9dd15ca34cd7afcb9ee580ae2a2b": {
     "model_module": "@jupyter-widgets/controls",
     "model_name": "HTMLModel",
     "state": {
      "_dom_classes": [],
      "_model_module": "@jupyter-widgets/controls",
      "_model_module_version": "1.5.0",
      "_model_name": "HTMLModel",
      "_view_count": null,
      "_view_module": "@jupyter-widgets/controls",
      "_view_module_version": "1.5.0",
      "_view_name": "HTMLView",
      "description": "",
      "description_tooltip": null,
      "layout": "IPY_MODEL_6c0310f6b7c845a5987e16462443b3c9",
      "placeholder": "​",
      "style": "IPY_MODEL_06f460e11e914505ab1a00efc7d26616",
      "value": " 250642/250642 [03:53&lt;00:00, 1072.51it/s]"
     }
    },
    "dcb08c74786143a3bcbbf230061d26bf": {
     "model_module": "@jupyter-widgets/base",
     "model_name": "LayoutModel",
     "state": {
      "_model_module": "@jupyter-widgets/base",
      "_model_module_version": "1.2.0",
      "_model_name": "LayoutModel",
      "_view_count": null,
      "_view_module": "@jupyter-widgets/base",
      "_view_module_version": "1.2.0",
      "_view_name": "LayoutView",
      "align_content": null,
      "align_items": null,
      "align_self": null,
      "border": null,
      "bottom": null,
      "display": null,
      "flex": null,
      "flex_flow": null,
      "grid_area": null,
      "grid_auto_columns": null,
      "grid_auto_flow": null,
      "grid_auto_rows": null,
      "grid_column": null,
      "grid_gap": null,
      "grid_row": null,
      "grid_template_areas": null,
      "grid_template_columns": null,
      "grid_template_rows": null,
      "height": null,
      "justify_content": null,
      "justify_items": null,
      "left": null,
      "margin": null,
      "max_height": null,
      "max_width": null,
      "min_height": null,
      "min_width": null,
      "object_fit": null,
      "object_position": null,
      "order": null,
      "overflow": null,
      "overflow_x": null,
      "overflow_y": null,
      "padding": null,
      "right": null,
      "top": null,
      "visibility": null,
      "width": null
     }
    },
    "dd56824527e04d718751b4617c6bc567": {
     "model_module": "@jupyter-widgets/controls",
     "model_name": "HTMLModel",
     "state": {
      "_dom_classes": [],
      "_model_module": "@jupyter-widgets/controls",
      "_model_module_version": "1.5.0",
      "_model_name": "HTMLModel",
      "_view_count": null,
      "_view_module": "@jupyter-widgets/controls",
      "_view_module_version": "1.5.0",
      "_view_name": "HTMLView",
      "description": "",
      "description_tooltip": null,
      "layout": "IPY_MODEL_dcb08c74786143a3bcbbf230061d26bf",
      "placeholder": "​",
      "style": "IPY_MODEL_65ff5696c877449787dc037d3278c2d8",
      "value": " 1129381/1129381 [11:29&lt;00:00, 1638.70it/s]"
     }
    },
    "e28b8473b6f14c7f94d2d1a8f285e3d2": {
     "model_module": "@jupyter-widgets/controls",
     "model_name": "ProgressStyleModel",
     "state": {
      "_model_module": "@jupyter-widgets/controls",
      "_model_module_version": "1.5.0",
      "_model_name": "ProgressStyleModel",
      "_view_count": null,
      "_view_module": "@jupyter-widgets/base",
      "_view_module_version": "1.2.0",
      "_view_name": "StyleView",
      "bar_color": null,
      "description_width": "initial"
     }
    },
    "e437413d19b84d0abbf94d2a6e80727b": {
     "model_module": "@jupyter-widgets/controls",
     "model_name": "ProgressStyleModel",
     "state": {
      "_model_module": "@jupyter-widgets/controls",
      "_model_module_version": "1.5.0",
      "_model_name": "ProgressStyleModel",
      "_view_count": null,
      "_view_module": "@jupyter-widgets/base",
      "_view_module_version": "1.2.0",
      "_view_name": "StyleView",
      "bar_color": null,
      "description_width": "initial"
     }
    },
    "ea6a69d8997747ef926ad0e49404f4cb": {
     "model_module": "@jupyter-widgets/base",
     "model_name": "LayoutModel",
     "state": {
      "_model_module": "@jupyter-widgets/base",
      "_model_module_version": "1.2.0",
      "_model_name": "LayoutModel",
      "_view_count": null,
      "_view_module": "@jupyter-widgets/base",
      "_view_module_version": "1.2.0",
      "_view_name": "LayoutView",
      "align_content": null,
      "align_items": null,
      "align_self": null,
      "border": null,
      "bottom": null,
      "display": null,
      "flex": null,
      "flex_flow": null,
      "grid_area": null,
      "grid_auto_columns": null,
      "grid_auto_flow": null,
      "grid_auto_rows": null,
      "grid_column": null,
      "grid_gap": null,
      "grid_row": null,
      "grid_template_areas": null,
      "grid_template_columns": null,
      "grid_template_rows": null,
      "height": null,
      "justify_content": null,
      "justify_items": null,
      "left": null,
      "margin": null,
      "max_height": null,
      "max_width": null,
      "min_height": null,
      "min_width": null,
      "object_fit": null,
      "object_position": null,
      "order": null,
      "overflow": null,
      "overflow_x": null,
      "overflow_y": null,
      "padding": null,
      "right": null,
      "top": null,
      "visibility": null,
      "width": null
     }
    },
    "f82db8ed3d9648a68a08df82a3dfc746": {
     "model_module": "@jupyter-widgets/controls",
     "model_name": "FloatProgressModel",
     "state": {
      "_dom_classes": [],
      "_model_module": "@jupyter-widgets/controls",
      "_model_module_version": "1.5.0",
      "_model_name": "FloatProgressModel",
      "_view_count": null,
      "_view_module": "@jupyter-widgets/controls",
      "_view_module_version": "1.5.0",
      "_view_name": "ProgressView",
      "bar_style": "success",
      "description": "100%",
      "description_tooltip": null,
      "layout": "IPY_MODEL_8a517f3c59344bd384787aef20d76d7d",
      "max": 1129381,
      "min": 0,
      "orientation": "horizontal",
      "style": "IPY_MODEL_46a0d0eac6c245ccbb54a9adbbf0b3d7",
      "value": 1129381
     }
    },
    "fa6046a1145f4f47a01c7f9b07aad1ba": {
     "model_module": "@jupyter-widgets/controls",
     "model_name": "HTMLModel",
     "state": {
      "_dom_classes": [],
      "_model_module": "@jupyter-widgets/controls",
      "_model_module_version": "1.5.0",
      "_model_name": "HTMLModel",
      "_view_count": null,
      "_view_module": "@jupyter-widgets/controls",
      "_view_module_version": "1.5.0",
      "_view_name": "HTMLView",
      "description": "",
      "description_tooltip": null,
      "layout": "IPY_MODEL_d08984694fbf4db88713a67cdf251caf",
      "placeholder": "​",
      "style": "IPY_MODEL_7bc4f08c99d043b49a2c1bec302e0973",
      "value": " 0/276058 [00:00&lt;?, ?it/s]"
     }
    },
    "fc7bebcbfb084440a108da8fdbe89f52": {
     "model_module": "@jupyter-widgets/base",
     "model_name": "LayoutModel",
     "state": {
      "_model_module": "@jupyter-widgets/base",
      "_model_module_version": "1.2.0",
      "_model_name": "LayoutModel",
      "_view_count": null,
      "_view_module": "@jupyter-widgets/base",
      "_view_module_version": "1.2.0",
      "_view_name": "LayoutView",
      "align_content": null,
      "align_items": null,
      "align_self": null,
      "border": null,
      "bottom": null,
      "display": null,
      "flex": null,
      "flex_flow": null,
      "grid_area": null,
      "grid_auto_columns": null,
      "grid_auto_flow": null,
      "grid_auto_rows": null,
      "grid_column": null,
      "grid_gap": null,
      "grid_row": null,
      "grid_template_areas": null,
      "grid_template_columns": null,
      "grid_template_rows": null,
      "height": null,
      "justify_content": null,
      "justify_items": null,
      "left": null,
      "margin": null,
      "max_height": null,
      "max_width": null,
      "min_height": null,
      "min_width": null,
      "object_fit": null,
      "object_position": null,
      "order": null,
      "overflow": null,
      "overflow_x": null,
      "overflow_y": null,
      "padding": null,
      "right": null,
      "top": null,
      "visibility": null,
      "width": null
     }
    },
    "fcdf7c1392204cbebb572035e76082f5": {
     "model_module": "@jupyter-widgets/controls",
     "model_name": "HBoxModel",
     "state": {
      "_dom_classes": [],
      "_model_module": "@jupyter-widgets/controls",
      "_model_module_version": "1.5.0",
      "_model_name": "HBoxModel",
      "_view_count": null,
      "_view_module": "@jupyter-widgets/controls",
      "_view_module_version": "1.5.0",
      "_view_name": "HBoxView",
      "box_style": "",
      "children": [
       "IPY_MODEL_5814c09bde974fcda7fe3a56c8a2db0f",
       "IPY_MODEL_dafd9dd15ca34cd7afcb9ee580ae2a2b"
      ],
      "layout": "IPY_MODEL_3f68f13f338e4fed82640c015824939b"
     }
    }
   }
  }
 },
 "nbformat": 4,
 "nbformat_minor": 5
}
