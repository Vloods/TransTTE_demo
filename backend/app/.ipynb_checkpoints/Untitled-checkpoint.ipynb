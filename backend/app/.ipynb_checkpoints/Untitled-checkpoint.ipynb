{
 "cells": [
  {
   "cell_type": "code",
   "execution_count": 1,
   "id": "951c0e17-f40e-4c1e-92ab-81d123851548",
   "metadata": {},
   "outputs": [],
   "source": [
    "import random\n",
    "from pathlib import Path\n",
    "import os\n",
    "import pickle\n",
    "import io\n",
    "\n",
    "import requests\n",
    "import json\n",
    "\n",
    "# import uvicorn\n",
    "from fastapi.responses import StreamingResponse\n",
    "from fastapi import FastAPI, Request, HTTPException\n",
    "from fastapi.responses import JSONResponse\n",
    "from fastapi.middleware.cors import CORSMiddleware\n",
    "from pydantic import BaseModel\n",
    "import pandas as pd\n",
    "from loguru import logger\n",
    "\n",
    "from settings import Settings\n",
    "from dijkstra_inference import DijkstraPath\n",
    "from eta_inference import ETAInf\n",
    "from fastapi.staticfiles import StaticFiles\n",
    "from fastapi.responses import JSONResponse, HTMLResponse\n",
    "from fastapi import(\n",
    "    FastAPI,\n",
    "    Header,\n",
    "    HTTPException,\n",
    "    Depends,\n",
    "    Request,\n",
    "    File,\n",
    "    UploadFile\n",
    "    )"
   ]
  },
  {
   "cell_type": "code",
   "execution_count": 2,
   "id": "5eee9a76-be31-4b33-a5e2-90043a48f57d",
   "metadata": {},
   "outputs": [],
   "source": [
    "origins = [\"*\"]\n",
    "BASE = Path(os.path.realpath('')).parent  / 'app'\n",
    "\n",
    "app = FastAPI()\n",
    "app.add_middleware(\n",
    "    CORSMiddleware,\n",
    "    allow_origins=origins,\n",
    "    allow_credentials=True,\n",
    "    allow_methods=[\"*\"],\n",
    "    allow_headers=[\"*\"],\n",
    ")\n",
    "app.mount('/js', StaticFiles(directory=BASE / 'js'))\n",
    "app.mount('/css', StaticFiles(directory=BASE / 'css'))\n",
    "\n",
    "dijkstra_abakan = DijkstraPath(BASE / 'data/dijkstra.pickle', BASE / 'data/clear_nodes.pkl')\n",
    "etainf_abakan = ETAInf(BASE / 'data/SimpleTTE.pth', BASE / 'data/meteoData.csv', BASE / 'data/dgi_sage_abakan_5_5_5_relu_relu_relu_200e_mean_pool_0.0114.csv')\n",
    "weights_dict_abakan = {}\n",
    "\n",
    "\n",
    "dijkstra_omsk = DijkstraPath(BASE / 'data/dijkstra.pickle', BASE / 'data/clear_nodes.pkl')\n",
    "etainf_omsk = ETAInf(BASE / 'data/SimpleTTE.pth', BASE / 'data/meteoData.csv', BASE / 'data/dgi_sage_abakan_5_5_5_relu_relu_relu_200e_mean_pool_0.0114.csv')\n",
    "weights_dict_omsk = {}"
   ]
  },
  {
   "cell_type": "code",
   "execution_count": 3,
   "id": "ed7be32c-2032-478c-b4b7-556b501ef1c0",
   "metadata": {},
   "outputs": [],
   "source": [
    "for weight in sorted((BASE / 'data/weights_abakan').iterdir()):\n",
    "    if '.pkl' in weight.name:\n",
    "        with open(weight, 'rb') as fd:\n",
    "            weights_dict_abakan[weight.name.split('.')[0]] = pickle.load(fd)"
   ]
  },
  {
   "cell_type": "code",
   "execution_count": 4,
   "id": "2b5320a4-9649-4fcb-9a7e-2a5e6c0744b8",
   "metadata": {},
   "outputs": [],
   "source": [
    "import requests\n",
    "from pydantic import BaseModel\n",
    "class Points(BaseModel):\n",
    "    start_lat: float = 505.7809453\n",
    "    start_lon: float = 37.6373427\n",
    "    end_lat: float = 55.6217188\n",
    "    end_lon: float = 37.49859"
   ]
  },
  {
   "cell_type": "code",
   "execution_count": 5,
   "id": "61ff3498-f54a-4651-829f-22b186e16a79",
   "metadata": {},
   "outputs": [],
   "source": [
    "points = Points()"
   ]
  },
  {
   "cell_type": "code",
   "execution_count": 6,
   "id": "c1c9adcb-242c-4a61-87aa-8050d123c654",
   "metadata": {},
   "outputs": [
    {
     "ename": "NameError",
     "evalue": "name 'g' is not defined",
     "output_type": "error",
     "traceback": [
      "\u001b[0;31m---------------------------------------------------------------------------\u001b[0m",
      "\u001b[0;31mNameError\u001b[0m                                 Traceback (most recent call last)",
      "\u001b[0;32m/var/folders/bk/hpwltx6j5tz7s0h6xp59wqpw0000gn/T/ipykernel_5709/2304545048.py\u001b[0m in \u001b[0;36m<module>\u001b[0;34m\u001b[0m\n\u001b[1;32m      1\u001b[0m \u001b[0;32mfor\u001b[0m \u001b[0mname\u001b[0m\u001b[0;34m,\u001b[0m \u001b[0mweights\u001b[0m \u001b[0;32min\u001b[0m \u001b[0mweights_dict_abakan\u001b[0m\u001b[0;34m.\u001b[0m\u001b[0mitems\u001b[0m\u001b[0;34m(\u001b[0m\u001b[0;34m)\u001b[0m\u001b[0;34m:\u001b[0m\u001b[0;34m\u001b[0m\u001b[0;34m\u001b[0m\u001b[0m\n\u001b[0;32m----> 2\u001b[0;31m             \u001b[0mp\u001b[0m\u001b[0;34m,\u001b[0m \u001b[0mpath\u001b[0m\u001b[0;34m,\u001b[0m \u001b[0mtime\u001b[0m \u001b[0;34m=\u001b[0m \u001b[0mdijkstra_abakan\u001b[0m\u001b[0;34m.\u001b[0m\u001b[0mget_shortest_path_grph\u001b[0m\u001b[0;34m(\u001b[0m\u001b[0;34m(\u001b[0m\u001b[0mpoints\u001b[0m\u001b[0;34m.\u001b[0m\u001b[0mstart_lat\u001b[0m\u001b[0;34m,\u001b[0m \u001b[0mpoints\u001b[0m\u001b[0;34m.\u001b[0m\u001b[0mstart_lon\u001b[0m\u001b[0;34m)\u001b[0m\u001b[0;34m,\u001b[0m \u001b[0;34m(\u001b[0m\u001b[0mpoints\u001b[0m\u001b[0;34m.\u001b[0m\u001b[0mend_lat\u001b[0m\u001b[0;34m,\u001b[0m \u001b[0mpoints\u001b[0m\u001b[0;34m.\u001b[0m\u001b[0mend_lon\u001b[0m\u001b[0;34m)\u001b[0m\u001b[0;34m,\u001b[0m \u001b[0mweights\u001b[0m\u001b[0;34m)\u001b[0m\u001b[0;34m\u001b[0m\u001b[0;34m\u001b[0m\u001b[0m\n\u001b[0m",
      "\u001b[0;32m~/Documents/job/Projects/Graphormer/TransTTE_demo-master/backend/app/dijkstra_inference.py\u001b[0m in \u001b[0;36mget_shortest_path_grph\u001b[0;34m(self, cor1, cor2, weights)\u001b[0m\n\u001b[1;32m     62\u001b[0m                 \u001b[0mtime\u001b[0m \u001b[0;34m=\u001b[0m \u001b[0;36m0\u001b[0m\u001b[0;34m\u001b[0m\u001b[0;34m\u001b[0m\u001b[0m\n\u001b[1;32m     63\u001b[0m                 \u001b[0;32mfor\u001b[0m \u001b[0me\u001b[0m \u001b[0;32min\u001b[0m \u001b[0mpath\u001b[0m\u001b[0;34m:\u001b[0m\u001b[0;34m\u001b[0m\u001b[0;34m\u001b[0m\u001b[0m\n\u001b[0;32m---> 64\u001b[0;31m                     \u001b[0mtime\u001b[0m \u001b[0;34m+=\u001b[0m \u001b[0mg\u001b[0m\u001b[0;34m.\u001b[0m\u001b[0mes\u001b[0m\u001b[0;34m[\u001b[0m\u001b[0me\u001b[0m\u001b[0;34m]\u001b[0m\u001b[0;34m[\u001b[0m\u001b[0;34m\"weight\"\u001b[0m\u001b[0;34m]\u001b[0m\u001b[0;34m\u001b[0m\u001b[0;34m\u001b[0m\u001b[0m\n\u001b[0m\u001b[1;32m     65\u001b[0m                 \u001b[0mprint\u001b[0m\u001b[0;34m(\u001b[0m\u001b[0;34m\"Shortest weighted distance is: \"\u001b[0m\u001b[0;34m,\u001b[0m \u001b[0mdistance\u001b[0m\u001b[0;34m)\u001b[0m\u001b[0;34m\u001b[0m\u001b[0;34m\u001b[0m\u001b[0m\n\u001b[1;32m     66\u001b[0m             \u001b[0;32melse\u001b[0m\u001b[0;34m:\u001b[0m\u001b[0;34m\u001b[0m\u001b[0;34m\u001b[0m\u001b[0m\n",
      "\u001b[0;31mNameError\u001b[0m: name 'g' is not defined"
     ]
    }
   ],
   "source": [
    "for name, weights in weights_dict_abakan.items():\n",
    "            p, path, time = dijkstra_abakan.get_shortest_path_grph((points.start_lat, points.start_lon), (points.end_lat, points.end_lon), weights)"
   ]
  },
  {
   "cell_type": "code",
   "execution_count": 12,
   "id": "a2809d8e-e427-408e-a609-1cf22f736eee",
   "metadata": {},
   "outputs": [
    {
     "data": {
      "text/plain": [
       "{}"
      ]
     },
     "execution_count": 12,
     "metadata": {},
     "output_type": "execute_result"
    }
   ],
   "source": [
    "weights_dict_abakan"
   ]
  },
  {
   "cell_type": "code",
   "execution_count": null,
   "id": "91be18cd-05eb-4aed-9fc8-c7e1d172130a",
   "metadata": {},
   "outputs": [],
   "source": []
  }
 ],
 "metadata": {
  "kernelspec": {
   "display_name": "Python 3 (ipykernel)",
   "language": "python",
   "name": "python3"
  },
  "language_info": {
   "codemirror_mode": {
    "name": "ipython",
    "version": 3
   },
   "file_extension": ".py",
   "mimetype": "text/x-python",
   "name": "python",
   "nbconvert_exporter": "python",
   "pygments_lexer": "ipython3",
   "version": "3.9.7"
  }
 },
 "nbformat": 4,
 "nbformat_minor": 5
}
