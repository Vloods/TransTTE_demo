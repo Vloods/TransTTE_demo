{
 "cells": [
  {
   "cell_type": "code",
   "execution_count": 31,
   "id": "e8b373ee-f9db-4289-b470-046c2a3879cb",
   "metadata": {},
   "outputs": [],
   "source": [
    "import torch\n",
    "import numpy as np\n",
    "from fairseq import checkpoint_utils, utils, options, tasks\n",
    "from fairseq.logging import progress_bar\n",
    "from fairseq.dataclass.utils import convert_namespace_to_omegaconf\n",
    "import ogb\n",
    "import sys\n",
    "import os\n",
    "from pathlib import Path\n",
    "from sklearn.metrics import roc_auc_score, mean_squared_error, mean_absolute_percentage_error, mean_absolute_error\n",
    "\n",
    "from os import path\n",
    "# sys.path.append( path.dirname( path.dirname( path.abspath(__file__) ) ) )\n",
    "import logging\n",
    "from data_class import geo_Omsk, single_geo_Omsk, GraphormerPYGDataset_predict\n",
    "import os.path as osp\n",
    "from torch_geometric.data import Dataset\n",
    "from functools import lru_cache\n",
    "import torch_geometric.datasets\n",
    "from ogb.graphproppred import PygGraphPropPredDataset\n",
    "from ogb.lsc.pcqm4m_pyg import PygPCQM4MDataset\n",
    "import pyximport\n",
    "from torch_geometric.data import InMemoryDataset, download_url\n",
    "import pandas as pd\n",
    "from sklearn import preprocessing\n",
    "pyximport.install(setup_args={'include_dirs': np.get_include()})\n",
    "from torch_geometric.data import Data\n",
    "import time\n",
    "from torch_geometric.utils import add_self_loops, negative_sampling\n",
    "import copy\n",
    "from fairseq.data import (\n",
    "    NestedDictionaryDataset,\n",
    "    NumSamplesDataset,\n",
    ")\n",
    "sys.path.insert(2, '/home/jovyan/graphormer_v2/graphormer')\n",
    "from pretrain import load_pretrained_model\n",
    "from data.pyg_datasets.pyg_dataset import GraphormerPYGDataset\n",
    "from data.dataset import (\n",
    "    BatchedDataDataset,\n",
    "    TargetDataset,\n",
    "    GraphormerDataset)\n",
    "\n",
    "def eval(args, use_pretrained, checkpoint_path=None, logger=None, data_name = None):\n",
    "    cfg = convert_namespace_to_omegaconf(args)\n",
    "    np.random.seed(cfg.common.seed)\n",
    "    utils.set_torch_seed(cfg.common.seed)\n",
    "    seed = 71\n",
    "    \n",
    "    ### data loading\n",
    "    # name = 'omsk'\n",
    "    if data_name == 'omsk':\n",
    "        root = osp.join('dataset', data_name)\n",
    "        raw_dir = osp.join(root, 'processed', 'data_omsk_1')\n",
    "        data = single_geo_Omsk(root = raw_dir)\n",
    "        GPYG = GraphormerPYGDataset_predict(data,seed,None,data,'omsk')\n",
    "    batched_data = BatchedDataDataset(GPYG)\n",
    "    data_sizes = np.array([128] * len(batched_data))\n",
    "    dataset_total = NestedDictionaryDataset(\n",
    "            {\n",
    "                \"nsamples\": NumSamplesDataset(),\n",
    "                \"net_input\": {\"batched_data\": batched_data},\n",
    "                \"target\": batched_data,\n",
    "            },\n",
    "        sizes=data_sizes,\n",
    "        )\n",
    "    ###\n",
    "    \n",
    "    ### initialize task\n",
    "    task = tasks.setup_task(cfg.task)\n",
    "    model = task.build_model(cfg.model)\n",
    "    batch_iterator = task.get_batch_iterator(\n",
    "        dataset=dataset_total\n",
    "    )\n",
    "    itr = batch_iterator.next_epoch_itr(shuffle=False, set_dataset_epoch=False)\n",
    "    progress = progress_bar.progress_bar(itr)\n",
    "    ###\n",
    "    \n",
    "    ### load checkpoint\n",
    "    model_state = torch.load(checkpoint_path)[\"model\"]\n",
    "    model.load_state_dict(model_state, strict=True, model_cfg=cfg.model)\n",
    "    model.to(torch.cuda.current_device())\n",
    "    del model_state\n",
    "    ###\n",
    "    \n",
    "    ### prediction\n",
    "    y_pred = []\n",
    "    with torch.no_grad():\n",
    "        model.eval()\n",
    "        for i, sample in enumerate(progress):\n",
    "            sample = utils.move_to_cuda(sample)\n",
    "            y = model(**sample[\"net_input\"])[:, 0, :].reshape(-1)\n",
    "            y_pred.extend(y.detach().cpu())\n",
    "            torch.cuda.empty_cache()\n",
    "    ###\n",
    "    \n",
    "    # save predictions\n",
    "    y_pred = torch.Tensor(y_pred)\n",
    "    print(y_pred)\n",
    "    \n",
    "    return y_pred\n",
    "\n",
    " \n",
    "\n",
    "\n",
    "def main():\n",
    "    \n",
    "    parser_dict = dict()\n",
    "    parser_dict['num-atoms'] = str(6656)\n",
    "    train_parser = options.get_training_parser()\n",
    "    train_parser.add_argument(\n",
    "            \"--split\",\n",
    "            type=str,\n",
    "        )\n",
    "    train_parser.add_argument(\n",
    "            \"--dataset_name\",\n",
    "            type=str,\n",
    "        )\n",
    "    train_parser.add_argument(\n",
    "            \"--metric\",\n",
    "            type=str,\n",
    "        )\n",
    "    train_args = options.parse_args_and_arch(\n",
    "        train_parser,\n",
    "        [\n",
    "            '--user-dir' , '../../graphormer',\n",
    "            '--num-workers' , '10', \n",
    "            '--ddp-backend' , 'legacy_ddp', \n",
    "            '--dataset_name' , 'omsk', \n",
    "            '--dataset-source' , 'pyg', \n",
    "            '--num-atoms' , parser_dict['num-atoms'], \n",
    "            '--task' , 'graph_prediction', \n",
    "            '--criterion' , 'l1_loss', \n",
    "            '--arch' , 'graphormer_slim',\n",
    "            '--num-classes' , '1', \n",
    "            '--batch-size' , '1', \n",
    "            '--save-dir' ,  '../../examples/georides/omsk/ckpts/',\n",
    "            '--split' , 'valid', \n",
    "            '--metric' , 'rmse', \n",
    "        ]\n",
    "    )\n",
    "    args = train_args\n",
    "    checkpoint_fname = 'checkpoint_best.pt'\n",
    "    checkpoint_path = Path(args.save_dir) / checkpoint_fname\n",
    "    y_preds = eval(args, False, checkpoint_path, None, args.dataset_name)\n",
    "    return y_preds"
   ]
  },
  {
   "cell_type": "code",
   "execution_count": 32,
   "id": "f549a541-5e30-4ae7-9f7c-be87285be0f1",
   "metadata": {},
   "outputs": [
    {
     "name": "stderr",
     "output_type": "stream",
     "text": [
      "2022-03-31 12:56:58 | INFO | graphormer.models.graphormer | Namespace(_name='graphormer_slim', act_dropout=0.0, activation_fn='gelu', all_gather_list_size=16384, amp=False, amp_batch_retries=2, amp_init_scale=128, amp_scale_window=None, apply_graphormer_init=True, arch='graphormer_slim', attention_dropout=0.1, azureml_logging=False, batch_size=1, batch_size_valid=1, best_checkpoint_metric='loss', bf16=False, bpe=None, broadcast_buffers=False, bucket_cap_mb=25, checkpoint_shard_count=1, checkpoint_suffix='', clip_norm=0.0, combine_valid_subsets=None, cpu=False, cpu_offload=False, criterion='l1_loss', curriculum=0, data_buffer_size=10, dataset_impl=None, dataset_name='omsk', dataset_source='pyg', ddp_backend='legacy_ddp', ddp_comm_hook='none', device_id=0, disable_validation=False, distributed_backend='nccl', distributed_init_method=None, distributed_no_spawn=False, distributed_num_procs=1, distributed_port=-1, distributed_rank=0, distributed_world_size=1, dropout=0.1, edge_type='multi_hop', ema_decay=0.9999, ema_fp32=False, ema_seed_model=None, ema_start_update=0, ema_update_freq=1, empty_cache_freq=0, encoder_attention_heads=8, encoder_embed_dim=80, encoder_ffn_embed_dim=80, encoder_layers=12, encoder_normalize_before=True, eos=2, fast_stat_sync=False, find_unused_parameters=False, finetune_from_model=None, fix_batches_to_gpus=False, fixed_validation_seed=None, force_anneal=None, fp16=False, fp16_init_scale=128, fp16_no_flatten_grads=False, fp16_scale_tolerance=0.0, fp16_scale_window=None, fp32_reduce_scatter=False, gen_subset='test', gradient_as_bucket_view=False, grouped_shuffling=False, heartbeat_timeout=-1, ignore_unused_valid_subsets=False, keep_best_checkpoints=-1, keep_interval_updates=-1, keep_interval_updates_pattern=-1, keep_last_epochs=-1, load_checkpoint_on_all_dp_ranks=False, load_pretrained_model_output_layer=False, localsgd_frequency=3, log_file=None, log_format=None, log_interval=100, lr=[0.25], lr_scheduler='fixed', lr_shrink=0.1, max_epoch=0, max_nodes=128, max_tokens=None, max_tokens_valid=None, max_update=0, max_valid_steps=None, maximize_best_checkpoint_metric=False, memory_efficient_bf16=False, memory_efficient_fp16=False, metric='rmse', min_loss_scale=0.0001, model_parallel_size=1, multi_hop_max_dist=5, no_epoch_checkpoints=False, no_last_checkpoints=False, no_progress_bar=False, no_reshard_after_forward=False, no_save=False, no_save_optimizer_state=False, no_seed_provided=False, no_token_positional_embeddings=False, not_fsdp_flatten_parameters=False, nprocs_per_node=1, num_atoms=6656, num_classes=1, num_edge_dis=128, num_edges=1536, num_in_degree=512, num_out_degree=512, num_shards=1, num_spatial=512, num_workers=10, on_cpu_convert_precision=False, optimizer=None, optimizer_overrides='{}', pad=1, patience=-1, pipeline_balance=None, pipeline_checkpoint='never', pipeline_chunks=0, pipeline_decoder_balance=None, pipeline_decoder_devices=None, pipeline_devices=None, pipeline_encoder_balance=None, pipeline_encoder_devices=None, pipeline_model_parallel=False, plasma_path='/tmp/plasma', pretrained_model_name='none', profile=False, quantization_config_path=None, required_batch_size_multiple=8, required_seq_len_multiple=1, reset_dataloader=False, reset_logging=False, reset_lr_scheduler=False, reset_meters=False, reset_optimizer=False, restore_file='checkpoint_last.pt', save_dir='../../examples/georides/omsk/ckpts/', save_interval=1, save_interval_updates=0, scoring='bleu', seed=1, sentence_avg=False, shard_id=0, share_encoder_input_output_embed=False, skip_invalid_size_inputs_valid_test=False, skip_remainder_batch=False, slowmo_base_algorithm='localsgd', slowmo_momentum=None, spatial_pos_max=1024, split='valid', stop_min_lr=-1.0, stop_time_hours=0, store_ema=False, suppress_crashes=False, task='graph_prediction', tensorboard_logdir=None, threshold_loss_scale=None, tokenizer=None, tpu=False, train_epoch_shuffle=False, train_subset='train', unk=3, update_epoch_batch_itr=False, update_freq=[1], update_ordered_indices_seed=False, use_bmuf=False, use_plasma_view=False, use_sharded_state=False, user_data_dir='', user_dir='../../graphormer', valid_subset='valid', validate_after_updates=0, validate_interval=1, validate_interval_updates=0, wandb_project=None, warmup_updates=0, write_checkpoints_asynchronously=False, zero_sharding='none')\n"
     ]
    },
    {
     "name": "stdout",
     "output_type": "stream",
     "text": [
      "idx 0\n",
      "start find path dijkstra\n",
      "dijkstra end with time 0.016715288162231445\n",
      "start gen_edge_input dijkstra\n",
      "gen_edge_input dijkstra end with time 0.010783910751342773\n",
      "idx 1\n",
      "start find path dijkstra\n",
      "dijkstra end with time 0.03815126419067383\n",
      "start gen_edge_input dijkstra\n",
      "gen_edge_input dijkstra end with time 0.021805524826049805\n",
      "idx 2\n",
      "start find path dijkstra\n",
      "dijkstra end with time 0.07062625885009766\n",
      "start gen_edge_input dijkstra\n",
      "gen_edge_input dijkstra end with time 0.057898759841918945\n",
      "idx 3\n",
      "start find path dijkstra\n",
      "dijkstra end with time 0.009055376052856445\n",
      "start gen_edge_input dijkstra\n",
      "gen_edge_input dijkstra end with time 0.007422208786010742\n",
      "idx 4\n",
      "start find path dijkstra\n",
      "dijkstra end with time 0.02142167091369629\n",
      "start gen_edge_input dijkstra\n",
      "gen_edge_input dijkstra end with time 0.01580667495727539\n",
      "idx 5\n",
      "start find path dijkstra\n",
      "dijkstra end with time 0.16559171676635742\n",
      "start gen_edge_input dijkstra\n",
      "gen_edge_input dijkstra end with time 0.07932734489440918\n",
      "idx 6\n",
      "start find path dijkstra\n",
      "dijkstra end with time 0.004812717437744141\n",
      "start gen_edge_input dijkstra\n",
      "gen_edge_input dijkstra end with time 0.004090547561645508\n",
      "idx 7\n",
      "start find path dijkstra\n",
      "dijkstra end with time 0.009136438369750977\n",
      "start gen_edge_input dijkstra\n",
      "gen_edge_input dijkstra end with time 0.00870513916015625\n",
      "idx 8\n",
      "start find path dijkstra\n",
      "dijkstra end with time 0.2391371726989746\n",
      "start gen_edge_input dijkstra\n",
      "gen_edge_input dijkstra end with time 0.0951240062713623\n",
      "idx 9\n",
      "start find path dijkstra\n",
      "dijkstra end with time 0.13714218139648438\n",
      "start gen_edge_input dijkstra\n",
      "gen_edge_input dijkstra end with time 0.08592677116394043\n",
      "tensor([ 298.6819,  492.9816,  682.6969,  330.0759,  338.0249,  795.2327,\n",
      "         347.4072,  320.3160, 1042.5276,  891.8836])\n"
     ]
    }
   ],
   "source": [
    "y_preds = main()"
   ]
  },
  {
   "cell_type": "code",
   "execution_count": 33,
   "id": "24e38cbf-b3db-43c0-943f-7df44a3dfc13",
   "metadata": {},
   "outputs": [
    {
     "data": {
      "text/plain": [
       "tensor([ 298.6819,  492.9816,  682.6969,  330.0759,  338.0249,  795.2327,\n",
       "         347.4072,  320.3160, 1042.5276,  891.8836])"
      ]
     },
     "execution_count": 33,
     "metadata": {},
     "output_type": "execute_result"
    }
   ],
   "source": [
    "y_preds"
   ]
  },
  {
   "cell_type": "code",
   "execution_count": 25,
   "id": "6ac7ee9a-073f-48f2-9d70-f9c337864c4e",
   "metadata": {},
   "outputs": [
    {
     "ename": "AttributeError",
     "evalue": "'dict' object has no attribute 'lev'",
     "output_type": "error",
     "traceback": [
      "\u001b[0;31m---------------------------------------------------------------------------\u001b[0m",
      "\u001b[0;31mAttributeError\u001b[0m                            Traceback (most recent call last)",
      "\u001b[0;32m/tmp/ipykernel_5398/2988292715.py\u001b[0m in \u001b[0;36m<module>\u001b[0;34m\u001b[0m\n\u001b[1;32m      1\u001b[0m \u001b[0mlolo\u001b[0m \u001b[0;34m=\u001b[0m \u001b[0mdict\u001b[0m\u001b[0;34m(\u001b[0m\u001b[0;34m)\u001b[0m\u001b[0;34m\u001b[0m\u001b[0;34m\u001b[0m\u001b[0m\n\u001b[1;32m      2\u001b[0m \u001b[0mlolo\u001b[0m\u001b[0;34m[\u001b[0m\u001b[0;34m'lev'\u001b[0m\u001b[0;34m]\u001b[0m \u001b[0;34m=\u001b[0m \u001b[0;36m1\u001b[0m\u001b[0;34m\u001b[0m\u001b[0;34m\u001b[0m\u001b[0m\n\u001b[0;32m----> 3\u001b[0;31m \u001b[0mlolo\u001b[0m\u001b[0;34m.\u001b[0m\u001b[0mlev\u001b[0m\u001b[0;34m\u001b[0m\u001b[0;34m\u001b[0m\u001b[0m\n\u001b[0m",
      "\u001b[0;31mAttributeError\u001b[0m: 'dict' object has no attribute 'lev'"
     ]
    }
   ],
   "source": [
    "lolo = dict()\n",
    "lolo['lev'] = 1\n",
    "lolo.lev"
   ]
  },
  {
   "cell_type": "code",
   "execution_count": 26,
   "id": "9b6cee53-6475-4dc9-b7ef-837f3a6fb92f",
   "metadata": {},
   "outputs": [],
   "source": [
    "from fairseq import options"
   ]
  },
  {
   "cell_type": "code",
   "execution_count": 29,
   "id": "2d97142a-cfa8-489f-8ed1-2fecc26f0a08",
   "metadata": {},
   "outputs": [],
   "source": [
    "parser = dict()\n",
    "parser['user-dir'] = '../../graphormer' \n",
    "parser['num-workers'] = 10 \n",
    "parser['ddp-backend'] = 'legacy_ddp' \n",
    "parser['dataset_name'] = 'omsk' \n",
    "parser['dataset-source'] = 'pyg' \n",
    "parser['num-atoms'] = 6656 \n",
    "parser['task'] = 'graph_prediction' \n",
    "parser['criterion'] = 'l1_loss' \n",
    "parser['arch'] = 'graphormer_slim'\n",
    "parser['num-classes'] = 1 \n",
    "parser['batch-size'] = 1 \n",
    "parser['save-dir'] =  '../../examples/georides/omsk/ckpts/'\n",
    "parser['split'] = 'valid' \n",
    "parser['metric'] = 'rmse' \n",
    "parser_2 = options.get_training_parser()"
   ]
  },
  {
   "cell_type": "code",
   "execution_count": 30,
   "id": "fc74ac22-f49c-401e-9449-e1fdeb2c52cc",
   "metadata": {},
   "outputs": [
    {
     "ename": "TypeError",
     "evalue": "'ArgumentParser' object is not callable",
     "output_type": "error",
     "traceback": [
      "\u001b[0;31m---------------------------------------------------------------------------\u001b[0m",
      "\u001b[0;31mTypeError\u001b[0m                                 Traceback (most recent call last)",
      "\u001b[0;32m/tmp/ipykernel_5398/1659665231.py\u001b[0m in \u001b[0;36m<module>\u001b[0;34m\u001b[0m\n\u001b[0;32m----> 1\u001b[0;31m \u001b[0mparser_2\u001b[0m\u001b[0;34m(\u001b[0m\u001b[0mparser\u001b[0m\u001b[0;34m)\u001b[0m\u001b[0;34m\u001b[0m\u001b[0;34m\u001b[0m\u001b[0m\n\u001b[0m",
      "\u001b[0;31mTypeError\u001b[0m: 'ArgumentParser' object is not callable"
     ]
    }
   ],
   "source": [
    "parser_2(parser)"
   ]
  },
  {
   "cell_type": "code",
   "execution_count": 5,
   "id": "c319408a-d1a0-4532-b0c6-afe53177219e",
   "metadata": {},
   "outputs": [],
   "source": [
    "from fairseq import checkpoint_utils, utils, options, tasks\n",
    "\n",
    "train_parser = options.get_training_parser()\n",
    "train_parser.add_argument(\n",
    "        \"--split\",\n",
    "        type=str,\n",
    "    )\n",
    "train_parser.add_argument(\n",
    "        \"--dataset_name\",\n",
    "        type=str,\n",
    "    )\n",
    "train_parser.add_argument(\n",
    "        \"--metric\",\n",
    "        type=str,\n",
    "    )\n",
    "train_args = options.parse_args_and_arch(\n",
    "    train_parser,\n",
    "    [\n",
    "        '--user-dir' , '../../graphormer',\n",
    "        '--num-workers' , '10', \n",
    "        '--ddp-backend' , 'legacy_ddp', \n",
    "        '--dataset_name' , 'omsk', \n",
    "        '--dataset-source' , 'pyg', \n",
    "        '--num-atoms' , '6656', \n",
    "        '--task' , 'graph_prediction', \n",
    "        '--criterion' , 'l1_loss', \n",
    "        '--arch' , 'graphormer_slim',\n",
    "        '--num-classes' , '1', \n",
    "        '--batch-size' , '1', \n",
    "        '--save-dir' ,  '../../examples/georides/omsk/ckpts/',\n",
    "        '--split' , 'valid', \n",
    "        '--metric' , 'rmse', \n",
    "    ]\n",
    ")\n"
   ]
  },
  {
   "cell_type": "code",
   "execution_count": 6,
   "id": "c853a7e9-100f-493e-a01e-4e4a0fed93f5",
   "metadata": {},
   "outputs": [
    {
     "data": {
      "text/plain": [
       "Namespace(act_dropout=0.0, activation_fn='gelu', all_gather_list_size=16384, amp=False, amp_batch_retries=2, amp_init_scale=128, amp_scale_window=None, apply_graphormer_init=True, arch='graphormer_slim', attention_dropout=0.1, azureml_logging=False, batch_size=1, batch_size_valid=1, best_checkpoint_metric='loss', bf16=False, bpe=None, broadcast_buffers=False, bucket_cap_mb=25, checkpoint_shard_count=1, checkpoint_suffix='', clip_norm=0.0, combine_valid_subsets=None, cpu=False, cpu_offload=False, criterion='l1_loss', curriculum=0, data_buffer_size=10, dataset_impl=None, dataset_name='omsk', dataset_source='pyg', ddp_backend='legacy_ddp', ddp_comm_hook='none', device_id=0, disable_validation=False, distributed_backend='nccl', distributed_init_method=None, distributed_no_spawn=False, distributed_num_procs=1, distributed_port=-1, distributed_rank=0, distributed_world_size=1, dropout=0.1, edge_type='multi_hop', ema_decay=0.9999, ema_fp32=False, ema_seed_model=None, ema_start_update=0, ema_update_freq=1, empty_cache_freq=0, encoder_attention_heads=8, encoder_embed_dim=80, encoder_ffn_embed_dim=80, encoder_layers=12, encoder_normalize_before=True, eos=2, fast_stat_sync=False, find_unused_parameters=False, finetune_from_model=None, fix_batches_to_gpus=False, fixed_validation_seed=None, force_anneal=None, fp16=False, fp16_init_scale=128, fp16_no_flatten_grads=False, fp16_scale_tolerance=0.0, fp16_scale_window=None, fp32_reduce_scatter=False, gen_subset='test', gradient_as_bucket_view=False, grouped_shuffling=False, heartbeat_timeout=-1, ignore_unused_valid_subsets=False, keep_best_checkpoints=-1, keep_interval_updates=-1, keep_interval_updates_pattern=-1, keep_last_epochs=-1, load_checkpoint_on_all_dp_ranks=False, load_pretrained_model_output_layer=False, localsgd_frequency=3, log_file=None, log_format=None, log_interval=100, lr=[0.25], lr_scheduler='fixed', lr_shrink=0.1, max_epoch=0, max_nodes=128, max_tokens=None, max_tokens_valid=None, max_update=0, max_valid_steps=None, maximize_best_checkpoint_metric=False, memory_efficient_bf16=False, memory_efficient_fp16=False, metric='rmse', min_loss_scale=0.0001, model_parallel_size=1, multi_hop_max_dist=5, no_epoch_checkpoints=False, no_last_checkpoints=False, no_progress_bar=False, no_reshard_after_forward=False, no_save=False, no_save_optimizer_state=False, no_seed_provided=False, no_token_positional_embeddings=False, not_fsdp_flatten_parameters=False, nprocs_per_node=1, num_atoms=6656, num_classes=1, num_edge_dis=128, num_edges=1536, num_in_degree=512, num_out_degree=512, num_shards=1, num_spatial=512, num_workers=10, on_cpu_convert_precision=False, optimizer=None, optimizer_overrides='{}', pad=1, patience=-1, pipeline_balance=None, pipeline_checkpoint='never', pipeline_chunks=0, pipeline_decoder_balance=None, pipeline_decoder_devices=None, pipeline_devices=None, pipeline_encoder_balance=None, pipeline_encoder_devices=None, pipeline_model_parallel=False, plasma_path='/tmp/plasma', pretrained_model_name='none', profile=False, quantization_config_path=None, required_batch_size_multiple=8, required_seq_len_multiple=1, reset_dataloader=False, reset_logging=False, reset_lr_scheduler=False, reset_meters=False, reset_optimizer=False, restore_file='checkpoint_last.pt', save_dir='../../examples/georides/omsk/ckpts/', save_interval=1, save_interval_updates=0, scoring='bleu', seed=1, sentence_avg=False, shard_id=0, share_encoder_input_output_embed=False, skip_invalid_size_inputs_valid_test=False, skip_remainder_batch=False, slowmo_base_algorithm='localsgd', slowmo_momentum=None, spatial_pos_max=1024, split='valid', stop_min_lr=-1.0, stop_time_hours=0, store_ema=False, suppress_crashes=False, task='graph_prediction', tensorboard_logdir=None, threshold_loss_scale=None, tokenizer=None, tpu=False, train_epoch_shuffle=False, train_subset='train', unk=3, update_epoch_batch_itr=False, update_freq=[1], update_ordered_indices_seed=False, use_bmuf=False, use_plasma_view=False, use_sharded_state=False, user_data_dir='', user_dir='../../graphormer', valid_subset='valid', validate_after_updates=0, validate_interval=1, validate_interval_updates=0, wandb_project=None, warmup_updates=0, write_checkpoints_asynchronously=False, zero_sharding='none')"
      ]
     },
     "execution_count": 6,
     "metadata": {},
     "output_type": "execute_result"
    }
   ],
   "source": [
    "train_args"
   ]
  },
  {
   "cell_type": "code",
   "execution_count": null,
   "id": "b08f8ee2-a63a-4dcc-ac83-8b00189d8516",
   "metadata": {},
   "outputs": [],
   "source": []
  },
  {
   "cell_type": "code",
   "execution_count": null,
   "id": "853a5257-a992-4534-8f13-f62bf652ac23",
   "metadata": {},
   "outputs": [],
   "source": []
  },
  {
   "cell_type": "code",
   "execution_count": 35,
   "id": "458b33dd-19e6-43ac-a675-3457587b42fd",
   "metadata": {},
   "outputs": [],
   "source": [
    "root = osp.join('dataset', 'omsk')\n",
    "raw_dir = osp.join(root, 'processed', 'data_omsk_1')\n",
    "data = single_geo_Omsk(root = raw_dir)"
   ]
  },
  {
   "cell_type": "code",
   "execution_count": 37,
   "id": "863cbb19-33c5-49c0-9e6f-ce1a67a779b0",
   "metadata": {},
   "outputs": [
    {
     "data": {
      "text/plain": [
       "Data(edge_attr=[53, 1], edge_index=[2, 53], x=[53, 13], y=[1])"
      ]
     },
     "execution_count": 37,
     "metadata": {},
     "output_type": "execute_result"
    }
   ],
   "source": [
    "data[0]"
   ]
  },
  {
   "cell_type": "code",
   "execution_count": null,
   "id": "29aada19-ed98-4920-83ac-da45ae977952",
   "metadata": {},
   "outputs": [],
   "source": []
  }
 ],
 "metadata": {
  "kernelspec": {
   "display_name": "Python 3 (ipykernel)",
   "language": "python",
   "name": "python3"
  },
  "language_info": {
   "codemirror_mode": {
    "name": "ipython",
    "version": 3
   },
   "file_extension": ".py",
   "mimetype": "text/x-python",
   "name": "python",
   "nbconvert_exporter": "python",
   "pygments_lexer": "ipython3",
   "version": "3.7.12"
  }
 },
 "nbformat": 4,
 "nbformat_minor": 5
}
