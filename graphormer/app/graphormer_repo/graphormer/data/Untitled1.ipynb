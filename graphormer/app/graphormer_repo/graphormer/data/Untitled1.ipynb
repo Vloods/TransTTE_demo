{
 "cells": [
  {
   "cell_type": "code",
   "execution_count": 11,
   "id": "cc6fc3bc-bbca-437e-934a-4dbcf6711089",
   "metadata": {},
   "outputs": [],
   "source": [
    "class klo():\n",
    "    def a(self):\n",
    "        return 1"
   ]
  },
  {
   "cell_type": "code",
   "execution_count": 12,
   "id": "0f842dca-4c6a-4ae6-b96c-963928671d8f",
   "metadata": {},
   "outputs": [],
   "source": [
    "k = klo()"
   ]
  },
  {
   "cell_type": "code",
   "execution_count": 13,
   "id": "d775dad9-dac9-4892-916d-382f592f4d69",
   "metadata": {},
   "outputs": [],
   "source": [
    "try:\n",
    "    k.b\n",
    "except:\n",
    "    k.b = 1"
   ]
  },
  {
   "cell_type": "code",
   "execution_count": 14,
   "id": "7f9afe3d-509e-4fb9-8f41-4055814e0575",
   "metadata": {},
   "outputs": [
    {
     "data": {
      "text/plain": [
       "1"
      ]
     },
     "execution_count": 14,
     "metadata": {},
     "output_type": "execute_result"
    }
   ],
   "source": [
    "k.b"
   ]
  },
  {
   "cell_type": "code",
   "execution_count": null,
   "id": "2378a3b3-0c69-4a98-9d59-e16a9af4201c",
   "metadata": {},
   "outputs": [],
   "source": []
  }
 ],
 "metadata": {
  "kernelspec": {
   "display_name": "Python 3 (ipykernel)",
   "language": "python",
   "name": "python3"
  },
  "language_info": {
   "codemirror_mode": {
    "name": "ipython",
    "version": 3
   },
   "file_extension": ".py",
   "mimetype": "text/x-python",
   "name": "python",
   "nbconvert_exporter": "python",
   "pygments_lexer": "ipython3",
   "version": "3.7.12"
  }
 },
 "nbformat": 4,
 "nbformat_minor": 5
}
