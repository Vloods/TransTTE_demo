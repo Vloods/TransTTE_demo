{
 "cells": [
  {
   "cell_type": "code",
   "execution_count": 23,
   "id": "a217d447-1698-445e-9d1e-e9312aa5ef99",
   "metadata": {},
   "outputs": [],
   "source": [
    "import math\n",
    "import time\n",
    "import torch \n",
    "import numpy as np\n",
    "\n",
    "def arg_min(T, S):\n",
    "    amin = -1\n",
    "    m = math.inf  # максимальное значение\n",
    "    for i, t in enumerate(T):\n",
    "        if t < m and i not in S:\n",
    "            m = t\n",
    "            amin = i\n",
    "\n",
    "    return amin\n",
    "\n",
    "\n",
    "def algo_dijk(D):\n",
    "    N = len(D)  # число вершин в графе\n",
    "    T = [math.inf]*N   # последняя строка таблицы\n",
    "    path = list()\n",
    "    distance_matrix = np.zeros([N, N])\n",
    "    path_matrix = np.zeros([N, N])\n",
    "    for node in range(N):\n",
    "        v = node     # стартовая вершина (нумерация с нуля)\n",
    "        S = {v}     # просмотренные вершины\n",
    "        T = [math.inf]*N   # последняя строка таблицы\n",
    "        T[v] = 0    # нулевой вес для стартовой вершины\n",
    "        M = [0]*N   # оптимальные связи между вершинами\n",
    "\n",
    "        while v != -1:          # цикл, пока не просмотрим все вершины\n",
    "            for j, dw in enumerate(D[v]):   # перебираем все связанные вершины с вершиной v\n",
    "                if j not in S:           # если вершина еще не просмотрена\n",
    "                    w = T[v] + dw\n",
    "                    if w < T[j]:\n",
    "                        T[j] = w\n",
    "                        M[j] = v        # связываем вершину j с вершиной v\n",
    "\n",
    "            v = arg_min(T, S)            # выбираем следующий узел с наименьшим весом\n",
    "            if v >= 0:                    # выбрана очередная вершина\n",
    "                S.add(v)                 # добавляем новую вершину в рассмотрение\n",
    "\n",
    "    #print(T, M, sep=\"\\n\")\n",
    "        \n",
    "        distance_matrix[node] = T\n",
    "        path_matrix[node] = M\n",
    "\n",
    "        \n",
    "    return(distance_matrix, path_matrix)\n",
    "\n",
    "def get_all_edges_dijk(path, i, j):\n",
    "    # формирование оптимального маршрута:\n",
    "    start = i\n",
    "    end = j\n",
    "    P = [j]\n",
    "    while end != start:\n",
    "        end = int(path[i][P[-1]])\n",
    "        P.append(end)\n",
    "    return P\n",
    "\n",
    "def prepare_adj(D):\n",
    "    N = len(D) \n",
    "    mask = (torch.ones(N,N, dtype=torch.float) - torch.eye(N,N, dtype=torch.float))*500\n",
    "    return torch.where(D > 0, D, mask)"
   ]
  },
  {
   "cell_type": "code",
   "execution_count": 28,
   "id": "55456e71-c748-4218-99ab-3015160409c2",
   "metadata": {},
   "outputs": [],
   "source": [
    "def gen_edge_input(max_dist, path, edge_feat):\n",
    "    # print('start gen_edge_input')\n",
    "    (nrows, ncols) = path.shape\n",
    "    assert nrows == ncols\n",
    "    n = nrows\n",
    "    max_dist_copy = max_dist\n",
    "\n",
    "    path_copy = path.astype(long, order='C', casting='safe', copy=True)\n",
    "    edge_feat_copy = edge_feat.astype(long, order='C', casting='safe', copy=True)\n",
    "    \n",
    "    # print('start numpy')\n",
    "    start_numpy = time.time()\n",
    "    edge_fea_all = -1 * numpy.ones([n, n, max_dist_copy, edge_feat.shape[-1]], dtype=numpy.int64)\n",
    "    end_numpy= time.time()\n",
    "    # print('end numpy')\n",
    "    # print('numpy end with time', end_numpy - start_numpy)\n",
    "        \n",
    "    # print('start sycle')\n",
    "    start_sycle = time.time()\n",
    "    for i in range(n):\n",
    "        for j in range(n):\n",
    "            if i == j:\n",
    "                continue\n",
    "            if path_copy[i][j] == 510:\n",
    "                continue\n",
    "            path = [i] + get_all_edges(path_copy, i, j) + [j]\n",
    "            # path = [i] + [j]\n",
    "            num_path = len(path) - 1\n",
    "            for k in range(num_path):\n",
    "                # edge_fea_all[i, j, k, :] = edge_feat_copy[path[k], path[k+1], :]\n",
    "                edge_fea_all[i, j, k, :] = edge_feat_copy[path[0], path[1], :]\n",
    "                \n",
    "    end_sycle = time.time()\n",
    "    # print('end sycle')\n",
    "    # print('sycle end with time', end_sycle - start_sycle)\n",
    "    \n",
    "    # print('end gen_edge_input')\n",
    "    return edge_fea_all"
   ]
  },
  {
   "cell_type": "code",
   "execution_count": 29,
   "id": "1557a85f-1051-4e1b-949a-e0c35bf4c045",
   "metadata": {},
   "outputs": [
    {
     "ename": "NameError",
     "evalue": "name 'edge_index' is not defined",
     "output_type": "error",
     "traceback": [
      "\u001b[0;31m---------------------------------------------------------------------------\u001b[0m",
      "\u001b[0;31mNameError\u001b[0m                                 Traceback (most recent call last)",
      "\u001b[0;32m/tmp/ipykernel_639/1467414997.py\u001b[0m in \u001b[0;36m<module>\u001b[0;34m\u001b[0m\n\u001b[1;32m      8\u001b[0m \u001b[0mN\u001b[0m \u001b[0;34m=\u001b[0m \u001b[0mD\u001b[0m\u001b[0;34m.\u001b[0m\u001b[0msize\u001b[0m\u001b[0;34m(\u001b[0m\u001b[0;36m0\u001b[0m\u001b[0;34m)\u001b[0m\u001b[0;34m\u001b[0m\u001b[0;34m\u001b[0m\u001b[0m\n\u001b[1;32m      9\u001b[0m \u001b[0madj\u001b[0m \u001b[0;34m=\u001b[0m \u001b[0mtorch\u001b[0m\u001b[0;34m.\u001b[0m\u001b[0mzeros\u001b[0m\u001b[0;34m(\u001b[0m\u001b[0;34m[\u001b[0m\u001b[0mN\u001b[0m\u001b[0;34m,\u001b[0m \u001b[0mN\u001b[0m\u001b[0;34m]\u001b[0m\u001b[0;34m,\u001b[0m \u001b[0mdtype\u001b[0m\u001b[0;34m=\u001b[0m\u001b[0mtorch\u001b[0m\u001b[0;34m.\u001b[0m\u001b[0mbool\u001b[0m\u001b[0;34m)\u001b[0m\u001b[0;34m\u001b[0m\u001b[0;34m\u001b[0m\u001b[0m\n\u001b[0;32m---> 10\u001b[0;31m \u001b[0madj\u001b[0m\u001b[0;34m[\u001b[0m\u001b[0medge_index\u001b[0m\u001b[0;34m[\u001b[0m\u001b[0;36m0\u001b[0m\u001b[0;34m,\u001b[0m \u001b[0;34m:\u001b[0m\u001b[0;34m]\u001b[0m\u001b[0;34m,\u001b[0m \u001b[0medge_index\u001b[0m\u001b[0;34m[\u001b[0m\u001b[0;36m1\u001b[0m\u001b[0;34m,\u001b[0m \u001b[0;34m:\u001b[0m\u001b[0;34m]\u001b[0m\u001b[0;34m]\u001b[0m \u001b[0;34m=\u001b[0m \u001b[0;32mTrue\u001b[0m\u001b[0;34m\u001b[0m\u001b[0;34m\u001b[0m\u001b[0m\n\u001b[0m\u001b[1;32m     11\u001b[0m \u001b[0;34m\u001b[0m\u001b[0m\n\u001b[1;32m     12\u001b[0m \u001b[0mD\u001b[0m \u001b[0;34m=\u001b[0m \u001b[0mprepare_adj\u001b[0m\u001b[0;34m(\u001b[0m\u001b[0mD\u001b[0m\u001b[0;34m)\u001b[0m\u001b[0;34m\u001b[0m\u001b[0;34m\u001b[0m\u001b[0m\n",
      "\u001b[0;31mNameError\u001b[0m: name 'edge_index' is not defined"
     ]
    }
   ],
   "source": [
    "D = torch.tensor([[0, 3, 1, 3, 0, 0],\n",
    "     [3, 0, 4, 0, 0, 0],\n",
    "     [1, 4, 0, 0, 7, 5],\n",
    "     [3, 0, 0, 0, 0, 2],\n",
    "     [0, 0, 7, 0, 0, 4],\n",
    "     [0, 0, 5, 2, 4, 0]], dtype=torch.float)\n",
    "\n",
    "N = D.size(0)\n",
    "adj = torch.zeros([N, N], dtype=torch.bool)\n",
    "adj[edge_index[0, :], edge_index[1, :]] = True\n",
    "    \n",
    "D = prepare_adj(D)\n",
    "distance_matrix = algo_dijk(D)[0]\n",
    "path_matrix = algo_dijk(D)[1]\n",
    "\n",
    "get_all_edges_dijk(path_matrix, 5, 0)\n",
    "\n",
    "max_dist = int(distance_matrix.max())\n",
    "\n",
    "edge_input = gen_edge_input(max_dist, path_matrix, attn_edge_type.numpy())"
   ]
  },
  {
   "cell_type": "code",
   "execution_count": 30,
   "id": "58949b2c-6df3-4185-8377-3e41ebf0f185",
   "metadata": {},
   "outputs": [
    {
     "ename": "SyntaxError",
     "evalue": "invalid syntax (2152371971.py, line 5)",
     "output_type": "error",
     "traceback": [
      "\u001b[0;36m  File \u001b[0;32m\"/tmp/ipykernel_639/2152371971.py\"\u001b[0;36m, line \u001b[0;32m5\u001b[0m\n\u001b[0;31m    cdef unsigned int n = nrows\u001b[0m\n\u001b[0m                ^\u001b[0m\n\u001b[0;31mSyntaxError\u001b[0m\u001b[0;31m:\u001b[0m invalid syntax\n"
     ]
    }
   ],
   "source": [
    "def gen_edge_input(max_dist, path, edge_feat):\n",
    "    # print('start gen_edge_input')\n",
    "    (nrows, ncols) = path.shape\n",
    "    assert nrows == ncols\n",
    "    cdef unsigned int n = nrows\n",
    "    cdef unsigned int max_dist_copy = max_dist\n",
    "\n",
    "    path_copy = path.astype(long, order='C', casting='safe', copy=True)\n",
    "    edge_feat_copy = edge_feat.astype(long, order='C', casting='safe', copy=True)\n",
    "    assert path_copy.flags['C_CONTIGUOUS']\n",
    "    assert edge_feat_copy.flags['C_CONTIGUOUS']\n",
    "    \n",
    "    \n",
    "    # print('start numpy')\n",
    "    start_numpy = time.time()\n",
    "    cdef numpy.ndarray[long, ndim=4, mode='c'] edge_fea_all = -1 * numpy.ones([n, n, max_dist_copy, edge_feat.shape[-1]], dtype=numpy.int64)\n",
    "    end_numpy= time.time()\n",
    "    # print('end numpy')\n",
    "    # print('numpy end with time', end_numpy - start_numpy)\n",
    "    \n",
    "    cdef unsigned int i, j, k, num_path, cur\n",
    "    \n",
    "    # print('start sycle')\n",
    "    start_sycle = time.time()\n",
    "    for i in range(n):\n",
    "        for j in range(n):\n",
    "            if i == j:\n",
    "                continue\n",
    "            if path_copy[i][j] == 510:\n",
    "                continue\n",
    "            path = [i] + get_all_edges(path_copy, i, j) + [j]\n",
    "            num_path = len(path) - 1\n",
    "            for k in range(num_path):\n",
    "                edge_fea_all[i, j, k, :] = edge_feat_copy[path[k], path[k+1], :]\n",
    "                \n",
    "    end_sycle = time.time()\n",
    "    # print('end sycle')\n",
    "    # print('sycle end with time', end_sycle - start_sycle)\n",
    "    \n",
    "    # print('end gen_edge_input')\n",
    "    return edge_fea_all"
   ]
  },
  {
   "cell_type": "code",
   "execution_count": null,
   "id": "c83d7a6e-cd0c-47dd-8d18-2ec78cec0b9e",
   "metadata": {},
   "outputs": [],
   "source": []
  },
  {
   "cell_type": "code",
   "execution_count": null,
   "id": "4743c786-993b-4e59-bdf4-1ad18b83db69",
   "metadata": {},
   "outputs": [],
   "source": []
  },
  {
   "cell_type": "code",
   "execution_count": null,
   "id": "18c0057f-493c-4597-bb67-e7cebb2148fc",
   "metadata": {},
   "outputs": [],
   "source": []
  },
  {
   "cell_type": "code",
   "execution_count": null,
   "id": "f8e04260-035e-4232-b5e6-334df8350f25",
   "metadata": {},
   "outputs": [],
   "source": []
  },
  {
   "cell_type": "code",
   "execution_count": null,
   "id": "7276ef60-af54-48a8-8f62-ee281525559a",
   "metadata": {},
   "outputs": [],
   "source": []
  },
  {
   "cell_type": "code",
   "execution_count": null,
   "id": "d69db6bb-4766-48d2-813d-91d9f15491e5",
   "metadata": {},
   "outputs": [],
   "source": []
  },
  {
   "cell_type": "code",
   "execution_count": null,
   "id": "1f9516b9-666a-48d5-a500-971d38b40d1d",
   "metadata": {},
   "outputs": [],
   "source": []
  },
  {
   "cell_type": "code",
   "execution_count": 72,
   "id": "488b0313-23f6-47cf-81ee-1d97cc9d55eb",
   "metadata": {},
   "outputs": [
    {
     "data": {
      "text/plain": [
       "array([[0., 0., 0., 0., 2., 3.],\n",
       "       [1., 0., 1., 0., 2., 3.],\n",
       "       [2., 2., 0., 0., 2., 2.],\n",
       "       [3., 0., 0., 0., 5., 3.],\n",
       "       [2., 2., 4., 5., 0., 4.],\n",
       "       [3., 0., 5., 5., 5., 0.]])"
      ]
     },
     "execution_count": 72,
     "metadata": {},
     "output_type": "execute_result"
    }
   ],
   "source": [
    "b = algo_dijk(D)[1]\n",
    "b"
   ]
  },
  {
   "cell_type": "code",
   "execution_count": null,
   "id": "3be30be8-9dd7-4838-80cd-7c449b0a95b7",
   "metadata": {},
   "outputs": [],
   "source": []
  },
  {
   "cell_type": "code",
   "execution_count": null,
   "id": "48dad67d-d360-40e2-96fc-e56da12c724b",
   "metadata": {},
   "outputs": [],
   "source": []
  },
  {
   "cell_type": "code",
   "execution_count": 2,
   "id": "1bfb432d-5976-4fbb-bb70-49a5d4a0956a",
   "metadata": {},
   "outputs": [],
   "source": [
    "import torch"
   ]
  },
  {
   "cell_type": "code",
   "execution_count": 56,
   "id": "0fa1f939-c48c-48c0-950b-6e2cf206a74a",
   "metadata": {},
   "outputs": [],
   "source": [
    "D = torch.tensor([[0, 1, 1, 0], [1, 0, 0, 0], [1, 0, 0, 1], [0, 0, 1, 0]])\n",
    "N = len(D) \n",
    "D = (torch.ones(N,N) - torch.eye(N,N))*10**5"
   ]
  },
  {
   "cell_type": "code",
   "execution_count": 60,
   "id": "ece6c21a-49c8-4be5-b28f-d93281e1040b",
   "metadata": {},
   "outputs": [],
   "source": [
    "import numpy as np\n",
    "D = np.array(D)"
   ]
  },
  {
   "cell_type": "code",
   "execution_count": null,
   "id": "3ba957a5-69e4-4dd0-8da9-a544cf4dd00a",
   "metadata": {},
   "outputs": [],
   "source": []
  },
  {
   "cell_type": "code",
   "execution_count": null,
   "id": "70d3a9f9-57c6-411e-b913-513d2813c645",
   "metadata": {},
   "outputs": [],
   "source": []
  },
  {
   "cell_type": "code",
   "execution_count": null,
   "id": "8462ac2b-2a58-4a88-8b78-c0c3e62a8b3b",
   "metadata": {},
   "outputs": [],
   "source": []
  },
  {
   "cell_type": "code",
   "execution_count": null,
   "id": "e5048993-474f-4577-81a5-badeeb9eea35",
   "metadata": {},
   "outputs": [],
   "source": []
  },
  {
   "cell_type": "code",
   "execution_count": 61,
   "id": "a10b0fbb-2bf6-4fe9-863b-558850351b29",
   "metadata": {},
   "outputs": [],
   "source": [
    "def dijkstra(adj):\n",
    "    n = adj.shape[0]\n",
    "    distance_matrix = torch.zeros([n, n])\n",
    "    for i in range(n):\n",
    "        u = torch.zeros(n, dtype=torch.bool)\n",
    "        d = np.inf * torch.ones(n)\n",
    "        d[i] = 0\n",
    "        q = priorityQ_torch(i)\n",
    "        while not q.isEmpty():\n",
    "            v, d_v = q.top()  # point and distance\n",
    "            v = v.int()\n",
    "            q.pop()\n",
    "            if d_v != d[v]:\n",
    "                continue\n",
    "            for j, py in enumerate(adj[v]):\n",
    "                if py == 0 and j != v:\n",
    "                    continue\n",
    "                else:\n",
    "                    to = j\n",
    "                    weight = py\n",
    "                    if d[v] + py < d[to]:\n",
    "                        d[to] = d[v] + py\n",
    "                        q.push(torch.Tensor([to, d[to]]))\n",
    "        distance_matrix[i] = d\n",
    "    return distance_matrix"
   ]
  },
  {
   "cell_type": "code",
   "execution_count": 63,
   "id": "e50953c0-5c05-4958-a860-0ae324f799ba",
   "metadata": {},
   "outputs": [
    {
     "data": {
      "text/plain": [
       "array([0., 0.])"
      ]
     },
     "execution_count": 63,
     "metadata": {},
     "output_type": "execute_result"
    }
   ],
   "source": [
    "np.zeros([2,2])"
   ]
  },
  {
   "cell_type": "code",
   "execution_count": null,
   "id": "2797cf5f-369d-47f9-a097-2b6744c622ca",
   "metadata": {},
   "outputs": [],
   "source": []
  },
  {
   "cell_type": "code",
   "execution_count": null,
   "id": "f64d3535-87c7-4542-b1cb-799097410ac2",
   "metadata": {},
   "outputs": [],
   "source": []
  },
  {
   "cell_type": "code",
   "execution_count": null,
   "id": "e7d78a10-d507-4dca-9acf-9d3c5c01d03c",
   "metadata": {},
   "outputs": [],
   "source": []
  },
  {
   "cell_type": "code",
   "execution_count": 15,
   "id": "2c11ea12-9248-4ea5-a741-9598bf012b11",
   "metadata": {},
   "outputs": [],
   "source": [
    "import dijkstra"
   ]
  },
  {
   "cell_type": "code",
   "execution_count": 17,
   "id": "4b22d2d5-c7b0-4596-a58b-bef96d4d27a4",
   "metadata": {},
   "outputs": [],
   "source": [
    "D = torch.tensor([[0, 3, 1, 3, 0, 0],\n",
    "     [3, 0, 4, 0, 0, 0],\n",
    "     [1, 4, 0, 0, 7, 5],\n",
    "     [3, 0, 0, 0, 0, 2],\n",
    "     [0, 0, 7, 0, 0, 4],\n",
    "     [0, 0, 5, 2, 4, 0]], dtype=torch.float)\n",
    "\n",
    "\n",
    "D = dijkstra.prepare_adj(D)\n",
    "distance_matrix = dijkstra.algo_dijk(D)[0]\n",
    "path_matrix = dijkstra.algo_dijk(D)[1]\n",
    "\n",
    "get_all_edges_dijk(path_matrix, 5, 0)\n",
    "\n",
    "max_dist = int(distance_matrix.max())"
   ]
  },
  {
   "cell_type": "code",
   "execution_count": 18,
   "id": "59db831e-f07b-4991-b49f-73f82fa2b75c",
   "metadata": {},
   "outputs": [
    {
     "data": {
      "text/plain": [
       "array([[ 0.,  3.,  1.,  3.,  8.,  5.],\n",
       "       [ 3.,  0.,  4.,  6., 11.,  8.],\n",
       "       [ 1.,  4.,  0.,  4.,  7.,  5.],\n",
       "       [ 3.,  6.,  4.,  0.,  6.,  2.],\n",
       "       [ 8., 11.,  7.,  6.,  0.,  4.],\n",
       "       [ 5.,  8.,  5.,  2.,  4.,  0.]])"
      ]
     },
     "execution_count": 18,
     "metadata": {},
     "output_type": "execute_result"
    }
   ],
   "source": [
    "distance_matrix"
   ]
  },
  {
   "cell_type": "code",
   "execution_count": 19,
   "id": "219dac53-b3a1-4769-bd65-6f5a65cd7885",
   "metadata": {},
   "outputs": [
    {
     "data": {
      "text/plain": [
       "array([[0., 0., 0., 0., 2., 3.],\n",
       "       [1., 0., 1., 0., 2., 3.],\n",
       "       [2., 2., 0., 0., 2., 2.],\n",
       "       [3., 0., 0., 0., 5., 3.],\n",
       "       [2., 2., 4., 5., 0., 4.],\n",
       "       [3., 0., 5., 5., 5., 0.]])"
      ]
     },
     "execution_count": 19,
     "metadata": {},
     "output_type": "execute_result"
    }
   ],
   "source": [
    "path_matrix"
   ]
  },
  {
   "cell_type": "code",
   "execution_count": 20,
   "id": "cfa9bce8-bb4f-473a-a949-649fae4d4cf7",
   "metadata": {},
   "outputs": [],
   "source": [
    "shortest_path_result, path = dijkstra.algo_dijk(D)"
   ]
  },
  {
   "cell_type": "code",
   "execution_count": 21,
   "id": "a85feed3-5a51-4e05-88fe-51d780e3dd8b",
   "metadata": {},
   "outputs": [
    {
     "data": {
      "text/plain": [
       "array([[ 0.,  3.,  1.,  3.,  8.,  5.],\n",
       "       [ 3.,  0.,  4.,  6., 11.,  8.],\n",
       "       [ 1.,  4.,  0.,  4.,  7.,  5.],\n",
       "       [ 3.,  6.,  4.,  0.,  6.,  2.],\n",
       "       [ 8., 11.,  7.,  6.,  0.,  4.],\n",
       "       [ 5.,  8.,  5.,  2.,  4.,  0.]])"
      ]
     },
     "execution_count": 21,
     "metadata": {},
     "output_type": "execute_result"
    }
   ],
   "source": [
    "shortest_path_result"
   ]
  },
  {
   "cell_type": "code",
   "execution_count": 22,
   "id": "8536062c-7068-4d5d-a3ed-4a516dd1b340",
   "metadata": {},
   "outputs": [
    {
     "data": {
      "text/plain": [
       "array([[0., 0., 0., 0., 2., 3.],\n",
       "       [1., 0., 1., 0., 2., 3.],\n",
       "       [2., 2., 0., 0., 2., 2.],\n",
       "       [3., 0., 0., 0., 5., 3.],\n",
       "       [2., 2., 4., 5., 0., 4.],\n",
       "       [3., 0., 5., 5., 5., 0.]])"
      ]
     },
     "execution_count": 22,
     "metadata": {},
     "output_type": "execute_result"
    }
   ],
   "source": [
    "path"
   ]
  },
  {
   "cell_type": "code",
   "execution_count": null,
   "id": "9b8ab0da-18a6-45c4-a4c1-f167a5721aeb",
   "metadata": {},
   "outputs": [],
   "source": []
  }
 ],
 "metadata": {
  "kernelspec": {
   "display_name": "Python 3 (ipykernel)",
   "language": "python",
   "name": "python3"
  },
  "language_info": {
   "codemirror_mode": {
    "name": "ipython",
    "version": 3
   },
   "file_extension": ".py",
   "mimetype": "text/x-python",
   "name": "python",
   "nbconvert_exporter": "python",
   "pygments_lexer": "ipython3",
   "version": "3.7.12"
  }
 },
 "nbformat": 4,
 "nbformat_minor": 5
}
