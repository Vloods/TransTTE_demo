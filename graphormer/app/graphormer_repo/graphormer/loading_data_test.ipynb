{
 "cells": [
  {
   "cell_type": "code",
   "execution_count": 1,
   "id": "bb45f587",
   "metadata": {},
   "outputs": [
    {
     "name": "stderr",
     "output_type": "stream",
     "text": [
      "2022-02-13 18:02:14 | INFO | rdkit | Enabling RDKit 2021.09.3 jupyter extensions\n",
      "Using backend: pytorch\n",
      "/home/user/conda/lib/python3.7/site-packages/Cython/Compiler/Main.py:369: FutureWarning: Cython directive 'language_level' not set, using 2 for now (Py2). This will change in a later release! File: /home/jovyan/graphormer_v2/graphormer/data/algos.pyx\n",
      "  tree = Parsing.p_module(s, pxd, full_module_name)\n",
      "In file included from /home/jovyan/.imgenv-graphormeronegpu-0/lib/python3.7/site-packages/numpy/core/include/numpy/ndarraytypes.h:1969:0,\n",
      "                 from /home/jovyan/.imgenv-graphormeronegpu-0/lib/python3.7/site-packages/numpy/core/include/numpy/ndarrayobject.h:12,\n",
      "                 from /home/jovyan/.imgenv-graphormeronegpu-0/lib/python3.7/site-packages/numpy/core/include/numpy/arrayobject.h:4,\n",
      "                 from /home/jovyan/.pyxbld/temp.linux-x86_64-3.7/pyrex/data/algos.c:681:\n",
      "/home/jovyan/.imgenv-graphormeronegpu-0/lib/python3.7/site-packages/numpy/core/include/numpy/npy_1_7_deprecated_api.h:17:2: warning: #warning \"Using deprecated NumPy API, disable it with \" \"#define NPY_NO_DEPRECATED_API NPY_1_7_API_VERSION\" [-Wcpp]\n",
      " #warning \"Using deprecated NumPy API, disable it with \" \\\n",
      "  ^~~~~~~\n"
     ]
    }
   ],
   "source": [
    "from data.dataset import (\n",
    "    BatchedDataDataset,\n",
    "    TargetDataset,\n",
    "    GraphormerDataset,\n",
    "    EpochShuffleDataset,\n",
    ")"
   ]
  },
  {
   "cell_type": "code",
   "execution_count": 2,
   "id": "a5252796",
   "metadata": {},
   "outputs": [],
   "source": [
    "dataset = GraphormerDataset(\n",
    "                dataset_spec = 'omsk',\n",
    "                dataset_source = 'pyg',\n",
    "            )"
   ]
  },
  {
   "cell_type": "code",
   "execution_count": 9,
   "id": "d314e86a",
   "metadata": {},
   "outputs": [
    {
     "name": "stdout",
     "output_type": "stream",
     "text": [
      "GraphormerPYGDataset(539258)\n"
     ]
    }
   ],
   "source": [
    "print(dataset.dataset)"
   ]
  },
  {
   "cell_type": "code",
   "execution_count": null,
   "id": "977a695b",
   "metadata": {},
   "outputs": [],
   "source": []
  }
 ],
 "metadata": {
  "kernelspec": {
   "display_name": "Python 3 (ipykernel)",
   "language": "python",
   "name": "python3"
  },
  "language_info": {
   "codemirror_mode": {
    "name": "ipython",
    "version": 3
   },
   "file_extension": ".py",
   "mimetype": "text/x-python",
   "name": "python",
   "nbconvert_exporter": "python",
   "pygments_lexer": "ipython3",
   "version": "3.7.12"
  }
 },
 "nbformat": 4,
 "nbformat_minor": 5
}
