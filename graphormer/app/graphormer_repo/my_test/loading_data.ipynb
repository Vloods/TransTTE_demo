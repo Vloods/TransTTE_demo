{
 "cells": [
  {
   "cell_type": "code",
   "execution_count": 53,
   "id": "1ca661d6-213a-4dee-a53f-6863529ee328",
   "metadata": {},
   "outputs": [
    {
     "name": "stdout",
     "output_type": "stream",
     "text": [
      "Data(attn_bias=[62, 62], attn_edge_type=[61, 61, 1], edge_attr=[61, 1], edge_index=[2, 61], edge_input=[61, 61, 60, 1], in_degree=[61], out_degree=[61], spatial_pos=[61, 61], x=[61, 13], y=[1])\n"
     ]
    }
   ],
   "source": [
    "import sys\n",
    "import os\n",
    "# cwd = os.getcwd()\n",
    "sys.path.insert(1, '/home/jovyan/graphormer_v2/')\n",
    "\n",
    "from graphormer.data.dataset import (\n",
    "    BatchedDataDataset,\n",
    "    TargetDataset,\n",
    "    GraphormerDataset,\n",
    "    EpochShuffleDataset,\n",
    ")\n",
    "\n",
    "from graphormer.models.graphormer import GraphormerModel\n",
    "from graphormer.tasks.graph_prediction import GraphPredictionTask\n",
    "from graphormer.data.wrapper import preprocess_item\n",
    "from graphormer.data.pyg_datasets.mydata_abakan import geo_Abakan\n",
    "\n",
    "item_raw = geo_Abakan(root = '/home/jovyan/graphormer_v2/examples/georides/dataset/abakan', split = 'train')[2]\n",
    "item_preprocess = preprocess_item(item_raw)\n",
    "print(item_preprocess)"
   ]
  },
  {
   "cell_type": "code",
   "execution_count": null,
   "id": "a2edfa25-3255-4462-9b85-4572e13da473",
   "metadata": {},
   "outputs": [],
   "source": []
  }
 ],
 "metadata": {
  "kernelspec": {
   "display_name": "Python 3 (ipykernel)",
   "language": "python",
   "name": "python3"
  },
  "language_info": {
   "codemirror_mode": {
    "name": "ipython",
    "version": 3
   },
   "file_extension": ".py",
   "mimetype": "text/x-python",
   "name": "python",
   "nbconvert_exporter": "python",
   "pygments_lexer": "ipython3",
   "version": "3.7.12"
  }
 },
 "nbformat": 4,
 "nbformat_minor": 5
}
