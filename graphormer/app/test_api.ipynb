{
 "cells": [
  {
   "cell_type": "code",
   "execution_count": 5,
   "id": "f69e0f75-0f8c-49cd-9a0a-57a94ebc6003",
   "metadata": {},
   "outputs": [
    {
     "data": {
      "text/plain": [
       "'[{\"path\":[[54.98872792,73.24447473],[54.98869803,73.24512142],[54.98867458,73.24562951],[54.98865061,73.24614694]],\"eta\":17,\"type\":\"dist_omsk\"},{\"path\":[[54.98872792,73.24447473],[54.98869803,73.24512142],[54.98867458,73.24562951],[54.98865061,73.24614694]],\"eta\":1,\"type\":\"green_omsk\"},{\"path\":[[54.98872792,73.24447473],[54.98869803,73.24512142],[54.98867458,73.24562951],[54.98865061,73.24614694]],\"eta\":1,\"type\":\"hist_omsk\"},{\"path\":[[54.98872792,73.24447473],[54.98869803,73.24512142],[54.98867458,73.24562951],[54.98865061,73.24614694]],\"eta\":27,\"type\":\"graphormer_weights\"}]'"
      ]
     },
     "execution_count": 5,
     "metadata": {},
     "output_type": "execute_result"
    }
   ],
   "source": [
    "import requests\n",
    "from pydantic import BaseModel\n",
    "class Points(BaseModel):\n",
    "    start_lat: float = 54.988728\t\n",
    "    start_lon: float = 73.244475\n",
    "    end_lat: float = 54.988618\n",
    "    end_lon: float = 73.246867\n",
    "\n",
    "a = Points()\n",
    "body = {\"start_lat\": a.start_lat,\n",
    "                    \"start_lon\": a.start_lon,\n",
    "                    \"end_lat\": a.end_lat,\n",
    "                    \"end_lon\": a.end_lon}\n",
    "\n",
    "r = requests.post('http://45.89.225.221:9103/get_path', headers = {'Content-Type': 'application/json'}, json = body)\n",
    "r.text"
   ]
  },
  {
   "cell_type": "code",
   "execution_count": null,
   "id": "d433a469-c7c4-4fcf-b91a-ebcd3abdcb52",
   "metadata": {},
   "outputs": [],
   "source": []
  }
 ],
 "metadata": {
  "kernelspec": {
   "display_name": "Python 3 (ipykernel)",
   "language": "python",
   "name": "python3"
  },
  "language_info": {
   "codemirror_mode": {
    "name": "ipython",
    "version": 3
   },
   "file_extension": ".py",
   "mimetype": "text/x-python",
   "name": "python",
   "nbconvert_exporter": "python",
   "pygments_lexer": "ipython3",
   "version": "3.9.7"
  }
 },
 "nbformat": 4,
 "nbformat_minor": 5
}
