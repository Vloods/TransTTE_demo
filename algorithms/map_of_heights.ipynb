{
 "cells": [
  {
   "cell_type": "code",
   "execution_count": 43,
   "metadata": {
    "collapsed": true
   },
   "outputs": [],
   "source": [
    "import pickle\n",
    "import time\n",
    "import sys\n",
    "from math import radians, cos, sin, asin, sqrt\n",
    "\n",
    "import pandas as pd\n",
    "import numpy as np"
   ]
  },
  {
   "cell_type": "code",
   "execution_count": 3,
   "outputs": [
    {
     "name": "stderr",
     "output_type": "stream",
     "text": [
      "/home/teadove/.local/lib/python3.8/site-packages/IPython/core/interactiveshell.py:3427: DtypeWarning: Columns (7) have mixed types.Specify dtype option on import or set low_memory=False.\n",
      "  exec(code_obj, self.user_global_ns, self.user_ns)\n"
     ]
    },
    {
     "data": {
      "text/plain": "          id1         id2        dist   highway  surface  lit  lanes width\n0  2521296427   271012100   39.741627  tertiary  asphalt   no      2     2\n1   271012100    96919511  126.400589  tertiary  asphalt  yes      1     2\n2    31447629  2477000557   72.587743  tertiary  asphalt  yes      1     2\n3    31447354    31448413   94.910701  tertiary  asphalt  yes      1     2\n4    31448413    31448414   23.660839  tertiary  asphalt  yes      1     2",
      "text/html": "<div>\n<style scoped>\n    .dataframe tbody tr th:only-of-type {\n        vertical-align: middle;\n    }\n\n    .dataframe tbody tr th {\n        vertical-align: top;\n    }\n\n    .dataframe thead th {\n        text-align: right;\n    }\n</style>\n<table border=\"1\" class=\"dataframe\">\n  <thead>\n    <tr style=\"text-align: right;\">\n      <th></th>\n      <th>id1</th>\n      <th>id2</th>\n      <th>dist</th>\n      <th>highway</th>\n      <th>surface</th>\n      <th>lit</th>\n      <th>lanes</th>\n      <th>width</th>\n    </tr>\n  </thead>\n  <tbody>\n    <tr>\n      <th>0</th>\n      <td>2521296427</td>\n      <td>271012100</td>\n      <td>39.741627</td>\n      <td>tertiary</td>\n      <td>asphalt</td>\n      <td>no</td>\n      <td>2</td>\n      <td>2</td>\n    </tr>\n    <tr>\n      <th>1</th>\n      <td>271012100</td>\n      <td>96919511</td>\n      <td>126.400589</td>\n      <td>tertiary</td>\n      <td>asphalt</td>\n      <td>yes</td>\n      <td>1</td>\n      <td>2</td>\n    </tr>\n    <tr>\n      <th>2</th>\n      <td>31447629</td>\n      <td>2477000557</td>\n      <td>72.587743</td>\n      <td>tertiary</td>\n      <td>asphalt</td>\n      <td>yes</td>\n      <td>1</td>\n      <td>2</td>\n    </tr>\n    <tr>\n      <th>3</th>\n      <td>31447354</td>\n      <td>31448413</td>\n      <td>94.910701</td>\n      <td>tertiary</td>\n      <td>asphalt</td>\n      <td>yes</td>\n      <td>1</td>\n      <td>2</td>\n    </tr>\n    <tr>\n      <th>4</th>\n      <td>31448413</td>\n      <td>31448414</td>\n      <td>23.660839</td>\n      <td>tertiary</td>\n      <td>asphalt</td>\n      <td>yes</td>\n      <td>1</td>\n      <td>2</td>\n    </tr>\n  </tbody>\n</table>\n</div>"
     },
     "execution_count": 3,
     "metadata": {},
     "output_type": "execute_result"
    }
   ],
   "source": [
    "edges =pd.read_csv(\"../backend/edge_list_pairs.csv\")\n",
    "edges.head()"
   ],
   "metadata": {
    "collapsed": false,
    "pycharm": {
     "name": "#%%\n"
    }
   }
  },
  {
   "cell_type": "code",
   "execution_count": 9,
   "outputs": [
    {
     "name": "stdout",
     "output_type": "stream",
     "text": [
      "{'id': '26999673', 'lat': '55.7788343', 'lon': '37.6537207'}\n",
      "3889497\n",
      "34191104\n",
      "<class 'list'>\n"
     ]
    }
   ],
   "source": [
    "with open('../samples/archived/nodes.p', 'rb') as f:\n",
    "    nodes = pickle.load(f)\n",
    "\n",
    "print(nodes[0])\n",
    "print(len(nodes))\n",
    "print(sys.getsizeof(nodes))\n",
    "print(type(nodes))"
   ],
   "metadata": {
    "collapsed": false,
    "pycharm": {
     "name": "#%%\n"
    }
   }
  },
  {
   "cell_type": "code",
   "execution_count": 42,
   "outputs": [],
   "source": [
    "\"\"\"\n",
    "Минимум: 75\n",
    "Максимум: 317\n",
    "Генерация np матрицы высот\n",
    "\"\"\"\n",
    "cell_size = 0.00083333333333333\n",
    "lat_start = 55.0\n",
    "lon_start = 35.0\n",
    "\n",
    "matrix_of_heights = []\n",
    "with open('../data/srtm/srtm_44_01.asc') as f:\n",
    "    data_str = f.readlines()\n",
    "\n",
    "for row in data_str[6:]:\n",
    "    row_list = list(map(int, row.split()))\n",
    "    matrix_of_heights.append(row_list)\n",
    "\n",
    "del row_list\n",
    "del data_str\n",
    "\n",
    "matrix_of_heights = np.array(matrix_of_heights, np.ushort)"
   ],
   "metadata": {
    "collapsed": false,
    "pycharm": {
     "name": "#%%\n"
    }
   }
  },
  {
   "cell_type": "code",
   "execution_count": 53,
   "outputs": [],
   "source": [
    "def haversine(lat1: float, lon1: float, lat2: float, lon2: float):\n",
    "    \"\"\"\n",
    "    Calculate the great circle distance between two points\n",
    "    on the earth (specified in decimal degrees)\n",
    "    \"\"\"\n",
    "    # convert decimal degrees to radians\n",
    "    lon1, lat1, lon2, lat2 = map(radians, [lon1, lat1, lon2, lat2])\n",
    "\n",
    "    # haversine formula\n",
    "    dlon = lon2 - lon1\n",
    "    dlat = lat2 - lat1\n",
    "    a = sin(dlat/2)**2 + cos(lat1) * cos(lat2) * sin(dlon/2)**2\n",
    "    c = 2 * asin(sqrt(a))\n",
    "    r = 6371000 # Radius of earth in kilometers. Use 3956 for miles\n",
    "    return c * r"
   ],
   "metadata": {
    "collapsed": false,
    "pycharm": {
     "name": "#%%\n"
    }
   }
  },
  {
   "cell_type": "code",
   "execution_count": 68,
   "outputs": [
    {
     "data": {
      "text/plain": "157.66666666666666"
     },
     "execution_count": 68,
     "metadata": {},
     "output_type": "execute_result"
    }
   ],
   "source": [
    "def get_height(lat: float, lon: float) -> float:\n",
    "    \"\"\"\n",
    "    Получение высоты над уровнем моря по координатам\n",
    "    :param lat: Долгота точки\n",
    "    :param lon: Широта точки\n",
    "    :return: Высота над уровнем моря\n",
    "    \"\"\"\n",
    "    semi_x = (lat - lat_start) / cell_size\n",
    "    semi_y = (lon - lon_start) / cell_size\n",
    "    if semi_x > 6000 or semi_y > 6000:\n",
    "        raise Exception('Out of bounds, not in Moscow')\n",
    "\n",
    "    points = [matrix_of_heights[int(np.floor(semi_x)), int(np.floor(semi_y))],\n",
    "              matrix_of_heights[int(np.floor(semi_x)), int(np.ceil(semi_y))],\n",
    "              matrix_of_heights[int(np.ceil(semi_x)), int(np.floor(semi_y))],\n",
    "              matrix_of_heights[int(np.ceil(semi_x)), int(np.ceil(semi_y))]]\n",
    "    floor_lat = np.floor(semi_x) * cell_size + lat_start\n",
    "    floor_lon = np.floor(semi_y) * cell_size + lon_start\n",
    "    ceil_lat = np.ceil(semi_x) * cell_size + lat_start\n",
    "    ceil_lon = np.ceil(semi_y) * cell_size + lon_start\n",
    "    coordinates = [[floor_lat, floor_lon], [floor_lat, ceil_lon], [ceil_lat, floor_lon],\n",
    "                   [ceil_lat, ceil_lon]]\n",
    "    idx_min, min_ = 0, 200\n",
    "    for idx, point in enumerate(coordinates):\n",
    "        dist_ = haversine(lat, lon, *point)\n",
    "        if dist_ < min_:\n",
    "            min_ = dist_\n",
    "            idx_min = idx\n",
    "    triangle = [points[idx_min-1], points[idx_min], points[(idx_min+1)%4]]\n",
    "    return sum(triangle)/3\n",
    "\n",
    "\n",
    "get_square(55.7558, 37.6173)"
   ],
   "metadata": {
    "collapsed": false,
    "pycharm": {
     "name": "#%%\n"
    }
   }
  },
  {
   "cell_type": "code",
   "execution_count": null,
   "outputs": [],
   "source": [],
   "metadata": {
    "collapsed": false,
    "pycharm": {
     "name": "#%%\n"
    }
   }
  }
 ],
 "metadata": {
  "kernelspec": {
   "display_name": "Python 3",
   "language": "python",
   "name": "python3"
  },
  "language_info": {
   "codemirror_mode": {
    "name": "ipython",
    "version": 2
   },
   "file_extension": ".py",
   "mimetype": "text/x-python",
   "name": "python",
   "nbconvert_exporter": "python",
   "pygments_lexer": "ipython2",
   "version": "2.7.6"
  }
 },
 "nbformat": 4,
 "nbformat_minor": 0
}